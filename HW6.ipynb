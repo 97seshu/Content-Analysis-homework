{
  "cells": [
    {
      "cell_type": "markdown",
      "metadata": {
        "id": "0BSK1d1difY2"
      },
      "source": [
        "# Week 6 - Prediction & Causal Inference\n",
        "\n",
        "Name: Senling Shu"
      ]
    },
    {
      "cell_type": "code",
      "execution_count": 3,
      "metadata": {
        "id": "ugoLJHhJifY4"
      },
      "outputs": [],
      "source": [
        "#Special module written for this class\n",
        "#This provides access to data and to helper functions from previous weeks\n",
        "#Make sure you update it before starting this notebook\n",
        "import lucem_illud #pip install -U git+git://github.com/UChicago-Computational-Content-Analysis/lucem_illud.git\n",
        "\n",
        "#All these packages need to be installed from pip\n",
        "import requests #For getting files\n",
        "import zipfile #For managing zips\n",
        "import numpy as np #For arrays\n",
        "import scipy as sp #For some stats\n",
        "import pandas as pd #Gives us DataFrames\n",
        "import numpy as np #Math and matrices\n",
        "import matplotlib.pyplot as plt #For graphics\n",
        "\n",
        "# statsmodels is a popular Python statistics package\n",
        "import statsmodels.api as sm\n",
        "# Let's also import its graphics module\n",
        "import statsmodels.graphics.api as smg\n",
        "# And the mediation module\n",
        "from statsmodels.stats.mediation import Mediation\n",
        "\n",
        "# Pipelines to add text-based quantiative variables for regressions\n",
        "from transformers import pipeline\n",
        "\n",
        "# We have a lot of features, so let's set Pandas to show all of them.\n",
        "pd.set_option('display.max_columns', None)"
      ]
    },
    {
      "cell_type": "markdown",
      "metadata": {
        "id": "qwEHyG8JifY-"
      },
      "source": [
        "## <font color=\"red\">*Exercise 1*</font>\n",
        "\n",
        "<font color=\"red\">Describe 2 separate predictions relevant to your project and associated texts, which involve predicting text that has not been observed based on patterns that have. Then, in a single, short paragraph, describe a research design through which you could use textual features and the tools of classification and regression to evaluate these predictions."
      ]
    },
    {
      "cell_type": "markdown",
      "source": [
        "My final project is about MBTI personality types. One dataset I will collect is the descriptions about each of the 16 personality types from relevant website.\n",
        "(1) One classification task that I can do for my final project is to use word counts to predict whether the descriptions indicate an E(extraversion) type or an I(introversion) type of personality with a logistic regression classifier. I can count the frequency of words such as \"party\", \"outdoor\", or \"social\" and then use them to predict one of the 2 types.\n",
        "(2) Another task I can do is to simply classify these descriptions into several classes/clusters based on the textual feature - word2vec. This can also be done with a logistic regression classifier.        "
      ],
      "metadata": {
        "id": "aOEogjCRZOna"
      }
    },
    {
      "cell_type": "markdown",
      "metadata": {
        "id": "GKtw0nAvifZJ"
      },
      "source": [
        "## <font color=\"red\">*Exercise 2*</font>\n",
        "\n",
        "<font color=\"red\">Propose a simple causal model in your data, or a different causal model in the annotated Internet Arguments Corpus (e.g., a different treatment, a different outcome), and test it using a linear or logistic regression model. If you are using social media data for your final project, we encourage you to classify or annotate a sample of that data (either compuationally or with human annotators) and examine the effect of texts on replies to that text (e.g., Reddit posts on Reddit comments, Tweets on Twitter replies, YouTube video transcripts on YouTube comments or ratings). You do not need to make a graph of the causal model, but please make it clear (e.g., \"X affects Y, and C affects both X and Y.\").\n",
        "    \n",
        "<font color=\"red\">Also consider using the [ConvoKit datasets](https://convokit.cornell.edu/documentation/datasets.html)! Anytime there is conversation, there is an opportunity to explore the effects of early parts of the conversation on later parts. We will explore this further in Week 8 on Text Generation and Conversation.\n",
        "    \n",
        "<font color=\"red\">***Stretch*** (not required): Propose a more robust identification strategy using either matching, difference in difference, regression discontinuity, or an instrumental variable. Each of these methods usually gives you a more precise identification of the causal effect than a unconditional regression. Scott Cunningham's [Causal Inference: The Mixtape](https://mixtape.scunning.com/) is a free textbook on these topics, and all have good YouTube video explanations."
      ]
    },
    {
      "cell_type": "markdown",
      "source": [
        "I am trying to predict whether the respondent is questioning the original poster or is asserting their own ideas (i.e. question/assert). The factors that I think may play roles are agree/disagree, attack/insult, nice/nasty, and negotiate/attack. I would expect that if the respondent questions the original poster, she/he would show more disagreement, exihibit more attacks, have a nastier attitude, and be more likely to have an argument of their own.  "
      ],
      "metadata": {
        "id": "IK3wyt_YNTRv"
      }
    },
    {
      "cell_type": "code",
      "source": [
        "triples = triples.dropna()"
      ],
      "metadata": {
        "id": "wYqSJSvYJu5Q"
      },
      "execution_count": 47,
      "outputs": []
    },
    {
      "cell_type": "code",
      "source": [
        "triples['questioning-asserting_r2']"
      ],
      "metadata": {
        "colab": {
          "base_uri": "https://localhost:8080/"
        },
        "id": "ZKExjHuSNTc7",
        "outputId": "085f3005-e670-4620-9188-09890307256f"
      },
      "execution_count": 100,
      "outputs": [
        {
          "output_type": "execute_result",
          "data": {
            "text/plain": [
              "0       1.500000\n",
              "1      -1.500000\n",
              "3      -1.500000\n",
              "4       3.250000\n",
              "5       1.750000\n",
              "          ...   \n",
              "1341   -0.750000\n",
              "1342    2.500000\n",
              "1343    2.000000\n",
              "1344   -0.333333\n",
              "1345    3.250000\n",
              "Name: questioning-asserting_r2, Length: 1125, dtype: float64"
            ]
          },
          "metadata": {},
          "execution_count": 100
        }
      ]
    },
    {
      "cell_type": "code",
      "source": [
        "X_cols = [\"nicenasty_r2\", \"negotiate-attack_r2\", \"attack_r2\", \"agree-disagree_r2\"]\n",
        "sm.add_constant(triples[X_cols])"
      ],
      "metadata": {
        "colab": {
          "base_uri": "https://localhost:8080/",
          "height": 423
        },
        "id": "mPNdcRdbOAP-",
        "outputId": "63b218b7-c0fb-4bc9-a945-c8e3625dba8f"
      },
      "execution_count": 105,
      "outputs": [
        {
          "output_type": "execute_result",
          "data": {
            "text/html": [
              "\n",
              "  <div id=\"df-339d4e02-d224-496e-9d9b-337354af2a6c\">\n",
              "    <div class=\"colab-df-container\">\n",
              "      <div>\n",
              "<style scoped>\n",
              "    .dataframe tbody tr th:only-of-type {\n",
              "        vertical-align: middle;\n",
              "    }\n",
              "\n",
              "    .dataframe tbody tr th {\n",
              "        vertical-align: top;\n",
              "    }\n",
              "\n",
              "    .dataframe thead th {\n",
              "        text-align: right;\n",
              "    }\n",
              "</style>\n",
              "<table border=\"1\" class=\"dataframe\">\n",
              "  <thead>\n",
              "    <tr style=\"text-align: right;\">\n",
              "      <th></th>\n",
              "      <th>const</th>\n",
              "      <th>nicenasty_r2</th>\n",
              "      <th>negotiate-attack_r2</th>\n",
              "      <th>attack_r2</th>\n",
              "      <th>agree-disagree_r2</th>\n",
              "    </tr>\n",
              "  </thead>\n",
              "  <tbody>\n",
              "    <tr>\n",
              "      <th>0</th>\n",
              "      <td>1.0</td>\n",
              "      <td>0.500000</td>\n",
              "      <td>3.500000</td>\n",
              "      <td>0.333333</td>\n",
              "      <td>0.600000</td>\n",
              "    </tr>\n",
              "    <tr>\n",
              "      <th>1</th>\n",
              "      <td>1.0</td>\n",
              "      <td>0.500000</td>\n",
              "      <td>2.000000</td>\n",
              "      <td>0.833333</td>\n",
              "      <td>0.600000</td>\n",
              "    </tr>\n",
              "    <tr>\n",
              "      <th>3</th>\n",
              "      <td>1.0</td>\n",
              "      <td>0.000000</td>\n",
              "      <td>1.500000</td>\n",
              "      <td>-1.333333</td>\n",
              "      <td>0.600000</td>\n",
              "    </tr>\n",
              "    <tr>\n",
              "      <th>4</th>\n",
              "      <td>1.0</td>\n",
              "      <td>1.166667</td>\n",
              "      <td>-1.750000</td>\n",
              "      <td>1.166667</td>\n",
              "      <td>0.428571</td>\n",
              "    </tr>\n",
              "    <tr>\n",
              "      <th>5</th>\n",
              "      <td>1.0</td>\n",
              "      <td>-1.600000</td>\n",
              "      <td>1.250000</td>\n",
              "      <td>-2.000000</td>\n",
              "      <td>0.200000</td>\n",
              "    </tr>\n",
              "    <tr>\n",
              "      <th>...</th>\n",
              "      <td>...</td>\n",
              "      <td>...</td>\n",
              "      <td>...</td>\n",
              "      <td>...</td>\n",
              "      <td>...</td>\n",
              "    </tr>\n",
              "    <tr>\n",
              "      <th>1341</th>\n",
              "      <td>1.0</td>\n",
              "      <td>-2.666667</td>\n",
              "      <td>1.500000</td>\n",
              "      <td>-3.166667</td>\n",
              "      <td>0.200000</td>\n",
              "    </tr>\n",
              "    <tr>\n",
              "      <th>1342</th>\n",
              "      <td>1.0</td>\n",
              "      <td>1.750000</td>\n",
              "      <td>-3.000000</td>\n",
              "      <td>0.750000</td>\n",
              "      <td>0.600000</td>\n",
              "    </tr>\n",
              "    <tr>\n",
              "      <th>1343</th>\n",
              "      <td>1.0</td>\n",
              "      <td>1.200000</td>\n",
              "      <td>-1.200000</td>\n",
              "      <td>2.200000</td>\n",
              "      <td>0.000000</td>\n",
              "    </tr>\n",
              "    <tr>\n",
              "      <th>1344</th>\n",
              "      <td>1.0</td>\n",
              "      <td>0.200000</td>\n",
              "      <td>-0.333333</td>\n",
              "      <td>0.200000</td>\n",
              "      <td>0.571429</td>\n",
              "    </tr>\n",
              "    <tr>\n",
              "      <th>1345</th>\n",
              "      <td>1.0</td>\n",
              "      <td>1.200000</td>\n",
              "      <td>-3.000000</td>\n",
              "      <td>1.000000</td>\n",
              "      <td>0.428571</td>\n",
              "    </tr>\n",
              "  </tbody>\n",
              "</table>\n",
              "<p>1125 rows × 5 columns</p>\n",
              "</div>\n",
              "      <button class=\"colab-df-convert\" onclick=\"convertToInteractive('df-339d4e02-d224-496e-9d9b-337354af2a6c')\"\n",
              "              title=\"Convert this dataframe to an interactive table.\"\n",
              "              style=\"display:none;\">\n",
              "        \n",
              "  <svg xmlns=\"http://www.w3.org/2000/svg\" height=\"24px\"viewBox=\"0 0 24 24\"\n",
              "       width=\"24px\">\n",
              "    <path d=\"M0 0h24v24H0V0z\" fill=\"none\"/>\n",
              "    <path d=\"M18.56 5.44l.94 2.06.94-2.06 2.06-.94-2.06-.94-.94-2.06-.94 2.06-2.06.94zm-11 1L8.5 8.5l.94-2.06 2.06-.94-2.06-.94L8.5 2.5l-.94 2.06-2.06.94zm10 10l.94 2.06.94-2.06 2.06-.94-2.06-.94-.94-2.06-.94 2.06-2.06.94z\"/><path d=\"M17.41 7.96l-1.37-1.37c-.4-.4-.92-.59-1.43-.59-.52 0-1.04.2-1.43.59L10.3 9.45l-7.72 7.72c-.78.78-.78 2.05 0 2.83L4 21.41c.39.39.9.59 1.41.59.51 0 1.02-.2 1.41-.59l7.78-7.78 2.81-2.81c.8-.78.8-2.07 0-2.86zM5.41 20L4 18.59l7.72-7.72 1.47 1.35L5.41 20z\"/>\n",
              "  </svg>\n",
              "      </button>\n",
              "      \n",
              "  <style>\n",
              "    .colab-df-container {\n",
              "      display:flex;\n",
              "      flex-wrap:wrap;\n",
              "      gap: 12px;\n",
              "    }\n",
              "\n",
              "    .colab-df-convert {\n",
              "      background-color: #E8F0FE;\n",
              "      border: none;\n",
              "      border-radius: 50%;\n",
              "      cursor: pointer;\n",
              "      display: none;\n",
              "      fill: #1967D2;\n",
              "      height: 32px;\n",
              "      padding: 0 0 0 0;\n",
              "      width: 32px;\n",
              "    }\n",
              "\n",
              "    .colab-df-convert:hover {\n",
              "      background-color: #E2EBFA;\n",
              "      box-shadow: 0px 1px 2px rgba(60, 64, 67, 0.3), 0px 1px 3px 1px rgba(60, 64, 67, 0.15);\n",
              "      fill: #174EA6;\n",
              "    }\n",
              "\n",
              "    [theme=dark] .colab-df-convert {\n",
              "      background-color: #3B4455;\n",
              "      fill: #D2E3FC;\n",
              "    }\n",
              "\n",
              "    [theme=dark] .colab-df-convert:hover {\n",
              "      background-color: #434B5C;\n",
              "      box-shadow: 0px 1px 3px 1px rgba(0, 0, 0, 0.15);\n",
              "      filter: drop-shadow(0px 1px 2px rgba(0, 0, 0, 0.3));\n",
              "      fill: #FFFFFF;\n",
              "    }\n",
              "  </style>\n",
              "\n",
              "      <script>\n",
              "        const buttonEl =\n",
              "          document.querySelector('#df-339d4e02-d224-496e-9d9b-337354af2a6c button.colab-df-convert');\n",
              "        buttonEl.style.display =\n",
              "          google.colab.kernel.accessAllowed ? 'block' : 'none';\n",
              "\n",
              "        async function convertToInteractive(key) {\n",
              "          const element = document.querySelector('#df-339d4e02-d224-496e-9d9b-337354af2a6c');\n",
              "          const dataTable =\n",
              "            await google.colab.kernel.invokeFunction('convertToInteractive',\n",
              "                                                     [key], {});\n",
              "          if (!dataTable) return;\n",
              "\n",
              "          const docLinkHtml = 'Like what you see? Visit the ' +\n",
              "            '<a target=\"_blank\" href=https://colab.research.google.com/notebooks/data_table.ipynb>data table notebook</a>'\n",
              "            + ' to learn more about interactive tables.';\n",
              "          element.innerHTML = '';\n",
              "          dataTable['output_type'] = 'display_data';\n",
              "          await google.colab.output.renderOutput(dataTable, element);\n",
              "          const docLink = document.createElement('div');\n",
              "          docLink.innerHTML = docLinkHtml;\n",
              "          element.appendChild(docLink);\n",
              "        }\n",
              "      </script>\n",
              "    </div>\n",
              "  </div>\n",
              "  "
            ],
            "text/plain": [
              "      const  nicenasty_r2  negotiate-attack_r2  attack_r2  agree-disagree_r2\n",
              "0       1.0      0.500000             3.500000   0.333333           0.600000\n",
              "1       1.0      0.500000             2.000000   0.833333           0.600000\n",
              "3       1.0      0.000000             1.500000  -1.333333           0.600000\n",
              "4       1.0      1.166667            -1.750000   1.166667           0.428571\n",
              "5       1.0     -1.600000             1.250000  -2.000000           0.200000\n",
              "...     ...           ...                  ...        ...                ...\n",
              "1341    1.0     -2.666667             1.500000  -3.166667           0.200000\n",
              "1342    1.0      1.750000            -3.000000   0.750000           0.600000\n",
              "1343    1.0      1.200000            -1.200000   2.200000           0.000000\n",
              "1344    1.0      0.200000            -0.333333   0.200000           0.571429\n",
              "1345    1.0      1.200000            -3.000000   1.000000           0.428571\n",
              "\n",
              "[1125 rows x 5 columns]"
            ]
          },
          "metadata": {},
          "execution_count": 105
        }
      ]
    },
    {
      "cell_type": "code",
      "source": [
        "y = triples['questioning-asserting_r2']\n",
        "X_cols = [\"nicenasty_r2\", \"negotiate-attack_r2\", \"attack_r2\", \"agree-disagree_r2\"]\n",
        "X = sm.add_constant(triples[X_cols])\n",
        "\n",
        "lm2 = sm.OLS(y,X).fit()\n",
        "lm2.summary()"
      ],
      "metadata": {
        "colab": {
          "base_uri": "https://localhost:8080/",
          "height": 515
        },
        "id": "fd6IFXwZEEpn",
        "outputId": "a7a785ba-867e-4f09-a416-23e574b145a4"
      },
      "execution_count": 51,
      "outputs": [
        {
          "output_type": "execute_result",
          "data": {
            "text/html": [
              "<table class=\"simpletable\">\n",
              "<caption>OLS Regression Results</caption>\n",
              "<tr>\n",
              "  <th>Dep. Variable:</th>    <td>questioning-asserting_r2</td> <th>  R-squared:         </th> <td>   0.104</td>\n",
              "</tr>\n",
              "<tr>\n",
              "  <th>Model:</th>                       <td>OLS</td>           <th>  Adj. R-squared:    </th> <td>   0.101</td>\n",
              "</tr>\n",
              "<tr>\n",
              "  <th>Method:</th>                 <td>Least Squares</td>      <th>  F-statistic:       </th> <td>   32.50</td>\n",
              "</tr>\n",
              "<tr>\n",
              "  <th>Date:</th>                 <td>Thu, 24 Feb 2022</td>     <th>  Prob (F-statistic):</th> <td>1.16e-25</td>\n",
              "</tr>\n",
              "<tr>\n",
              "  <th>Time:</th>                     <td>02:27:55</td>         <th>  Log-Likelihood:    </th> <td> -2506.2</td>\n",
              "</tr>\n",
              "<tr>\n",
              "  <th>No. Observations:</th>          <td>  1125</td>          <th>  AIC:               </th> <td>   5022.</td>\n",
              "</tr>\n",
              "<tr>\n",
              "  <th>Df Residuals:</th>              <td>  1120</td>          <th>  BIC:               </th> <td>   5047.</td>\n",
              "</tr>\n",
              "<tr>\n",
              "  <th>Df Model:</th>                  <td>     4</td>          <th>                     </th>     <td> </td>   \n",
              "</tr>\n",
              "<tr>\n",
              "  <th>Covariance Type:</th>          <td>nonrobust</td>        <th>                     </th>     <td> </td>   \n",
              "</tr>\n",
              "</table>\n",
              "<table class=\"simpletable\">\n",
              "<tr>\n",
              "           <td></td>              <th>coef</th>     <th>std err</th>      <th>t</th>      <th>P>|t|</th>  <th>[0.025</th>    <th>0.975]</th>  \n",
              "</tr>\n",
              "<tr>\n",
              "  <th>const</th>               <td>    0.5749</td> <td>    0.148</td> <td>    3.891</td> <td> 0.000</td> <td>    0.285</td> <td>    0.865</td>\n",
              "</tr>\n",
              "<tr>\n",
              "  <th>nicenasty_r2</th>        <td>   -0.1845</td> <td>    0.115</td> <td>   -1.606</td> <td> 0.108</td> <td>   -0.410</td> <td>    0.041</td>\n",
              "</tr>\n",
              "<tr>\n",
              "  <th>negotiate-attack_r2</th> <td>   -0.3299</td> <td>    0.031</td> <td>  -10.611</td> <td> 0.000</td> <td>   -0.391</td> <td>   -0.269</td>\n",
              "</tr>\n",
              "<tr>\n",
              "  <th>attack_r2</th>           <td>    0.1423</td> <td>    0.112</td> <td>    1.275</td> <td> 0.202</td> <td>   -0.077</td> <td>    0.361</td>\n",
              "</tr>\n",
              "<tr>\n",
              "  <th>agree-disagree_r2</th>   <td>    0.1094</td> <td>    0.288</td> <td>    0.380</td> <td> 0.704</td> <td>   -0.455</td> <td>    0.674</td>\n",
              "</tr>\n",
              "</table>\n",
              "<table class=\"simpletable\">\n",
              "<tr>\n",
              "  <th>Omnibus:</th>       <td>24.420</td> <th>  Durbin-Watson:     </th> <td>   1.919</td>\n",
              "</tr>\n",
              "<tr>\n",
              "  <th>Prob(Omnibus):</th> <td> 0.000</td> <th>  Jarque-Bera (JB):  </th> <td>  25.686</td>\n",
              "</tr>\n",
              "<tr>\n",
              "  <th>Skew:</th>          <td>-0.370</td> <th>  Prob(JB):          </th> <td>2.64e-06</td>\n",
              "</tr>\n",
              "<tr>\n",
              "  <th>Kurtosis:</th>      <td> 2.974</td> <th>  Cond. No.          </th> <td>    12.7</td>\n",
              "</tr>\n",
              "</table><br/><br/>Warnings:<br/>[1] Standard Errors assume that the covariance matrix of the errors is correctly specified."
            ],
            "text/plain": [
              "<class 'statsmodels.iolib.summary.Summary'>\n",
              "\"\"\"\n",
              "                               OLS Regression Results                               \n",
              "====================================================================================\n",
              "Dep. Variable:     questioning-asserting_r2   R-squared:                       0.104\n",
              "Model:                                  OLS   Adj. R-squared:                  0.101\n",
              "Method:                       Least Squares   F-statistic:                     32.50\n",
              "Date:                      Thu, 24 Feb 2022   Prob (F-statistic):           1.16e-25\n",
              "Time:                              02:27:55   Log-Likelihood:                -2506.2\n",
              "No. Observations:                      1125   AIC:                             5022.\n",
              "Df Residuals:                          1120   BIC:                             5047.\n",
              "Df Model:                                 4                                         \n",
              "Covariance Type:                  nonrobust                                         \n",
              "=======================================================================================\n",
              "                          coef    std err          t      P>|t|      [0.025      0.975]\n",
              "---------------------------------------------------------------------------------------\n",
              "const                   0.5749      0.148      3.891      0.000       0.285       0.865\n",
              "nicenasty_r2           -0.1845      0.115     -1.606      0.108      -0.410       0.041\n",
              "negotiate-attack_r2    -0.3299      0.031    -10.611      0.000      -0.391      -0.269\n",
              "attack_r2               0.1423      0.112      1.275      0.202      -0.077       0.361\n",
              "agree-disagree_r2       0.1094      0.288      0.380      0.704      -0.455       0.674\n",
              "==============================================================================\n",
              "Omnibus:                       24.420   Durbin-Watson:                   1.919\n",
              "Prob(Omnibus):                  0.000   Jarque-Bera (JB):               25.686\n",
              "Skew:                          -0.370   Prob(JB):                     2.64e-06\n",
              "Kurtosis:                       2.974   Cond. No.                         12.7\n",
              "==============================================================================\n",
              "\n",
              "Warnings:\n",
              "[1] Standard Errors assume that the covariance matrix of the errors is correctly specified.\n",
              "\"\"\""
            ]
          },
          "metadata": {},
          "execution_count": 51
        }
      ]
    },
    {
      "cell_type": "markdown",
      "source": [
        "It seems that whether the respondent has an argument of their own is largely predictive."
      ],
      "metadata": {
        "id": "_D5tCNMrOVKC"
      }
    },
    {
      "cell_type": "markdown",
      "metadata": {
        "id": "0Z7Sv6ePifZJ"
      },
      "source": [
        "## <font color=\"red\">*Exercise 3*</font>\n",
        "\n",
        "<font color=\"red\">Propose a measure you could generate to fill in or improve upon the simple causal model you proposed above and how you would split the data (e.g., a % of your main data, a separate-but-informative dataset). You do not have to produce the measure.\n",
        "    \n",
        "<font color=\"red\">***Stretch*** (not required): Produce the measure and integrate it into your statistical analysis. This could be a great approach for your final project!"
      ]
    },
    {
      "cell_type": "code",
      "source": [
        "corr_matrix = np.corrcoef(triples[X_cols].T)\n",
        "smg.plot_corr(corr_matrix, xnames=X_cols)\n",
        "plt.show()"
      ],
      "metadata": {
        "colab": {
          "base_uri": "https://localhost:8080/",
          "height": 297
        },
        "id": "0sMF8KWWO8yi",
        "outputId": "76eac1f4-35a6-4ca0-8444-f03402a1aefe"
      },
      "execution_count": 49,
      "outputs": [
        {
          "output_type": "display_data",
          "data": {
            "image/png": "[encoded data removed]",
            "text/plain": [
              "<Figure size 432x288 with 2 Axes>"
            ]
          },
          "metadata": {
            "needs_background": "light"
          }
        }
      ]
    },
    {
      "cell_type": "markdown",
      "source": [
        "The correlation matrix shows that nicenasty_r2 and attack_r2 are highly correlated. One thing we could do is to combine the 2 variables into one single variable and look at its effect on questioning-asserting_r2. \n",
        "\n",
        "I think I would split the data with a test size = 0.3. "
      ],
      "metadata": {
        "id": "U_eyNC1VSkOk"
      }
    },
    {
      "cell_type": "markdown",
      "metadata": {
        "id": "2Y_6EtB5ifZM"
      },
      "source": [
        "## <font color=\"red\">*Exercise 4*</font>\n",
        "\n",
        "<font color=\"red\">Propose a mediation model related to the simple causal model you proposed above (ideally on the dataset you're using for your final project). If you have measures for each variable in the model, run the analysis: You can just copy the \"Mediation analysis\" cell above and replace with your variables. If you do not have measures, do not run the analysis, but be clear as to the effect(s) you would like to estimate and the research design you would use to test them."
      ]
    },
    {
      "cell_type": "markdown",
      "source": [
        "I think one mediation variable that affects the relationship of negotiate/attack and question/assert could be the token-based similarity between the original post and the respondent's post. The similarity is higher if the respondent simply attacking the original poster's argument since they need to recycle some ideas and words. In contrast, the similarity is lower if the respondent seem to have an arugment of their own. \n",
        "\n",
        "Model: negotiate/attack affects similarity score, and similarity score affects question/assert  "
      ],
      "metadata": {
        "id": "LKyNsz20hJH_"
      }
    },
    {
      "cell_type": "markdown",
      "metadata": {
        "id": "k27w9aRpifZP"
      },
      "source": [
        "## <font color=\"red\">*Exercise 5*</font>\n",
        "\n",
        "<font color=\"red\">Propose a confounder in your final project data that could be controlled for using the method of Pryzant et al. Generate an appropriate CSV file and run it on some vocabulary in your corpus. If you have no such confounder available for your final project, you can use `complaints.csv` with a new vocabulary or for different variables (e.g., `Sub-product`, `Company`) or you can further explore the interesting case of `mortgage`. Also keep in mind the [ConvoKit datasets](https://convokit.cornell.edu/documentation/datasets.html). In any case, be sure to interpret the results. What does the output of `causal_attribution.score_vocab()` mean in your context?"
      ]
    },
    {
      "cell_type": "code",
      "source": [
        "issue_num = complaints['Issue'].value_counts()\n",
        "issue_num"
      ],
      "metadata": {
        "colab": {
          "base_uri": "https://localhost:8080/"
        },
        "id": "OQnhGikcqIAz",
        "outputId": "77ebda64-7075-43ea-94b9-3c703c30c79a"
      },
      "execution_count": 67,
      "outputs": [
        {
          "output_type": "execute_result",
          "data": {
            "text/plain": [
              "Incorrect information on your report                                                591573\n",
              "Problem with a credit reporting company's investigation into an existing problem    272744\n",
              "Attempts to collect debt not owed                                                   129418\n",
              "Loan modification,collection,foreclosure                                            112309\n",
              "Incorrect information on credit report                                              102685\n",
              "                                                                                     ...  \n",
              "Lender damaged or destroyed vehicle                                                      8\n",
              "Problem with an overdraft                                                                8\n",
              "Lender sold the property                                                                 7\n",
              "Property was damaged or destroyed property                                               6\n",
              "Lender damaged or destroyed property                                                     3\n",
              "Name: Issue, Length: 165, dtype: int64"
            ]
          },
          "metadata": {},
          "execution_count": 67
        }
      ]
    },
    {
      "cell_type": "code",
      "source": [
        "%%time\n",
        "\n",
        "importance_scores = causal_attribution.score_vocab(\n",
        "    vocab=[\n",
        "           # Words I expect to be associated with issue\n",
        "           'incorrect','false','trouble','improper','threaten','fraud','struggle','problem',\n",
        "           # Words I expect to be associated with product\n",
        "           'loan','credit','service','help','card',\n",
        "           # Words I expect to not be associated with either\n",
        "           'bad','good','help','thank','why','husband','wife','family'\n",
        "          ],\n",
        "    csv='complaints.csv',\n",
        "    delimiter=\",\",\n",
        "    name_to_type={\n",
        "        'Consumer complaint narrative': 'input',\n",
        "        'Issue': 'control',\n",
        "        'Product': 'predict',\n",
        "    })\n",
        "\n",
        "importance_scores['Product']['Student loan']"
      ],
      "metadata": {
        "colab": {
          "base_uri": "https://localhost:8080/"
        },
        "id": "xB5qfNE9qWc4",
        "outputId": "a344fc68-7d44-4ece-c4e0-69c9c99743a1"
      },
      "execution_count": 82,
      "outputs": [
        {
          "output_type": "stream",
          "name": "stderr",
          "text": [
            "/usr/local/lib/python3.7/dist-packages/ipykernel_launcher.py:16: DtypeWarning: Columns (9) have mixed types.Specify dtype option on import or set low_memory=False.\n",
            "  app.launch_new_instance()\n"
          ]
        },
        {
          "output_type": "stream",
          "name": "stdout",
          "text": [
            "CPU times: user 29.3 s, sys: 983 ms, total: 30.3 s\n",
            "Wall time: 30.3 s\n"
          ]
        }
      ]
    },
    {
      "cell_type": "code",
      "source": [
        "importance_scores['Product']['Student loan']"
      ],
      "metadata": {
        "colab": {
          "base_uri": "https://localhost:8080/"
        },
        "id": "jTB4pjNqH0O2",
        "outputId": "c7897f17-95c5-47b2-8c22-b6cdaaa3e755"
      },
      "execution_count": 90,
      "outputs": [
        {
          "output_type": "execute_result",
          "data": {
            "text/plain": [
              "[('UNK', 3.775609578813601),\n",
              " ('loan', 2.7002351862493015),\n",
              " ('struggle', 2.6042514985019807),\n",
              " ('husband', 1.4261361586832209),\n",
              " ('help', 1.1498336647782708),\n",
              " ('service', 1.067681186070331),\n",
              " ('credit', 0.783010692379321),\n",
              " ('problem', 0.7165505176853912),\n",
              " ('good', 0.5465693157893838),\n",
              " ('family', 0.3611221917090006),\n",
              " ('fraud', 0.34063777068513446),\n",
              " ('bad', 0.2930872785655083),\n",
              " ('improper', 0.2843291924764344),\n",
              " ('trouble', 0.20805750532463207),\n",
              " ('false', 0.19867423809409956),\n",
              " ('help', 0.043197528342716396),\n",
              " ('card', 0.002211583176176646),\n",
              " ('PAD', -0.025723703351104632),\n",
              " ('why', -0.08599096185935196),\n",
              " ('wife', -0.19302745893310203),\n",
              " ('thank', -0.19947658766068344),\n",
              " ('threaten', -0.21515930550231133),\n",
              " ('incorrect', -0.2237291243945947)]"
            ]
          },
          "metadata": {},
          "execution_count": 90
        }
      ]
    },
    {
      "cell_type": "markdown",
      "source": [
        "When controlling for issues, the words that best explain the student loan product are \"loan\", \"struggle\", and \"husband\". Words (e.g. loan, help, and service) that fall into the product category, based on my definition in the causal_attribution.score_vocab(), are predictive of the output \"student loan\".  It seems that issue-related word \"struggle\" is also a good predictor of \"student loan\". And it is surprising that \"husband\" is placed so high on the rank. I expected it to be uncorrelated with either \"Issue\" or \"Student loan\".    "
      ],
      "metadata": {
        "id": "3Awptac64eSg"
      }
    },
    {
      "cell_type": "code",
      "source": [
        "from sklearn import preprocessing\n",
        "le = preprocessing.LabelEncoder()\n",
        "le.fit(complaints[\"Product\"])\n",
        "complaints[\"Product\"] = le.transform(complaints[\"Product\"])"
      ],
      "metadata": {
        "colab": {
          "base_uri": "https://localhost:8080/"
        },
        "id": "I4kcIUb0wZ1A",
        "outputId": "912c366a-ed77-46e2-e80b-10e3f09acb69"
      },
      "execution_count": 83,
      "outputs": [
        {
          "output_type": "execute_result",
          "data": {
            "text/plain": [
              "LabelEncoder()"
            ]
          },
          "metadata": {},
          "execution_count": 83
        }
      ]
    },
    {
      "cell_type": "code",
      "source": [
        "issue_product = complaints.groupby('Issue').agg({'Product': 'sum'}).sort_values(by=['Product'],ascending=False)\n",
        "pcts = issue_product.divide(issue_num,axis=0).sort_values(by=['Product'],ascending=False)\n",
        "pcts"
      ],
      "metadata": {
        "colab": {
          "base_uri": "https://localhost:8080/",
          "height": 423
        },
        "id": "OarDi7B2vksU",
        "outputId": "858c371a-9b07-4b8d-f1e6-d461d0dba5e4"
      },
      "execution_count": 89,
      "outputs": [
        {
          "output_type": "execute_result",
          "data": {
            "text/html": [
              "\n",
              "  <div id=\"df-50b2f315-cc44-49c2-ab75-3b3ff0b9d04c\">\n",
              "    <div class=\"colab-df-container\">\n",
              "      <div>\n",
              "<style scoped>\n",
              "    .dataframe tbody tr th:only-of-type {\n",
              "        vertical-align: middle;\n",
              "    }\n",
              "\n",
              "    .dataframe tbody tr th {\n",
              "        vertical-align: top;\n",
              "    }\n",
              "\n",
              "    .dataframe thead th {\n",
              "        text-align: right;\n",
              "    }\n",
              "</style>\n",
              "<table border=\"1\" class=\"dataframe\">\n",
              "  <thead>\n",
              "    <tr style=\"text-align: right;\">\n",
              "      <th></th>\n",
              "      <th>Product</th>\n",
              "    </tr>\n",
              "  </thead>\n",
              "  <tbody>\n",
              "    <tr>\n",
              "      <th>Problems at the end of the loan or lease</th>\n",
              "      <td>15.998394</td>\n",
              "    </tr>\n",
              "    <tr>\n",
              "      <th>Getting a loan or lease</th>\n",
              "      <td>15.981223</td>\n",
              "    </tr>\n",
              "    <tr>\n",
              "      <th>Getting a loan</th>\n",
              "      <td>15.000000</td>\n",
              "    </tr>\n",
              "    <tr>\n",
              "      <th>Can't repay my loan</th>\n",
              "      <td>15.000000</td>\n",
              "    </tr>\n",
              "    <tr>\n",
              "      <th>Repaying your loan</th>\n",
              "      <td>15.000000</td>\n",
              "    </tr>\n",
              "    <tr>\n",
              "      <th>...</th>\n",
              "      <td>...</td>\n",
              "    </tr>\n",
              "    <tr>\n",
              "      <th>Account opening, closing, or management</th>\n",
              "      <td>0.000000</td>\n",
              "    </tr>\n",
              "    <tr>\n",
              "      <th>Making/receiving payments, sending money</th>\n",
              "      <td>0.000000</td>\n",
              "    </tr>\n",
              "    <tr>\n",
              "      <th>Using a debit or ATM card</th>\n",
              "      <td>0.000000</td>\n",
              "    </tr>\n",
              "    <tr>\n",
              "      <th>Deposits and withdrawals</th>\n",
              "      <td>0.000000</td>\n",
              "    </tr>\n",
              "    <tr>\n",
              "      <th>Problems caused by my funds being low</th>\n",
              "      <td>0.000000</td>\n",
              "    </tr>\n",
              "  </tbody>\n",
              "</table>\n",
              "<p>165 rows × 1 columns</p>\n",
              "</div>\n",
              "      <button class=\"colab-df-convert\" onclick=\"convertToInteractive('df-50b2f315-cc44-49c2-ab75-3b3ff0b9d04c')\"\n",
              "              title=\"Convert this dataframe to an interactive table.\"\n",
              "              style=\"display:none;\">\n",
              "        \n",
              "  <svg xmlns=\"http://www.w3.org/2000/svg\" height=\"24px\"viewBox=\"0 0 24 24\"\n",
              "       width=\"24px\">\n",
              "    <path d=\"M0 0h24v24H0V0z\" fill=\"none\"/>\n",
              "    <path d=\"M18.56 5.44l.94 2.06.94-2.06 2.06-.94-2.06-.94-.94-2.06-.94 2.06-2.06.94zm-11 1L8.5 8.5l.94-2.06 2.06-.94-2.06-.94L8.5 2.5l-.94 2.06-2.06.94zm10 10l.94 2.06.94-2.06 2.06-.94-2.06-.94-.94-2.06-.94 2.06-2.06.94z\"/><path d=\"M17.41 7.96l-1.37-1.37c-.4-.4-.92-.59-1.43-.59-.52 0-1.04.2-1.43.59L10.3 9.45l-7.72 7.72c-.78.78-.78 2.05 0 2.83L4 21.41c.39.39.9.59 1.41.59.51 0 1.02-.2 1.41-.59l7.78-7.78 2.81-2.81c.8-.78.8-2.07 0-2.86zM5.41 20L4 18.59l7.72-7.72 1.47 1.35L5.41 20z\"/>\n",
              "  </svg>\n",
              "      </button>\n",
              "      \n",
              "  <style>\n",
              "    .colab-df-container {\n",
              "      display:flex;\n",
              "      flex-wrap:wrap;\n",
              "      gap: 12px;\n",
              "    }\n",
              "\n",
              "    .colab-df-convert {\n",
              "      background-color: #E8F0FE;\n",
              "      border: none;\n",
              "      border-radius: 50%;\n",
              "      cursor: pointer;\n",
              "      display: none;\n",
              "      fill: #1967D2;\n",
              "      height: 32px;\n",
              "      padding: 0 0 0 0;\n",
              "      width: 32px;\n",
              "    }\n",
              "\n",
              "    .colab-df-convert:hover {\n",
              "      background-color: #E2EBFA;\n",
              "      box-shadow: 0px 1px 2px rgba(60, 64, 67, 0.3), 0px 1px 3px 1px rgba(60, 64, 67, 0.15);\n",
              "      fill: #174EA6;\n",
              "    }\n",
              "\n",
              "    [theme=dark] .colab-df-convert {\n",
              "      background-color: #3B4455;\n",
              "      fill: #D2E3FC;\n",
              "    }\n",
              "\n",
              "    [theme=dark] .colab-df-convert:hover {\n",
              "      background-color: #434B5C;\n",
              "      box-shadow: 0px 1px 3px 1px rgba(0, 0, 0, 0.15);\n",
              "      filter: drop-shadow(0px 1px 2px rgba(0, 0, 0, 0.3));\n",
              "      fill: #FFFFFF;\n",
              "    }\n",
              "  </style>\n",
              "\n",
              "      <script>\n",
              "        const buttonEl =\n",
              "          document.querySelector('#df-50b2f315-cc44-49c2-ab75-3b3ff0b9d04c button.colab-df-convert');\n",
              "        buttonEl.style.display =\n",
              "          google.colab.kernel.accessAllowed ? 'block' : 'none';\n",
              "\n",
              "        async function convertToInteractive(key) {\n",
              "          const element = document.querySelector('#df-50b2f315-cc44-49c2-ab75-3b3ff0b9d04c');\n",
              "          const dataTable =\n",
              "            await google.colab.kernel.invokeFunction('convertToInteractive',\n",
              "                                                     [key], {});\n",
              "          if (!dataTable) return;\n",
              "\n",
              "          const docLinkHtml = 'Like what you see? Visit the ' +\n",
              "            '<a target=\"_blank\" href=https://colab.research.google.com/notebooks/data_table.ipynb>data table notebook</a>'\n",
              "            + ' to learn more about interactive tables.';\n",
              "          element.innerHTML = '';\n",
              "          dataTable['output_type'] = 'display_data';\n",
              "          await google.colab.output.renderOutput(dataTable, element);\n",
              "          const docLink = document.createElement('div');\n",
              "          docLink.innerHTML = docLinkHtml;\n",
              "          element.appendChild(docLink);\n",
              "        }\n",
              "      </script>\n",
              "    </div>\n",
              "  </div>\n",
              "  "
            ],
            "text/plain": [
              "                                            Product\n",
              "Problems at the end of the loan or lease  15.998394\n",
              "Getting a loan or lease                   15.981223\n",
              "Getting a loan                            15.000000\n",
              "Can't repay my loan                       15.000000\n",
              "Repaying your loan                        15.000000\n",
              "...                                             ...\n",
              "Account opening, closing, or management    0.000000\n",
              "Making/receiving payments, sending money   0.000000\n",
              "Using a debit or ATM card                  0.000000\n",
              "Deposits and withdrawals                   0.000000\n",
              "Problems caused by my funds being low      0.000000\n",
              "\n",
              "[165 rows x 1 columns]"
            ]
          },
          "metadata": {},
          "execution_count": 89
        }
      ]
    },
    {
      "cell_type": "markdown",
      "source": [
        "Loan-related issues are closely associated with \"student loan\", confirming the prediction results. "
      ],
      "metadata": {
        "id": "f3Npy7b1KQUZ"
      }
    }
  ],
  "metadata": {
    "anaconda-cloud": {},
    "kernelspec": {
      "display_name": "Python 3 (ipykernel)",
      "language": "python",
      "name": "python3"
    },
    "language_info": {
      "codemirror_mode": {
        "name": "ipython",
        "version": 3
      },
      "file_extension": ".py",
      "mimetype": "text/x-python",
      "name": "python",
      "nbconvert_exporter": "python",
      "pygments_lexer": "ipython3",
      "version": "3.9.7"
    },
    "colab": {
      "name": "HW6.ipynb",
      "provenance": [],
      "collapsed_sections": []
    }
  },
  "nbformat": 4,
  "nbformat_minor": 0
}