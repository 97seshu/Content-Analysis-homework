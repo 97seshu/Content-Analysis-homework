{
  "cells": [
    {
      "cell_type": "markdown",
      "metadata": {
        "id": "0WfX10CnJ1HG"
      },
      "source": [
        "# Week 8 - Conversation and Text Generation\n",
        "Name: Senling Shu"
      ]
    },
    {
      "cell_type": "markdown",
      "metadata": {
        "id": "Xf5hfyK3J1J-"
      },
      "source": [
        "## <font color=\"red\">*Exercise 1*</font>\n",
        "\n",
        "<font color=\"red\">Construct cells immediately below this that use ConvoKit to analyze a Corpus other than 'subreddit-Cornell', including at least one function you find in the package not used above. You can also generate a ConvoKit Corpus from your own dataset based on [their Corpus from .txt files tutorial](https://github.com/CornellNLP/Cornell-Conversational-Analysis-Toolkit/blob/master/examples/converting_movie_corpus.ipynb) or [their Corpus from pandas tutorial](https://github.com/CornellNLP/Cornell-Conversational-Analysis-Toolkit/blob/master/examples/corpus_from_pandas.ipynb), but that may be time-consuming for a weekly assignment. (It could be a great idea for your final project!)"
      ]
    },
    {
      "cell_type": "code",
      "source": [
        "corpus = Corpus(download('reddit-corpus-small'))"
      ],
      "metadata": {
        "colab": {
          "base_uri": "https://localhost:8080/",
          "height": 70
        },
        "id": "HyZUFXWPNNaO",
        "outputId": "d2dba9cd-0e64-4f17-d00a-8cb48f07e7f5"
      },
      "execution_count": null,
      "outputs": [
        {
          "output_type": "display_data",
          "data": {
            "text/html": [
              "\n",
              "  <style>\n",
              "    pre {\n",
              "        white-space: pre-wrap;\n",
              "    }\n",
              "  </style>\n",
              "  "
            ],
            "text/plain": [
              "<IPython.core.display.HTML object>"
            ]
          },
          "metadata": {}
        },
        {
          "output_type": "stream",
          "name": "stdout",
          "text": [
            "Downloading reddit-corpus-small to /root/.convokit/downloads/reddit-corpus-small\n",
            "Downloading reddit-corpus-small from http://zissou.infosci.cornell.edu/convokit/datasets/subreddit-corpus/reddit-corpus-small.corpus.zip (37.9MB)... Done\n"
          ]
        }
      ]
    },
    {
      "cell_type": "code",
      "source": [
        "corpus.print_summary_stats()"
      ],
      "metadata": {
        "colab": {
          "base_uri": "https://localhost:8080/",
          "height": 70
        },
        "id": "4qPl9ddwOPzt",
        "outputId": "eb9d5cc1-85e4-402d-f04b-094f8a463a3d"
      },
      "execution_count": null,
      "outputs": [
        {
          "output_type": "display_data",
          "data": {
            "text/html": [
              "\n",
              "  <style>\n",
              "    pre {\n",
              "        white-space: pre-wrap;\n",
              "    }\n",
              "  </style>\n",
              "  "
            ],
            "text/plain": [
              "<IPython.core.display.HTML object>"
            ]
          },
          "metadata": {}
        },
        {
          "output_type": "stream",
          "name": "stdout",
          "text": [
            "Number of Speakers: 119889\n",
            "Number of Utterances: 297132\n",
            "Number of Conversations: 8286\n"
          ]
        }
      ]
    },
    {
      "cell_type": "code",
      "source": [
        "corpus.random_conversation().meta"
      ],
      "metadata": {
        "colab": {
          "base_uri": "https://localhost:8080/",
          "height": 195
        },
        "id": "gdQCEHsIN8Gh",
        "outputId": "8e83e936-7af0-4566-91d9-c1a879b37dc2"
      },
      "execution_count": null,
      "outputs": [
        {
          "output_type": "display_data",
          "data": {
            "text/html": [
              "\n",
              "  <style>\n",
              "    pre {\n",
              "        white-space: pre-wrap;\n",
              "    }\n",
              "  </style>\n",
              "  "
            ],
            "text/plain": [
              "<IPython.core.display.HTML object>"
            ]
          },
          "metadata": {}
        },
        {
          "output_type": "execute_result",
          "data": {
            "text/plain": [
              "{'author_flair_text': '',\n",
              " 'domain': 'i.redd.it',\n",
              " 'gilded': 0,\n",
              " 'gildings': {'gid_1': 0, 'gid_2': 0, 'gid_3': 0},\n",
              " 'num_comments': 22,\n",
              " 'stickied': False,\n",
              " 'subreddit': 'POLITIC',\n",
              " 'timestamp': 1537984910,\n",
              " 'title': 'She graduated from high school in 1980 and was going to these parties in 1981-83. Kavanaugh graduated in 1983. Why was she going to high school parties and raping underage boys?'}"
            ]
          },
          "metadata": {},
          "execution_count": 19
        }
      ]
    },
    {
      "cell_type": "code",
      "source": [
        "corpus.random_utterance().meta"
      ],
      "metadata": {
        "colab": {
          "base_uri": "https://localhost:8080/",
          "height": 177
        },
        "id": "t7mJWgp2ODIg",
        "outputId": "30929b39-56e6-4994-b621-d47d77995633"
      },
      "execution_count": null,
      "outputs": [
        {
          "output_type": "display_data",
          "data": {
            "text/html": [
              "\n",
              "  <style>\n",
              "    pre {\n",
              "        white-space: pre-wrap;\n",
              "    }\n",
              "  </style>\n",
              "  "
            ],
            "text/plain": [
              "<IPython.core.display.HTML object>"
            ]
          },
          "metadata": {}
        },
        {
          "output_type": "execute_result",
          "data": {
            "text/plain": [
              "{'author_flair_text': '',\n",
              " 'gilded': 0,\n",
              " 'gildings': {'gid_1': 0, 'gid_2': 0, 'gid_3': 0},\n",
              " 'permalink': '/r/aww/comments/9f63bd/what_is_this_cutest_caterpillar_i_have_ever_seen/e5udzfp/',\n",
              " 'retrieved_on': 1538973507,\n",
              " 'score': 10,\n",
              " 'stickied': False,\n",
              " 'subreddit': 'aww',\n",
              " 'top_level_comment': 'e5u36pp'}"
            ]
          },
          "metadata": {},
          "execution_count": 20
        }
      ]
    },
    {
      "cell_type": "code",
      "source": [
        "corpus.random_speaker()"
      ],
      "metadata": {
        "colab": {
          "base_uri": "https://localhost:8080/",
          "height": 52
        },
        "id": "m06hElsHOLSl",
        "outputId": "0f83141f-9eab-4b1a-d543-b7be5ea0d984"
      },
      "execution_count": null,
      "outputs": [
        {
          "output_type": "display_data",
          "data": {
            "text/html": [
              "\n",
              "  <style>\n",
              "    pre {\n",
              "        white-space: pre-wrap;\n",
              "    }\n",
              "  </style>\n",
              "  "
            ],
            "text/plain": [
              "<IPython.core.display.HTML object>"
            ]
          },
          "metadata": {}
        },
        {
          "output_type": "execute_result",
          "data": {
            "text/plain": [
              "Speaker({'obj_type': 'speaker', 'meta': {'num_posts': 0, 'num_comments': 1}, 'vectors': [], 'owner': <convokit.model.corpus.Corpus object at 0x7f604d5bec90>, 'id': 'FORESKIN_HOLOCAUST'})"
            ]
          },
          "metadata": {},
          "execution_count": 22
        }
      ]
    },
    {
      "cell_type": "code",
      "source": [
        "for utt in corpus.iter_utterances():\n",
        "    print(utt.text)\n",
        "    break "
      ],
      "metadata": {
        "colab": {
          "base_uri": "https://localhost:8080/",
          "height": 52
        },
        "id": "Kq9Vr6v_OaZQ",
        "outputId": "77ca1c49-8314-4fd4-b8d8-8e4d286829ab"
      },
      "execution_count": null,
      "outputs": [
        {
          "output_type": "display_data",
          "data": {
            "text/html": [
              "\n",
              "  <style>\n",
              "    pre {\n",
              "        white-space: pre-wrap;\n",
              "    }\n",
              "  </style>\n",
              "  "
            ],
            "text/plain": [
              "<IPython.core.display.HTML object>"
            ]
          },
          "metadata": {}
        },
        {
          "output_type": "stream",
          "name": "stdout",
          "text": [
            "Talk about your day. Anything goes, but subreddit rules still apply. Please be polite to each other! \n",
            "\n"
          ]
        }
      ]
    },
    {
      "cell_type": "code",
      "source": [
        "##New Function\n",
        "for speaker in corpus.iter_speakers():\n",
        "    print(speaker.id)\n",
        "    break"
      ],
      "metadata": {
        "colab": {
          "base_uri": "https://localhost:8080/",
          "height": 35
        },
        "id": "CvvAC7_sOcBM",
        "outputId": "44a626dc-c80c-4811-bbb2-2c8242a00ffb"
      },
      "execution_count": null,
      "outputs": [
        {
          "output_type": "display_data",
          "data": {
            "text/html": [
              "\n",
              "  <style>\n",
              "    pre {\n",
              "        white-space: pre-wrap;\n",
              "    }\n",
              "  </style>\n",
              "  "
            ],
            "text/plain": [
              "<IPython.core.display.HTML object>"
            ]
          },
          "metadata": {}
        },
        {
          "output_type": "stream",
          "name": "stdout",
          "text": [
            "AutoModerator\n"
          ]
        }
      ]
    },
    {
      "cell_type": "code",
      "source": [
        "utt = corpus.random_utterance()\n",
        "convo = utt.get_conversation()\n",
        "convo_spkrs = list(convo.iter_utterances())\n",
        "convo_spkrs[:5]"
      ],
      "metadata": {
        "colab": {
          "base_uri": "https://localhost:8080/",
          "height": 678
        },
        "id": "9vCFkKBDPHlH",
        "outputId": "d2d56da2-b7f3-4fd3-f35d-3ba798aa9526"
      },
      "execution_count": null,
      "outputs": [
        {
          "output_type": "display_data",
          "data": {
            "text/html": [
              "\n",
              "  <style>\n",
              "    pre {\n",
              "        white-space: pre-wrap;\n",
              "    }\n",
              "  </style>\n",
              "  "
            ],
            "text/plain": [
              "<IPython.core.display.HTML object>"
            ]
          },
          "metadata": {}
        },
        {
          "output_type": "execute_result",
          "data": {
            "text/plain": [
              "[Utterance({'obj_type': 'utterance', 'meta': {'score': 12, 'top_level_comment': None, 'retrieved_on': 1540143537, 'gilded': 0, 'gildings': {'gid_1': 0, 'gid_2': 0, 'gid_3': 0}, 'subreddit': 'SquaredCircle', 'stickied': False, 'permalink': '/r/SquaredCircle/comments/9h1lc6/just_watched_goto_vs_taichi_for_the_never_title/', 'author_flair_text': \"I'M ALIVE!\"}, 'vectors': [], 'speaker': Speaker({'obj_type': 'speaker', 'meta': {'num_posts': 2, 'num_comments': 1}, 'vectors': [], 'owner': <convokit.model.corpus.Corpus object at 0x7f604d5bec90>, 'id': 'ceps2111'}), 'conversation_id': '9h1lc6', 'reply_to': None, 'timestamp': 1537326775, 'text': 'FUCK YEAH! THIS IS THE GREATEST DAY IN THE HISTORY OF THIS BUSINESS!', 'owner': <convokit.model.corpus.Corpus object at 0x7f604d5bec90>, 'id': '9h1lc6'}),\n",
              " Utterance({'obj_type': 'utterance', 'meta': {'score': 17, 'top_level_comment': 'e68i0b0', 'retrieved_on': 1539213657, 'gilded': 0, 'gildings': {'gid_1': 0, 'gid_2': 0, 'gid_3': 0}, 'subreddit': 'SquaredCircle', 'stickied': False, 'permalink': '/r/SquaredCircle/comments/9h1lc6/just_watched_goto_vs_taichi_for_the_never_title/e68i0b0/', 'author_flair_text': 'Based Bout Machine'}, 'vectors': [], 'speaker': Speaker({'obj_type': 'speaker', 'meta': {'num_posts': 1, 'num_comments': 1}, 'vectors': [], 'owner': <convokit.model.corpus.Corpus object at 0x7f604d5bec90>, 'id': 'dvvheaven'}), 'conversation_id': '9h1lc6', 'reply_to': '9h1lc6', 'timestamp': 1537327598, 'text': 'I fucking hate the Taichi meme. The NEVER title used to put out MOTYC all the time, and now it’s on a mediocre as fuck wrestler who has shitty overbooked matches. ', 'owner': <convokit.model.corpus.Corpus object at 0x7f604d5bec90>, 'id': 'e68i0b0'}),\n",
              " Utterance({'obj_type': 'utterance', 'meta': {'score': 4, 'top_level_comment': 'e68i0b0', 'retrieved_on': 1539213680, 'gilded': 0, 'gildings': {'gid_1': 0, 'gid_2': 0, 'gid_3': 0}, 'subreddit': 'SquaredCircle', 'stickied': False, 'permalink': '/r/SquaredCircle/comments/9h1lc6/just_watched_goto_vs_taichi_for_the_never_title/e68i2b3/', 'author_flair_text': ''}, 'vectors': [], 'speaker': Speaker({'obj_type': 'speaker', 'meta': {'num_posts': 0, 'num_comments': 1}, 'vectors': [], 'owner': <convokit.model.corpus.Corpus object at 0x7f604d5bec90>, 'id': 'chief_awf'}), 'conversation_id': '9h1lc6', 'reply_to': 'e68i0b0', 'timestamp': 1537327658, 'text': 'same', 'owner': <convokit.model.corpus.Corpus object at 0x7f604d5bec90>, 'id': 'e68i2b3'}),\n",
              " Utterance({'obj_type': 'utterance', 'meta': {'score': 16, 'top_level_comment': 'e68i0b0', 'retrieved_on': 1539214063, 'gilded': 0, 'gildings': {'gid_1': 0, 'gid_2': 0, 'gid_3': 0}, 'subreddit': 'SquaredCircle', 'stickied': False, 'permalink': '/r/SquaredCircle/comments/9h1lc6/just_watched_goto_vs_taichi_for_the_never_title/e68iyy0/', 'author_flair_text': 'Formerly Known As \"Freakin\"'}, 'vectors': [], 'speaker': Speaker({'obj_type': 'speaker', 'meta': {'num_posts': 0, 'num_comments': 2}, 'vectors': [], 'owner': <convokit.model.corpus.Corpus object at 0x7f604d5bec90>, 'id': 'A_Little_Older'}), 'conversation_id': '9h1lc6', 'reply_to': 'e68i0b0', 'timestamp': 1537328667, 'text': 'I really hate this meme of falling behind shit wrestlers ironically while good wrestlers actually exist. ', 'owner': <convokit.model.corpus.Corpus object at 0x7f604d5bec90>, 'id': 'e68iyy0'}),\n",
              " Utterance({'obj_type': 'utterance', 'meta': {'score': 7, 'top_level_comment': 'e68i0b0', 'retrieved_on': 1539214063, 'gilded': 0, 'gildings': {'gid_1': 0, 'gid_2': 0, 'gid_3': 0}, 'subreddit': 'SquaredCircle', 'stickied': False, 'permalink': '/r/SquaredCircle/comments/9h1lc6/just_watched_goto_vs_taichi_for_the_never_title/e68iyye/', 'author_flair_text': 'LA Parklife'}, 'vectors': [], 'speaker': Speaker({'obj_type': 'speaker', 'meta': {'num_posts': 0, 'num_comments': 1}, 'vectors': [], 'owner': <convokit.model.corpus.Corpus object at 0x7f604d5bec90>, 'id': 'BerkLerzer'}), 'conversation_id': '9h1lc6', 'reply_to': 'e68i0b0', 'timestamp': 1537328667, 'text': '&gt; medicare as fuck wrestler', 'owner': <convokit.model.corpus.Corpus object at 0x7f604d5bec90>, 'id': 'e68iyye'})]"
            ]
          },
          "metadata": {},
          "execution_count": 27
        }
      ]
    },
    {
      "cell_type": "markdown",
      "metadata": {
        "id": "WoWVdPeWJ1Kn"
      },
      "source": [
        "## <font color=\"red\">*Exercise 2*</font>\n",
        "\n",
        "<font color=\"red\">Construct cells immediately below this that perform a similar social similarity or influence analysis on a dataset relevant to your final project (__or one from ConvoKit__). Create relationships between actors in a network based on your dataset (e.g., person to person or document to document), and perform analyses that interrogate the structure of their interactions, similarity, and/or influence on one another. (For example, if relevant to your final project, you could explore different soap operas, counting how many times a character may have used the word love in conversation with another character, and identify if characters in love speak like each other. Or do opposites attract?) What does that analysis and its output reveal about the relative influence of each actor on others? What does it reveal about the social game being played?\n",
        "\n",
        "<font color=\"red\">Stretch 1:\n",
        "Render the social network with weights (e.g., based on the number of scenes in which actors appear together), then calculate the most central actors in the show.Realtime output can be viewed in shell.\n",
        "\n",
        "<font color=\"red\">Stretch 2:\n",
        "Implement more complex measures of similarity based on the papers you have read."
      ]
    },
    {
      "cell_type": "code",
      "source": [
        "INFJ = pd.read_csv(\"/content/drive/MyDrive/Final Project/INFJ_All_Tweets.csv\")"
      ],
      "metadata": {
        "id": "Ixw1S7w0Td2S"
      },
      "execution_count": null,
      "outputs": []
    },
    {
      "cell_type": "code",
      "source": [
        "INFJ.Text"
      ],
      "metadata": {
        "colab": {
          "base_uri": "https://localhost:8080/"
        },
        "outputId": "41b05182-f3f0-41bf-bc25-7a356a5e6ac0",
        "id": "YndMhlMQTd2T"
      },
      "execution_count": null,
      "outputs": [
        {
          "output_type": "execute_result",
          "data": {
            "text/plain": [
              "0        @HappyDebbyRyan @electricv0ice I'm an INFJ, to...\n",
              "1        To my fellow #infj women, a New Year is coming...\n",
              "2        To my fellow #infj women, a New Year is coming...\n",
              "3        \"Looking for something to fill the void\" huh? ...\n",
              "4                  Thoughts / INFJ https://t.co/7IY9Ws88U7\n",
              "                               ...                        \n",
              "25000          @rhysrelic Slytherin, infj e grey's anatomy\n",
              "25001    @wp_SMAMX @saferprint @worthy4yourlove @cynthi...\n",
              "25002    @Whippenz @saferprint @worthy4yourlove @cynthi...\n",
              "25003    @saferprint @worthy4yourlove @cynthia_ann @Che...\n",
              "25004    @Whippenz @yoga_and_more @saferprint @worthy4y...\n",
              "Name: Text, Length: 25005, dtype: object"
            ]
          },
          "metadata": {},
          "execution_count": 9
        }
      ]
    },
    {
      "cell_type": "code",
      "source": [
        "types = ['ISTJ','ISTP','ISFJ','ISFP',\n",
        "         'INFJ','INFP','INTJ','INTP',\n",
        "         'ESTP','ESTJ','ESFP','ESFJ',\n",
        "         'ENFP','ENFJ','ENTP','ENTJ']"
      ],
      "metadata": {
        "id": "9ByD7jFmTd2T"
      },
      "execution_count": null,
      "outputs": []
    },
    {
      "cell_type": "code",
      "source": [
        "freq = {}\n",
        "tt1 = 0\n",
        "tt2 = 0 \n",
        "tt3 = 0\n",
        "tt4 = 0\n",
        "tt5 = 0\n",
        "tt6 = 0\n",
        "tt7 = 0\n",
        "tt8 = 0\n",
        "tt9 = 0\n",
        "tt10 = 0\n",
        "tt11 = 0\n",
        "tt12 = 0\n",
        "tt13 = 0\n",
        "tt14 = 0\n",
        "tt15 = 0\n",
        "tt16 = 0"
      ],
      "metadata": {
        "id": "VDBShtjXRviM"
      },
      "execution_count": null,
      "outputs": []
    },
    {
      "cell_type": "code",
      "source": [
        "for i in INFJ.Text:\n",
        "  if 'ISTJ' in i:\n",
        "    tt1 += 1\n",
        "  if 'ISTP' in i:\n",
        "    tt2 += 1\n",
        "  if 'ISFJ' in i:\n",
        "    tt3 += 1\n",
        "  if 'ISFP' in i:\n",
        "    tt4 += 1\n",
        "  if 'INFJ' in i:\n",
        "    tt5 += 1\n",
        "  if 'INFP' in i:\n",
        "    tt6 += 1\n",
        "  if 'INTJ' in i:\n",
        "    tt7 += 1\n",
        "  if 'INTP' in i:\n",
        "    tt8 += 1\n",
        "  if 'ESTJ' in i:\n",
        "    tt9 += 1\n",
        "  if 'ESTP' in i:\n",
        "    tt10 += 1\n",
        "  if 'ESFJ' in i:\n",
        "    tt11 += 1\n",
        "  if 'ESFP' in i:\n",
        "    tt12 += 1\n",
        "  if 'ENFJ' in i:\n",
        "    tt13 += 1\n",
        "  if 'ENFP' in i:\n",
        "    tt14 += 1\n",
        "  if 'ENTP' in i:\n",
        "    tt15 += 1\n",
        "  if 'ENTJ' in i:\n",
        "    tt16 += 1\n",
        "  \n",
        "  freq['ISTJ'] = tt1\n",
        "  freq['ISTP'] = tt2 \n",
        "  freq['ISFJ'] = tt3 \n",
        "  freq['ISFP'] = tt4 \n",
        "  freq['INFJ'] = tt5 \n",
        "  freq['INFP'] = tt6 \n",
        "  freq['INTJ'] = tt7 \n",
        "  freq['INTP'] = tt8 \n",
        "  freq['ESTJ'] = tt9 \n",
        "  freq['ESTP'] = tt10 \n",
        "  freq['ESFJ'] = tt11 \n",
        "  freq['ESFP'] = tt12 \n",
        "  freq['ENFJ'] = tt13\n",
        "  freq['ENFP'] = tt14 \n",
        "  freq['ENTP'] = tt15\n",
        "  freq['ENTJ'] = tt16 "
      ],
      "metadata": {
        "id": "HlCzFxLsTd2T"
      },
      "execution_count": null,
      "outputs": []
    },
    {
      "cell_type": "code",
      "source": [
        "freq"
      ],
      "metadata": {
        "colab": {
          "base_uri": "https://localhost:8080/"
        },
        "outputId": "282189f8-45d3-4838-ecff-43f51aa284aa",
        "id": "U0A81a9jTd2U"
      },
      "execution_count": null,
      "outputs": [
        {
          "output_type": "execute_result",
          "data": {
            "text/plain": [
              "{'ENFJ': 338,\n",
              " 'ENFP': 323,\n",
              " 'ENTJ': 107,\n",
              " 'ENTP': 187,\n",
              " 'ESFJ': 62,\n",
              " 'ESFP': 67,\n",
              " 'ESTJ': 64,\n",
              " 'ESTP': 89,\n",
              " 'INFJ': 15915,\n",
              " 'INFP': 925,\n",
              " 'INTJ': 593,\n",
              " 'INTP': 265,\n",
              " 'ISFJ': 231,\n",
              " 'ISFP': 142,\n",
              " 'ISTJ': 119,\n",
              " 'ISTP': 112}"
            ]
          },
          "metadata": {},
          "execution_count": 65
        }
      ]
    },
    {
      "cell_type": "code",
      "source": [
        "freq"
      ],
      "metadata": {
        "colab": {
          "base_uri": "https://localhost:8080/"
        },
        "id": "iNZEvRgxMV8r",
        "outputId": "56ac990d-8b34-4c7a-d4b7-27e9d90ab013"
      },
      "execution_count": 44,
      "outputs": [
        {
          "output_type": "execute_result",
          "data": {
            "text/plain": [
              "{'ENFJ': 338,\n",
              " 'ENTJ': 107,\n",
              " 'ENTP': 187,\n",
              " 'ESFJ': 62,\n",
              " 'ESFP': 67,\n",
              " 'ESTJ': 64,\n",
              " 'ESTP': 89,\n",
              " 'INFJ': 15915,\n",
              " 'INFP': 925,\n",
              " 'INTJ': 593,\n",
              " 'INTP': 265,\n",
              " 'ISFJ': 231,\n",
              " 'ISFP': 142,\n",
              " 'ISTJ': 119,\n",
              " 'ISTP': 112}"
            ]
          },
          "metadata": {},
          "execution_count": 44
        }
      ]
    },
    {
      "cell_type": "code",
      "source": [
        "actor_network = nx.Graph()"
      ],
      "metadata": {
        "id": "MwrCLTFBMwR7"
      },
      "execution_count": 69,
      "outputs": []
    },
    {
      "cell_type": "code",
      "source": [
        "actor_network.add_edges_from([('ENFP', 'INFJ', {'weight': 323})], color='blue')\n",
        "actor_network.add_edges_from([('ENFJ', 'INFJ', {'weight': 338})], color='blue')\n",
        "actor_network.add_edges_from([('ENTJ', 'INFJ', {'weight': 107})], color='blue')\n",
        "actor_network.add_edges_from([('ENTP', 'INFJ', {'weight': 187})], color='blue')\n",
        "actor_network.add_edges_from([('ESFJ', 'INFJ', {'weight': 62})], color='blue')\n",
        "actor_network.add_edges_from([('ESFP', 'INFJ', {'weight': 67})], color='blue')\n",
        "actor_network.add_edges_from([('ESTJ', 'INFJ', {'weight': 64})], color='blue')\n",
        "actor_network.add_edges_from([('ESTP', 'INFJ', {'weight': 189})], color='blue')\n",
        "actor_network.add_edges_from([('INFP', 'INFJ', {'weight': 925})],color='blue')\n",
        "actor_network.add_edges_from([('INTJ', 'INFJ', {'weight': 593})], color='blue')\n",
        "actor_network.add_edges_from([('INTP', 'INFJ', {'weight': 265})], color='blue')\n",
        "actor_network.add_edges_from([('ISFJ', 'INFJ', {'weight': 231})], color='blue')\n",
        "actor_network.add_edges_from([('ISFP', 'INFJ', {'weight': 142})], color='blue')\n",
        "actor_network.add_edges_from([('ISTJ', 'INFJ', {'weight': 119})], color='blue')\n",
        "actor_network.add_edges_from([('ISTP', 'INFJ', {'weight': 112})], color='blue')"
      ],
      "metadata": {
        "id": "KscverNBOGiE"
      },
      "execution_count": 75,
      "outputs": []
    },
    {
      "cell_type": "code",
      "execution_count": 76,
      "metadata": {
        "id": "GalQBXhgJ1KU",
        "colab": {
          "base_uri": "https://localhost:8080/",
          "height": 319
        },
        "outputId": "04ac0c99-3fff-4ec5-d07d-b6aca94107b6"
      },
      "outputs": [
        {
          "output_type": "display_data",
          "data": {
            "image/png": "[encoded data removed]",
            "text/plain": [
              "<Figure size 432x288 with 1 Axes>"
            ]
          },
          "metadata": {}
        }
      ],
      "source": [
        "nx.draw(actor_network, with_labels=True, font_weight='bold')"
      ]
    },
    {
      "cell_type": "code",
      "source": [
        "actor_network.nodes()"
      ],
      "metadata": {
        "colab": {
          "base_uri": "https://localhost:8080/"
        },
        "id": "GmyXP_p2UY2a",
        "outputId": "a35f3713-bcd6-4031-8104-a36f56ab8fa5"
      },
      "execution_count": 79,
      "outputs": [
        {
          "output_type": "execute_result",
          "data": {
            "text/plain": [
              "NodeView(('ENFP', 'INFJ', 'ENFJ', 'ENTJ', 'ENTP', 'ESFJ', 'ESFP', 'ESTJ', 'ESTP', 'INFP', 'INTJ', 'INTP', 'ISFJ', 'ISFP', 'ISTJ', 'ISTP'))"
            ]
          },
          "metadata": {},
          "execution_count": 79
        }
      ]
    },
    {
      "cell_type": "markdown",
      "source": [
        "The corpora I am working with are about MBTI. Here, I am looking specifically at the INFJ corpus. The relationship is created based on the frequency of appearances of every other personality type in the INFJ corpus. More frequent appearances shows a larger bond between the two types of personality. For example, the graph above indicates that INFJs are likely to mention INFPs and INTJs in their posts or they are likely to be mentioned together with the other two types. They might be close friends, loved ones, or even enemies. We can't tell from this graph but we know they have close connections. In contrast, ESTJ and ESFj are rarely connected with INFJs. "
      ],
      "metadata": {
        "id": "skao4jyd7qgG"
      }
    },
    {
      "cell_type": "markdown",
      "metadata": {
        "id": "qCLMj-N9J1LZ"
      },
      "source": [
        "## <font color=\"red\">*Exercise 3*</font>\n",
        "\n",
        "<font color=\"red\">Construct cells immediately below this that generate a BERT-powered chatbot tuned on text related to your final project. What is interesting about this model, and how to does it compare to an untrained model? What does it reveal about the social game involved with your dataset?"
      ]
    },
    {
      "cell_type": "code",
      "source": [
        "from transformers import pipeline"
      ],
      "metadata": {
        "id": "pko4q6mJCVDO"
      },
      "execution_count": 16,
      "outputs": []
    },
    {
      "cell_type": "code",
      "source": [
        "#### Trained with the bert-base-cased model, used as the control condition\n",
        "unmasker = pipeline('fill-mask', model='bert-base-cased') "
      ],
      "metadata": {
        "colab": {
          "base_uri": "https://localhost:8080/"
        },
        "id": "KV65uwrUCUzc",
        "outputId": "6407a0cc-9a58-402c-b7a6-34eb98aa787c"
      },
      "execution_count": 14,
      "outputs": [
        {
          "output_type": "stream",
          "name": "stderr",
          "text": [
            "Some weights of the model checkpoint at bert-base-cased were not used when initializing BertForMaskedLM: ['cls.seq_relationship.bias', 'cls.seq_relationship.weight']\n",
            "- This IS expected if you are initializing BertForMaskedLM from the checkpoint of a model trained on another task or with another architecture (e.g. initializing a BertForSequenceClassification model from a BertForPreTraining model).\n",
            "- This IS NOT expected if you are initializing BertForMaskedLM from the checkpoint of a model that you expect to be exactly identical (initializing a BertForSequenceClassification model from a BertForSequenceClassification model).\n"
          ]
        }
      ]
    },
    {
      "cell_type": "code",
      "source": [
        "unmasker(\"Extraversion enjoys to [MASK].\")"
      ],
      "metadata": {
        "colab": {
          "base_uri": "https://localhost:8080/"
        },
        "id": "MQ9tfGKOHxwE",
        "outputId": "d41a72b4-ef89-4477-97c2-040dd7c44759"
      },
      "execution_count": 15,
      "outputs": [
        {
          "output_type": "execute_result",
          "data": {
            "text/plain": [
              "[{'score': 0.02937329187989235,\n",
              "  'sequence': 'Extraversion enjoys to eat.',\n",
              "  'token': 3940,\n",
              "  'token_str': 'eat'},\n",
              " {'score': 0.028651176020503044,\n",
              "  'sequence': 'Extraversion enjoys to kill.',\n",
              "  'token': 2311,\n",
              "  'token_str': 'kill'},\n",
              " {'score': 0.022506404668092728,\n",
              "  'sequence': 'Extraversion enjoys to die.',\n",
              "  'token': 2939,\n",
              "  'token_str': 'die'},\n",
              " {'score': 0.019363747909665108,\n",
              "  'sequence': 'Extraversion enjoys toil.',\n",
              "  'token': 2723,\n",
              "  'token_str': '##il'},\n",
              " {'score': 0.016111599281430244,\n",
              "  'sequence': 'Extraversion enjoys to love.',\n",
              "  'token': 1567,\n",
              "  'token_str': 'love'}]"
            ]
          },
          "metadata": {},
          "execution_count": 15
        }
      ]
    },
    {
      "cell_type": "code",
      "source": [
        "unmasker(\"Introversion enjoys to [MASK].\")"
      ],
      "metadata": {
        "colab": {
          "base_uri": "https://localhost:8080/"
        },
        "id": "q1CX86WNCUnK",
        "outputId": "76ba0f67-dc45-4ad7-9e43-31ce06ca4daa"
      },
      "execution_count": 17,
      "outputs": [
        {
          "output_type": "execute_result",
          "data": {
            "text/plain": [
              "[{'score': 0.03006105124950409,\n",
              "  'sequence': 'Introversion enjoys to play.',\n",
              "  'token': 1505,\n",
              "  'token_str': 'play'},\n",
              " {'score': 0.02254554070532322,\n",
              "  'sequence': 'Introversion enjoys to read.',\n",
              "  'token': 2373,\n",
              "  'token_str': 'read'},\n",
              " {'score': 0.015525439754128456,\n",
              "  'sequence': 'Introversion enjoys to talk.',\n",
              "  'token': 2037,\n",
              "  'token_str': 'talk'},\n",
              " {'score': 0.012528794817626476,\n",
              "  'sequence': 'Introversion enjoys to watch.',\n",
              "  'token': 2824,\n",
              "  'token_str': 'watch'},\n",
              " {'score': 0.01213847380131483,\n",
              "  'sequence': 'Introversion enjoys to enjoy.',\n",
              "  'token': 5548,\n",
              "  'token_str': 'enjoy'}]"
            ]
          },
          "metadata": {},
          "execution_count": 17
        }
      ]
    },
    {
      "cell_type": "code",
      "source": [
        "#####Trained on psychology related corpus \n",
        "unmasker = pipeline('fill-mask', model='nlp4good/psych-search')"
      ],
      "metadata": {
        "id": "tcIbWIBXL4ih"
      },
      "execution_count": 35,
      "outputs": []
    },
    {
      "cell_type": "code",
      "source": [
        "unmasker(\"Extraversion enjoys to [MASK].\")"
      ],
      "metadata": {
        "colab": {
          "base_uri": "https://localhost:8080/"
        },
        "id": "d8dUZAgsMA4x",
        "outputId": "85f3c094-8950-4988-b4f3-b3b5db447ffd"
      },
      "execution_count": 36,
      "outputs": [
        {
          "output_type": "execute_result",
          "data": {
            "text/plain": [
              "[{'score': 0.06487154960632324,\n",
              "  'sequence': 'extraversion enjoys to us.',\n",
              "  'token': 227,\n",
              "  'token_str': 'us'},\n",
              " {'score': 0.04077182337641716,\n",
              "  'sequence': 'extraversion enjoys to me.',\n",
              "  'token': 366,\n",
              "  'token_str': 'me'},\n",
              " {'score': 0.03487880900502205,\n",
              "  'sequence': 'extraversion enjoys to health.',\n",
              "  'token': 947,\n",
              "  'token_str': 'health'},\n",
              " {'score': 0.031738653779029846,\n",
              "  'sequence': 'extraversion enjoys to you.',\n",
              "  'token': 3034,\n",
              "  'token_str': 'you'},\n",
              " {'score': 0.022833576425909996,\n",
              "  'sequence': 'extraversion enjoys to work.',\n",
              "  'token': 697,\n",
              "  'token_str': 'work'}]"
            ]
          },
          "metadata": {},
          "execution_count": 36
        }
      ]
    },
    {
      "cell_type": "code",
      "source": [
        "unmasker(\"Introversion enjoys to [MASK].\")"
      ],
      "metadata": {
        "colab": {
          "base_uri": "https://localhost:8080/"
        },
        "id": "TdRgvPwuMDv-",
        "outputId": "3cc7b742-afd6-4ac9-c9be-f75c3bb38527"
      },
      "execution_count": 37,
      "outputs": [
        {
          "output_type": "execute_result",
          "data": {
            "text/plain": [
              "[{'score': 0.03765008971095085,\n",
              "  'sequence': 'introversion enjoys to us.',\n",
              "  'token': 227,\n",
              "  'token_str': 'us'},\n",
              " {'score': 0.03380953148007393,\n",
              "  'sequence': 'introversion enjoys to me.',\n",
              "  'token': 366,\n",
              "  'token_str': 'me'},\n",
              " {'score': 0.02870168723165989,\n",
              "  'sequence': 'introversion enjoys to work.',\n",
              "  'token': 697,\n",
              "  'token_str': 'work'},\n",
              " {'score': 0.02461439184844494,\n",
              "  'sequence': 'introversion enjoys to health.',\n",
              "  'token': 947,\n",
              "  'token_str': 'health'},\n",
              " {'score': 0.024369411170482635,\n",
              "  'sequence': 'introversion enjoys to self.',\n",
              "  'token': 1968,\n",
              "  'token_str': 'self'}]"
            ]
          },
          "metadata": {},
          "execution_count": 37
        }
      ]
    },
    {
      "cell_type": "markdown",
      "source": [
        "Because I am interested in studying personality, I think the 'nlp4good/psych-search' might be a good model for me to ask personality-related question. The outcomes show little difference between what \"extraversion\" and \"introversion\" enjoy to do. The responses don't actually make that much sense to me. I guess the corpus that the model trained on was pretty limited. In contrast, when I tried the 'bert-base-cased' model, which I used as the controlled/untrained condition, the results are more interesting. The respones for \"introversion\" make a lot sense, and they are quite different from the responses for \"extraversion\". Feel like \"extraversion\" is perceived more negatively. Not sure if extroverts like to kill or die, but the responses are definitely more negative than those for \"introversion\".   "
      ],
      "metadata": {
        "id": "1vwacYABM2l9"
      }
    },
    {
      "cell_type": "markdown",
      "metadata": {
        "id": "1lYBxJnZJ1Lj"
      },
      "source": [
        "## <font color=\"red\">*Exercise 4*</font>\n",
        "\n",
        "<font color=\"red\">What's a research question relevant to your final project that would benefit from a generative or conversational model like GPT-2 or GPT-3? What task would you have it perform, and how would you evaluate the ouput?\n",
        "    \n",
        "<font color=\"red\">_Stretch:_ Do it!"
      ]
    },
    {
      "cell_type": "markdown",
      "source": [
        "I can utilize the GPT-2 or GPT-3 models to ask about traits associated with certain personality types. For example, I can ask that \"extraverts tend to...\" and see what kinds of responses it generates. I can evaluate the output by comparing the model's response with the answer I get from my analysis of the personality corpus. It will be interesting to see if the model's answers align with the data I have.   "
      ],
      "metadata": {
        "id": "bQNC6TNW6MTk"
      }
    },
    {
      "cell_type": "code",
      "source": [
        "from transformers import AutoModelWithLMHead, AutoTokenizer\n",
        "\n",
        "tokenizer_gpt = AutoTokenizer.from_pretrained(\"gpt2\")\n",
        "model_gpt = AutoModelWithLMHead.from_pretrained(\"gpt2\")"
      ],
      "metadata": {
        "colab": {
          "base_uri": "https://localhost:8080/",
          "height": 177,
          "referenced_widgets": [
            "f6ed53aeaddf45b8bb6e1e8bfb89cbdf",
            "0618de92cc8d4148808a88a5de577600",
            "c729a0d6c8ff4bc3ac403d0da6da0a7d",
            "922be0e867f04ebc858e7f010a4de4ae",
            "e1251f1253194dceacb1627de6ea48a6",
            "d6cd00b4647d4f5098d8ae219317529c",
            "4cea8079d83747909f908df857666ad0",
            "4a24914b18ee4da6a5dc964818e88a27",
            "e208914a79284c9c855b1c9e6c7e47b7",
            "4e31bc1507ac4abdad53d05d32b074bf",
            "c3a3e78e086046fe91209302dbb90d77",
            "d788f24de6b5494aa2b5825175cd483a",
            "4fc3e99db9154991993c9393859545a4",
            "0223534f7e684b0d82e64b4b66fcfa9b",
            "0c51b61cc5df4310a2f221adb0457596",
            "e4400d622596481987dc87158b169701",
            "f0cf1d7e048f48599075ad8ae893a3d8",
            "623bb821114743229d7fe6d389eb436b",
            "8d7bc37f7a9d4fa58a68af3763a060d9",
            "8551a323ebc24569ad5da62954f326d8",
            "7cce5a1b357a45318034604a8d74b1f2",
            "a14036d13b434c0e98c5e0c6dae6ce66",
            "3c90cee8a4c74b4f84ab7c4c209d7763",
            "d30bce5fd20d48e6b5e02ffc8762a450",
            "5ddf24584cb34ef085ffff650afcf823",
            "e326f8e15ce94c298e9449ec5cc7ce32",
            "4ca049b9a72442399f209ee3995267d8",
            "5624774613724ba589e575e0a5c2afcf",
            "9300bc42b9e24f58b9280f9c3c94e74f",
            "fe2a90cbd6ff4e8abeb0d85bdc67f871",
            "b6c6db68a50d40519cdbd4d32016937a",
            "5def5d220e5d4628a799536d44e1fa7e",
            "ed150b2d344d47dcacbc03bfa17591e1",
            "65ac2b173b7144df95e4db538d6e7de3",
            "b0311e8a6d674f0ab4780f8f8ab5ec6a",
            "c735977bec7446fe8e3263ec1271d42a",
            "b4cbb571007040e2adb93be34f33d87c",
            "405100cb566e4895a1323aa2b1d4a0aa",
            "90ece77220b74b6eabafeb553684574d",
            "8b9292a1eeab49cd825e6214e4bdcbd7",
            "4e0827e2a9c84e708a295e7cd662f830",
            "7d63571c75b143a985e41c47748aa10e",
            "24ed8781a1f0446e9457a31df179394e",
            "821fdf94a6e14081a4db197090001ecb",
            "1b622db50e7e49c7885d0c7c060ca7d2",
            "be1fbe8b0bab4d8ca291cf05625c50f9",
            "2f5a89bdf594451499ac0b15f1ab94a2",
            "0e0b1197a72d40ba8996e720864be035",
            "60d8d299f2ae4efcb6f40089c07011dd",
            "31d223d69d234925a254e7241390d115",
            "58c0f3a1804c4a76bb457cf7a44d4096",
            "1dba6e7e05fd4e4b811384fafb004209",
            "52b5080592eb42c99e25b93df62b0bc5",
            "e5dbc54e3f4e4c7a85535dfb5ed245fb",
            "72d39b6e35734ff4b5d1730c1c07e9bb"
          ]
        },
        "outputId": "5c8990ab-a468-45fb-f4e9-f0124034943b",
        "id": "Lexq5DqKQPeM"
      },
      "execution_count": null,
      "outputs": [
        {
          "output_type": "display_data",
          "data": {
            "application/vnd.jupyter.widget-view+json": {
              "model_id": "f6ed53aeaddf45b8bb6e1e8bfb89cbdf",
              "version_minor": 0,
              "version_major": 2
            },
            "text/plain": [
              "Downloading:   0%|          | 0.00/665 [00:00<?, ?B/s]"
            ]
          },
          "metadata": {}
        },
        {
          "output_type": "display_data",
          "data": {
            "application/vnd.jupyter.widget-view+json": {
              "model_id": "d788f24de6b5494aa2b5825175cd483a",
              "version_minor": 0,
              "version_major": 2
            },
            "text/plain": [
              "Downloading:   0%|          | 0.00/0.99M [00:00<?, ?B/s]"
            ]
          },
          "metadata": {}
        },
        {
          "output_type": "display_data",
          "data": {
            "application/vnd.jupyter.widget-view+json": {
              "model_id": "3c90cee8a4c74b4f84ab7c4c209d7763",
              "version_minor": 0,
              "version_major": 2
            },
            "text/plain": [
              "Downloading:   0%|          | 0.00/446k [00:00<?, ?B/s]"
            ]
          },
          "metadata": {}
        },
        {
          "output_type": "display_data",
          "data": {
            "application/vnd.jupyter.widget-view+json": {
              "model_id": "65ac2b173b7144df95e4db538d6e7de3",
              "version_minor": 0,
              "version_major": 2
            },
            "text/plain": [
              "Downloading:   0%|          | 0.00/1.29M [00:00<?, ?B/s]"
            ]
          },
          "metadata": {}
        },
        {
          "output_type": "display_data",
          "data": {
            "application/vnd.jupyter.widget-view+json": {
              "model_id": "1b622db50e7e49c7885d0c7c060ca7d2",
              "version_minor": 0,
              "version_major": 2
            },
            "text/plain": [
              "Downloading:   0%|          | 0.00/523M [00:00<?, ?B/s]"
            ]
          },
          "metadata": {}
        }
      ]
    },
    {
      "cell_type": "code",
      "source": [
        "sequence1 = \"extraverts enjoy to\""
      ],
      "metadata": {
        "id": "8zgH11QTQPeO"
      },
      "execution_count": null,
      "outputs": []
    },
    {
      "cell_type": "code",
      "source": [
        "input = tokenizer_gpt.encode(sequence1, return_tensors=\"pt\")\n",
        "generated = model_gpt.generate(input, max_length=50, bos_token_id=1, pad_token_id=1, eos_token_ids=1)\n",
        "\n",
        "resulting_string = tokenizer_gpt.decode(generated.tolist()[0])\n",
        "print(resulting_string)"
      ],
      "metadata": {
        "colab": {
          "base_uri": "https://localhost:8080/"
        },
        "outputId": "2ddb8db4-3c95-47ae-be1f-8514a77e23ae",
        "id": "xGy0HdMzQPeO"
      },
      "execution_count": null,
      "outputs": [
        {
          "output_type": "stream",
          "name": "stdout",
          "text": [
            "extraverts enjoy to the same degree as the rest of us.\n",
            "\n",
            "The fact that we are all so much more than we are is a testament to the fact that we are all so much more than we are.\n",
            "\n",
            "We are all so\n"
          ]
        }
      ]
    },
    {
      "cell_type": "code",
      "source": [
        "sequence2 = \"introverts enjoy to\"\n",
        "input = tokenizer_gpt.encode(sequence2, return_tensors=\"pt\")\n",
        "generated = model_gpt.generate(input, max_length=50, bos_token_id=1, pad_token_id=1, eos_token_ids=1)\n",
        "\n",
        "resulting_string = tokenizer_gpt.decode(generated.tolist()[0])\n",
        "print(resulting_string)"
      ],
      "metadata": {
        "colab": {
          "base_uri": "https://localhost:8080/"
        },
        "outputId": "4a8c8130-d6c5-4e84-f58d-e32ff1ed863a",
        "id": "00vDRBv6QPeO"
      },
      "execution_count": null,
      "outputs": [
        {
          "output_type": "stream",
          "name": "stdout",
          "text": [
            "introverts enjoy to be able to see the world through their eyes.\n",
            "\n",
            "The first time I saw the movie, I was in a room with a bunch of people. I was in a room with a bunch of people, and I was\n"
          ]
        }
      ]
    }
  ],
  "metadata": {
    "kernelspec": {
      "display_name": "Python 3 (ipykernel)",
      "language": "python",
      "name": "python3"
    },
    "language_info": {
      "codemirror_mode": {
        "name": "ipython",
        "version": 3
      },
      "file_extension": ".py",
      "mimetype": "text/x-python",
      "name": "python",
      "nbconvert_exporter": "python",
      "pygments_lexer": "ipython3",
      "version": "3.9.7"
    },
    "colab": {
      "name": "HW8 Submission.ipynb",
      "provenance": [],
      "collapsed_sections": []
    },
    "accelerator": "GPU",
    "widgets": {
      "application/vnd.jupyter.widget-state+json": {
        "f6ed53aeaddf45b8bb6e1e8bfb89cbdf": {
          "model_module": "@jupyter-widgets/controls",
          "model_name": "HBoxModel",
          "model_module_version": "1.5.0",
          "state": {
            "_view_name": "HBoxView",
            "_dom_classes": [],
            "_model_name": "HBoxModel",
            "_view_module": "@jupyter-widgets/controls",
            "_model_module_version": "1.5.0",
            "_view_count": null,
            "_view_module_version": "1.5.0",
            "box_style": "",
            "layout": "IPY_MODEL_0618de92cc8d4148808a88a5de577600",
            "_model_module": "@jupyter-widgets/controls",
            "children": [
              "IPY_MODEL_c729a0d6c8ff4bc3ac403d0da6da0a7d",
              "IPY_MODEL_922be0e867f04ebc858e7f010a4de4ae",
              "IPY_MODEL_e1251f1253194dceacb1627de6ea48a6"
            ]
          }
        },
        "0618de92cc8d4148808a88a5de577600": {
          "model_module": "@jupyter-widgets/base",
          "model_name": "LayoutModel",
          "model_module_version": "1.2.0",
          "state": {
            "_view_name": "LayoutView",
            "grid_template_rows": null,
            "right": null,
            "justify_content": null,
            "_view_module": "@jupyter-widgets/base",
            "overflow": null,
            "_model_module_version": "1.2.0",
            "_view_count": null,
            "flex_flow": null,
            "width": null,
            "min_width": null,
            "border": null,
            "align_items": null,
            "bottom": null,
            "_model_module": "@jupyter-widgets/base",
            "top": null,
            "grid_column": null,
            "overflow_y": null,
            "overflow_x": null,
            "grid_auto_flow": null,
            "grid_area": null,
            "grid_template_columns": null,
            "flex": null,
            "_model_name": "LayoutModel",
            "justify_items": null,
            "grid_row": null,
            "max_height": null,
            "align_content": null,
            "visibility": null,
            "align_self": null,
            "height": null,
            "min_height": null,
            "padding": null,
            "grid_auto_rows": null,
            "grid_gap": null,
            "max_width": null,
            "order": null,
            "_view_module_version": "1.2.0",
            "grid_template_areas": null,
            "object_position": null,
            "object_fit": null,
            "grid_auto_columns": null,
            "margin": null,
            "display": null,
            "left": null
          }
        },
        "c729a0d6c8ff4bc3ac403d0da6da0a7d": {
          "model_module": "@jupyter-widgets/controls",
          "model_name": "HTMLModel",
          "model_module_version": "1.5.0",
          "state": {
            "_view_name": "HTMLView",
            "style": "IPY_MODEL_d6cd00b4647d4f5098d8ae219317529c",
            "_dom_classes": [],
            "description": "",
            "_model_name": "HTMLModel",
            "placeholder": "​",
            "_view_module": "@jupyter-widgets/controls",
            "_model_module_version": "1.5.0",
            "value": "Downloading: 100%",
            "_view_count": null,
            "_view_module_version": "1.5.0",
            "description_tooltip": null,
            "_model_module": "@jupyter-widgets/controls",
            "layout": "IPY_MODEL_4cea8079d83747909f908df857666ad0"
          }
        },
        "922be0e867f04ebc858e7f010a4de4ae": {
          "model_module": "@jupyter-widgets/controls",
          "model_name": "FloatProgressModel",
          "model_module_version": "1.5.0",
          "state": {
            "_view_name": "ProgressView",
            "style": "IPY_MODEL_4a24914b18ee4da6a5dc964818e88a27",
            "_dom_classes": [],
            "description": "",
            "_model_name": "FloatProgressModel",
            "bar_style": "success",
            "max": 665,
            "_view_module": "@jupyter-widgets/controls",
            "_model_module_version": "1.5.0",
            "value": 665,
            "_view_count": null,
            "_view_module_version": "1.5.0",
            "orientation": "horizontal",
            "min": 0,
            "description_tooltip": null,
            "_model_module": "@jupyter-widgets/controls",
            "layout": "IPY_MODEL_e208914a79284c9c855b1c9e6c7e47b7"
          }
        },
        "e1251f1253194dceacb1627de6ea48a6": {
          "model_module": "@jupyter-widgets/controls",
          "model_name": "HTMLModel",
          "model_module_version": "1.5.0",
          "state": {
            "_view_name": "HTMLView",
            "style": "IPY_MODEL_4e31bc1507ac4abdad53d05d32b074bf",
            "_dom_classes": [],
            "description": "",
            "_model_name": "HTMLModel",
            "placeholder": "​",
            "_view_module": "@jupyter-widgets/controls",
            "_model_module_version": "1.5.0",
            "value": " 665/665 [00:00&lt;00:00, 7.15kB/s]",
            "_view_count": null,
            "_view_module_version": "1.5.0",
            "description_tooltip": null,
            "_model_module": "@jupyter-widgets/controls",
            "layout": "IPY_MODEL_c3a3e78e086046fe91209302dbb90d77"
          }
        },
        "d6cd00b4647d4f5098d8ae219317529c": {
          "model_module": "@jupyter-widgets/controls",
          "model_name": "DescriptionStyleModel",
          "model_module_version": "1.5.0",
          "state": {
            "_view_name": "StyleView",
            "_model_name": "DescriptionStyleModel",
            "description_width": "",
            "_view_module": "@jupyter-widgets/base",
            "_model_module_version": "1.5.0",
            "_view_count": null,
            "_view_module_version": "1.2.0",
            "_model_module": "@jupyter-widgets/controls"
          }
        },
        "4cea8079d83747909f908df857666ad0": {
          "model_module": "@jupyter-widgets/base",
          "model_name": "LayoutModel",
          "model_module_version": "1.2.0",
          "state": {
            "_view_name": "LayoutView",
            "grid_template_rows": null,
            "right": null,
            "justify_content": null,
            "_view_module": "@jupyter-widgets/base",
            "overflow": null,
            "_model_module_version": "1.2.0",
            "_view_count": null,
            "flex_flow": null,
            "width": null,
            "min_width": null,
            "border": null,
            "align_items": null,
            "bottom": null,
            "_model_module": "@jupyter-widgets/base",
            "top": null,
            "grid_column": null,
            "overflow_y": null,
            "overflow_x": null,
            "grid_auto_flow": null,
            "grid_area": null,
            "grid_template_columns": null,
            "flex": null,
            "_model_name": "LayoutModel",
            "justify_items": null,
            "grid_row": null,
            "max_height": null,
            "align_content": null,
            "visibility": null,
            "align_self": null,
            "height": null,
            "min_height": null,
            "padding": null,
            "grid_auto_rows": null,
            "grid_gap": null,
            "max_width": null,
            "order": null,
            "_view_module_version": "1.2.0",
            "grid_template_areas": null,
            "object_position": null,
            "object_fit": null,
            "grid_auto_columns": null,
            "margin": null,
            "display": null,
            "left": null
          }
        },
        "4a24914b18ee4da6a5dc964818e88a27": {
          "model_module": "@jupyter-widgets/controls",
          "model_name": "ProgressStyleModel",
          "model_module_version": "1.5.0",
          "state": {
            "_view_name": "StyleView",
            "_model_name": "ProgressStyleModel",
            "description_width": "",
            "_view_module": "@jupyter-widgets/base",
            "_model_module_version": "1.5.0",
            "_view_count": null,
            "_view_module_version": "1.2.0",
            "bar_color": null,
            "_model_module": "@jupyter-widgets/controls"
          }
        },
        "e208914a79284c9c855b1c9e6c7e47b7": {
          "model_module": "@jupyter-widgets/base",
          "model_name": "LayoutModel",
          "model_module_version": "1.2.0",
          "state": {
            "_view_name": "LayoutView",
            "grid_template_rows": null,
            "right": null,
            "justify_content": null,
            "_view_module": "@jupyter-widgets/base",
            "overflow": null,
            "_model_module_version": "1.2.0",
            "_view_count": null,
            "flex_flow": null,
            "width": null,
            "min_width": null,
            "border": null,
            "align_items": null,
            "bottom": null,
            "_model_module": "@jupyter-widgets/base",
            "top": null,
            "grid_column": null,
            "overflow_y": null,
            "overflow_x": null,
            "grid_auto_flow": null,
            "grid_area": null,
            "grid_template_columns": null,
            "flex": null,
            "_model_name": "LayoutModel",
            "justify_items": null,
            "grid_row": null,
            "max_height": null,
            "align_content": null,
            "visibility": null,
            "align_self": null,
            "height": null,
            "min_height": null,
            "padding": null,
            "grid_auto_rows": null,
            "grid_gap": null,
            "max_width": null,
            "order": null,
            "_view_module_version": "1.2.0",
            "grid_template_areas": null,
            "object_position": null,
            "object_fit": null,
            "grid_auto_columns": null,
            "margin": null,
            "display": null,
            "left": null
          }
        },
        "4e31bc1507ac4abdad53d05d32b074bf": {
          "model_module": "@jupyter-widgets/controls",
          "model_name": "DescriptionStyleModel",
          "model_module_version": "1.5.0",
          "state": {
            "_view_name": "StyleView",
            "_model_name": "DescriptionStyleModel",
            "description_width": "",
            "_view_module": "@jupyter-widgets/base",
            "_model_module_version": "1.5.0",
            "_view_count": null,
            "_view_module_version": "1.2.0",
            "_model_module": "@jupyter-widgets/controls"
          }
        },
        "c3a3e78e086046fe91209302dbb90d77": {
          "model_module": "@jupyter-widgets/base",
          "model_name": "LayoutModel",
          "model_module_version": "1.2.0",
          "state": {
            "_view_name": "LayoutView",
            "grid_template_rows": null,
            "right": null,
            "justify_content": null,
            "_view_module": "@jupyter-widgets/base",
            "overflow": null,
            "_model_module_version": "1.2.0",
            "_view_count": null,
            "flex_flow": null,
            "width": null,
            "min_width": null,
            "border": null,
            "align_items": null,
            "bottom": null,
            "_model_module": "@jupyter-widgets/base",
            "top": null,
            "grid_column": null,
            "overflow_y": null,
            "overflow_x": null,
            "grid_auto_flow": null,
            "grid_area": null,
            "grid_template_columns": null,
            "flex": null,
            "_model_name": "LayoutModel",
            "justify_items": null,
            "grid_row": null,
            "max_height": null,
            "align_content": null,
            "visibility": null,
            "align_self": null,
            "height": null,
            "min_height": null,
            "padding": null,
            "grid_auto_rows": null,
            "grid_gap": null,
            "max_width": null,
            "order": null,
            "_view_module_version": "1.2.0",
            "grid_template_areas": null,
            "object_position": null,
            "object_fit": null,
            "grid_auto_columns": null,
            "margin": null,
            "display": null,
            "left": null
          }
        },
        "d788f24de6b5494aa2b5825175cd483a": {
          "model_module": "@jupyter-widgets/controls",
          "model_name": "HBoxModel",
          "model_module_version": "1.5.0",
          "state": {
            "_view_name": "HBoxView",
            "_dom_classes": [],
            "_model_name": "HBoxModel",
            "_view_module": "@jupyter-widgets/controls",
            "_model_module_version": "1.5.0",
            "_view_count": null,
            "_view_module_version": "1.5.0",
            "box_style": "",
            "layout": "IPY_MODEL_4fc3e99db9154991993c9393859545a4",
            "_model_module": "@jupyter-widgets/controls",
            "children": [
              "IPY_MODEL_0223534f7e684b0d82e64b4b66fcfa9b",
              "IPY_MODEL_0c51b61cc5df4310a2f221adb0457596",
              "IPY_MODEL_e4400d622596481987dc87158b169701"
            ]
          }
        },
        "4fc3e99db9154991993c9393859545a4": {
          "model_module": "@jupyter-widgets/base",
          "model_name": "LayoutModel",
          "model_module_version": "1.2.0",
          "state": {
            "_view_name": "LayoutView",
            "grid_template_rows": null,
            "right": null,
            "justify_content": null,
            "_view_module": "@jupyter-widgets/base",
            "overflow": null,
            "_model_module_version": "1.2.0",
            "_view_count": null,
            "flex_flow": null,
            "width": null,
            "min_width": null,
            "border": null,
            "align_items": null,
            "bottom": null,
            "_model_module": "@jupyter-widgets/base",
            "top": null,
            "grid_column": null,
            "overflow_y": null,
            "overflow_x": null,
            "grid_auto_flow": null,
            "grid_area": null,
            "grid_template_columns": null,
            "flex": null,
            "_model_name": "LayoutModel",
            "justify_items": null,
            "grid_row": null,
            "max_height": null,
            "align_content": null,
            "visibility": null,
            "align_self": null,
            "height": null,
            "min_height": null,
            "padding": null,
            "grid_auto_rows": null,
            "grid_gap": null,
            "max_width": null,
            "order": null,
            "_view_module_version": "1.2.0",
            "grid_template_areas": null,
            "object_position": null,
            "object_fit": null,
            "grid_auto_columns": null,
            "margin": null,
            "display": null,
            "left": null
          }
        },
        "0223534f7e684b0d82e64b4b66fcfa9b": {
          "model_module": "@jupyter-widgets/controls",
          "model_name": "HTMLModel",
          "model_module_version": "1.5.0",
          "state": {
            "_view_name": "HTMLView",
            "style": "IPY_MODEL_f0cf1d7e048f48599075ad8ae893a3d8",
            "_dom_classes": [],
            "description": "",
            "_model_name": "HTMLModel",
            "placeholder": "​",
            "_view_module": "@jupyter-widgets/controls",
            "_model_module_version": "1.5.0",
            "value": "Downloading: 100%",
            "_view_count": null,
            "_view_module_version": "1.5.0",
            "description_tooltip": null,
            "_model_module": "@jupyter-widgets/controls",
            "layout": "IPY_MODEL_623bb821114743229d7fe6d389eb436b"
          }
        },
        "0c51b61cc5df4310a2f221adb0457596": {
          "model_module": "@jupyter-widgets/controls",
          "model_name": "FloatProgressModel",
          "model_module_version": "1.5.0",
          "state": {
            "_view_name": "ProgressView",
            "style": "IPY_MODEL_8d7bc37f7a9d4fa58a68af3763a060d9",
            "_dom_classes": [],
            "description": "",
            "_model_name": "FloatProgressModel",
            "bar_style": "success",
            "max": 1042301,
            "_view_module": "@jupyter-widgets/controls",
            "_model_module_version": "1.5.0",
            "value": 1042301,
            "_view_count": null,
            "_view_module_version": "1.5.0",
            "orientation": "horizontal",
            "min": 0,
            "description_tooltip": null,
            "_model_module": "@jupyter-widgets/controls",
            "layout": "IPY_MODEL_8551a323ebc24569ad5da62954f326d8"
          }
        },
        "e4400d622596481987dc87158b169701": {
          "model_module": "@jupyter-widgets/controls",
          "model_name": "HTMLModel",
          "model_module_version": "1.5.0",
          "state": {
            "_view_name": "HTMLView",
            "style": "IPY_MODEL_7cce5a1b357a45318034604a8d74b1f2",
            "_dom_classes": [],
            "description": "",
            "_model_name": "HTMLModel",
            "placeholder": "​",
            "_view_module": "@jupyter-widgets/controls",
            "_model_module_version": "1.5.0",
            "value": " 0.99M/0.99M [00:00&lt;00:00, 1.64MB/s]",
            "_view_count": null,
            "_view_module_version": "1.5.0",
            "description_tooltip": null,
            "_model_module": "@jupyter-widgets/controls",
            "layout": "IPY_MODEL_a14036d13b434c0e98c5e0c6dae6ce66"
          }
        },
        "f0cf1d7e048f48599075ad8ae893a3d8": {
          "model_module": "@jupyter-widgets/controls",
          "model_name": "DescriptionStyleModel",
          "model_module_version": "1.5.0",
          "state": {
            "_view_name": "StyleView",
            "_model_name": "DescriptionStyleModel",
            "description_width": "",
            "_view_module": "@jupyter-widgets/base",
            "_model_module_version": "1.5.0",
            "_view_count": null,
            "_view_module_version": "1.2.0",
            "_model_module": "@jupyter-widgets/controls"
          }
        },
        "623bb821114743229d7fe6d389eb436b": {
          "model_module": "@jupyter-widgets/base",
          "model_name": "LayoutModel",
          "model_module_version": "1.2.0",
          "state": {
            "_view_name": "LayoutView",
            "grid_template_rows": null,
            "right": null,
            "justify_content": null,
            "_view_module": "@jupyter-widgets/base",
            "overflow": null,
            "_model_module_version": "1.2.0",
            "_view_count": null,
            "flex_flow": null,
            "width": null,
            "min_width": null,
            "border": null,
            "align_items": null,
            "bottom": null,
            "_model_module": "@jupyter-widgets/base",
            "top": null,
            "grid_column": null,
            "overflow_y": null,
            "overflow_x": null,
            "grid_auto_flow": null,
            "grid_area": null,
            "grid_template_columns": null,
            "flex": null,
            "_model_name": "LayoutModel",
            "justify_items": null,
            "grid_row": null,
            "max_height": null,
            "align_content": null,
            "visibility": null,
            "align_self": null,
            "height": null,
            "min_height": null,
            "padding": null,
            "grid_auto_rows": null,
            "grid_gap": null,
            "max_width": null,
            "order": null,
            "_view_module_version": "1.2.0",
            "grid_template_areas": null,
            "object_position": null,
            "object_fit": null,
            "grid_auto_columns": null,
            "margin": null,
            "display": null,
            "left": null
          }
        },
        "8d7bc37f7a9d4fa58a68af3763a060d9": {
          "model_module": "@jupyter-widgets/controls",
          "model_name": "ProgressStyleModel",
          "model_module_version": "1.5.0",
          "state": {
            "_view_name": "StyleView",
            "_model_name": "ProgressStyleModel",
            "description_width": "",
            "_view_module": "@jupyter-widgets/base",
            "_model_module_version": "1.5.0",
            "_view_count": null,
            "_view_module_version": "1.2.0",
            "bar_color": null,
            "_model_module": "@jupyter-widgets/controls"
          }
        },
        "8551a323ebc24569ad5da62954f326d8": {
          "model_module": "@jupyter-widgets/base",
          "model_name": "LayoutModel",
          "model_module_version": "1.2.0",
          "state": {
            "_view_name": "LayoutView",
            "grid_template_rows": null,
            "right": null,
            "justify_content": null,
            "_view_module": "@jupyter-widgets/base",
            "overflow": null,
            "_model_module_version": "1.2.0",
            "_view_count": null,
            "flex_flow": null,
            "width": null,
            "min_width": null,
            "border": null,
            "align_items": null,
            "bottom": null,
            "_model_module": "@jupyter-widgets/base",
            "top": null,
            "grid_column": null,
            "overflow_y": null,
            "overflow_x": null,
            "grid_auto_flow": null,
            "grid_area": null,
            "grid_template_columns": null,
            "flex": null,
            "_model_name": "LayoutModel",
            "justify_items": null,
            "grid_row": null,
            "max_height": null,
            "align_content": null,
            "visibility": null,
            "align_self": null,
            "height": null,
            "min_height": null,
            "padding": null,
            "grid_auto_rows": null,
            "grid_gap": null,
            "max_width": null,
            "order": null,
            "_view_module_version": "1.2.0",
            "grid_template_areas": null,
            "object_position": null,
            "object_fit": null,
            "grid_auto_columns": null,
            "margin": null,
            "display": null,
            "left": null
          }
        },
        "7cce5a1b357a45318034604a8d74b1f2": {
          "model_module": "@jupyter-widgets/controls",
          "model_name": "DescriptionStyleModel",
          "model_module_version": "1.5.0",
          "state": {
            "_view_name": "StyleView",
            "_model_name": "DescriptionStyleModel",
            "description_width": "",
            "_view_module": "@jupyter-widgets/base",
            "_model_module_version": "1.5.0",
            "_view_count": null,
            "_view_module_version": "1.2.0",
            "_model_module": "@jupyter-widgets/controls"
          }
        },
        "a14036d13b434c0e98c5e0c6dae6ce66": {
          "model_module": "@jupyter-widgets/base",
          "model_name": "LayoutModel",
          "model_module_version": "1.2.0",
          "state": {
            "_view_name": "LayoutView",
            "grid_template_rows": null,
            "right": null,
            "justify_content": null,
            "_view_module": "@jupyter-widgets/base",
            "overflow": null,
            "_model_module_version": "1.2.0",
            "_view_count": null,
            "flex_flow": null,
            "width": null,
            "min_width": null,
            "border": null,
            "align_items": null,
            "bottom": null,
            "_model_module": "@jupyter-widgets/base",
            "top": null,
            "grid_column": null,
            "overflow_y": null,
            "overflow_x": null,
            "grid_auto_flow": null,
            "grid_area": null,
            "grid_template_columns": null,
            "flex": null,
            "_model_name": "LayoutModel",
            "justify_items": null,
            "grid_row": null,
            "max_height": null,
            "align_content": null,
            "visibility": null,
            "align_self": null,
            "height": null,
            "min_height": null,
            "padding": null,
            "grid_auto_rows": null,
            "grid_gap": null,
            "max_width": null,
            "order": null,
            "_view_module_version": "1.2.0",
            "grid_template_areas": null,
            "object_position": null,
            "object_fit": null,
            "grid_auto_columns": null,
            "margin": null,
            "display": null,
            "left": null
          }
        },
        "3c90cee8a4c74b4f84ab7c4c209d7763": {
          "model_module": "@jupyter-widgets/controls",
          "model_name": "HBoxModel",
          "model_module_version": "1.5.0",
          "state": {
            "_view_name": "HBoxView",
            "_dom_classes": [],
            "_model_name": "HBoxModel",
            "_view_module": "@jupyter-widgets/controls",
            "_model_module_version": "1.5.0",
            "_view_count": null,
            "_view_module_version": "1.5.0",
            "box_style": "",
            "layout": "IPY_MODEL_d30bce5fd20d48e6b5e02ffc8762a450",
            "_model_module": "@jupyter-widgets/controls",
            "children": [
              "IPY_MODEL_5ddf24584cb34ef085ffff650afcf823",
              "IPY_MODEL_e326f8e15ce94c298e9449ec5cc7ce32",
              "IPY_MODEL_4ca049b9a72442399f209ee3995267d8"
            ]
          }
        },
        "d30bce5fd20d48e6b5e02ffc8762a450": {
          "model_module": "@jupyter-widgets/base",
          "model_name": "LayoutModel",
          "model_module_version": "1.2.0",
          "state": {
            "_view_name": "LayoutView",
            "grid_template_rows": null,
            "right": null,
            "justify_content": null,
            "_view_module": "@jupyter-widgets/base",
            "overflow": null,
            "_model_module_version": "1.2.0",
            "_view_count": null,
            "flex_flow": null,
            "width": null,
            "min_width": null,
            "border": null,
            "align_items": null,
            "bottom": null,
            "_model_module": "@jupyter-widgets/base",
            "top": null,
            "grid_column": null,
            "overflow_y": null,
            "overflow_x": null,
            "grid_auto_flow": null,
            "grid_area": null,
            "grid_template_columns": null,
            "flex": null,
            "_model_name": "LayoutModel",
            "justify_items": null,
            "grid_row": null,
            "max_height": null,
            "align_content": null,
            "visibility": null,
            "align_self": null,
            "height": null,
            "min_height": null,
            "padding": null,
            "grid_auto_rows": null,
            "grid_gap": null,
            "max_width": null,
            "order": null,
            "_view_module_version": "1.2.0",
            "grid_template_areas": null,
            "object_position": null,
            "object_fit": null,
            "grid_auto_columns": null,
            "margin": null,
            "display": null,
            "left": null
          }
        },
        "5ddf24584cb34ef085ffff650afcf823": {
          "model_module": "@jupyter-widgets/controls",
          "model_name": "HTMLModel",
          "model_module_version": "1.5.0",
          "state": {
            "_view_name": "HTMLView",
            "style": "IPY_MODEL_5624774613724ba589e575e0a5c2afcf",
            "_dom_classes": [],
            "description": "",
            "_model_name": "HTMLModel",
            "placeholder": "​",
            "_view_module": "@jupyter-widgets/controls",
            "_model_module_version": "1.5.0",
            "value": "Downloading: 100%",
            "_view_count": null,
            "_view_module_version": "1.5.0",
            "description_tooltip": null,
            "_model_module": "@jupyter-widgets/controls",
            "layout": "IPY_MODEL_9300bc42b9e24f58b9280f9c3c94e74f"
          }
        },
        "e326f8e15ce94c298e9449ec5cc7ce32": {
          "model_module": "@jupyter-widgets/controls",
          "model_name": "FloatProgressModel",
          "model_module_version": "1.5.0",
          "state": {
            "_view_name": "ProgressView",
            "style": "IPY_MODEL_fe2a90cbd6ff4e8abeb0d85bdc67f871",
            "_dom_classes": [],
            "description": "",
            "_model_name": "FloatProgressModel",
            "bar_style": "success",
            "max": 456318,
            "_view_module": "@jupyter-widgets/controls",
            "_model_module_version": "1.5.0",
            "value": 456318,
            "_view_count": null,
            "_view_module_version": "1.5.0",
            "orientation": "horizontal",
            "min": 0,
            "description_tooltip": null,
            "_model_module": "@jupyter-widgets/controls",
            "layout": "IPY_MODEL_b6c6db68a50d40519cdbd4d32016937a"
          }
        },
        "4ca049b9a72442399f209ee3995267d8": {
          "model_module": "@jupyter-widgets/controls",
          "model_name": "HTMLModel",
          "model_module_version": "1.5.0",
          "state": {
            "_view_name": "HTMLView",
            "style": "IPY_MODEL_5def5d220e5d4628a799536d44e1fa7e",
            "_dom_classes": [],
            "description": "",
            "_model_name": "HTMLModel",
            "placeholder": "​",
            "_view_module": "@jupyter-widgets/controls",
            "_model_module_version": "1.5.0",
            "value": " 446k/446k [00:00&lt;00:00, 1.71MB/s]",
            "_view_count": null,
            "_view_module_version": "1.5.0",
            "description_tooltip": null,
            "_model_module": "@jupyter-widgets/controls",
            "layout": "IPY_MODEL_ed150b2d344d47dcacbc03bfa17591e1"
          }
        },
        "5624774613724ba589e575e0a5c2afcf": {
          "model_module": "@jupyter-widgets/controls",
          "model_name": "DescriptionStyleModel",
          "model_module_version": "1.5.0",
          "state": {
            "_view_name": "StyleView",
            "_model_name": "DescriptionStyleModel",
            "description_width": "",
            "_view_module": "@jupyter-widgets/base",
            "_model_module_version": "1.5.0",
            "_view_count": null,
            "_view_module_version": "1.2.0",
            "_model_module": "@jupyter-widgets/controls"
          }
        },
        "9300bc42b9e24f58b9280f9c3c94e74f": {
          "model_module": "@jupyter-widgets/base",
          "model_name": "LayoutModel",
          "model_module_version": "1.2.0",
          "state": {
            "_view_name": "LayoutView",
            "grid_template_rows": null,
            "right": null,
            "justify_content": null,
            "_view_module": "@jupyter-widgets/base",
            "overflow": null,
            "_model_module_version": "1.2.0",
            "_view_count": null,
            "flex_flow": null,
            "width": null,
            "min_width": null,
            "border": null,
            "align_items": null,
            "bottom": null,
            "_model_module": "@jupyter-widgets/base",
            "top": null,
            "grid_column": null,
            "overflow_y": null,
            "overflow_x": null,
            "grid_auto_flow": null,
            "grid_area": null,
            "grid_template_columns": null,
            "flex": null,
            "_model_name": "LayoutModel",
            "justify_items": null,
            "grid_row": null,
            "max_height": null,
            "align_content": null,
            "visibility": null,
            "align_self": null,
            "height": null,
            "min_height": null,
            "padding": null,
            "grid_auto_rows": null,
            "grid_gap": null,
            "max_width": null,
            "order": null,
            "_view_module_version": "1.2.0",
            "grid_template_areas": null,
            "object_position": null,
            "object_fit": null,
            "grid_auto_columns": null,
            "margin": null,
            "display": null,
            "left": null
          }
        },
        "fe2a90cbd6ff4e8abeb0d85bdc67f871": {
          "model_module": "@jupyter-widgets/controls",
          "model_name": "ProgressStyleModel",
          "model_module_version": "1.5.0",
          "state": {
            "_view_name": "StyleView",
            "_model_name": "ProgressStyleModel",
            "description_width": "",
            "_view_module": "@jupyter-widgets/base",
            "_model_module_version": "1.5.0",
            "_view_count": null,
            "_view_module_version": "1.2.0",
            "bar_color": null,
            "_model_module": "@jupyter-widgets/controls"
          }
        },
        "b6c6db68a50d40519cdbd4d32016937a": {
          "model_module": "@jupyter-widgets/base",
          "model_name": "LayoutModel",
          "model_module_version": "1.2.0",
          "state": {
            "_view_name": "LayoutView",
            "grid_template_rows": null,
            "right": null,
            "justify_content": null,
            "_view_module": "@jupyter-widgets/base",
            "overflow": null,
            "_model_module_version": "1.2.0",
            "_view_count": null,
            "flex_flow": null,
            "width": null,
            "min_width": null,
            "border": null,
            "align_items": null,
            "bottom": null,
            "_model_module": "@jupyter-widgets/base",
            "top": null,
            "grid_column": null,
            "overflow_y": null,
            "overflow_x": null,
            "grid_auto_flow": null,
            "grid_area": null,
            "grid_template_columns": null,
            "flex": null,
            "_model_name": "LayoutModel",
            "justify_items": null,
            "grid_row": null,
            "max_height": null,
            "align_content": null,
            "visibility": null,
            "align_self": null,
            "height": null,
            "min_height": null,
            "padding": null,
            "grid_auto_rows": null,
            "grid_gap": null,
            "max_width": null,
            "order": null,
            "_view_module_version": "1.2.0",
            "grid_template_areas": null,
            "object_position": null,
            "object_fit": null,
            "grid_auto_columns": null,
            "margin": null,
            "display": null,
            "left": null
          }
        },
        "5def5d220e5d4628a799536d44e1fa7e": {
          "model_module": "@jupyter-widgets/controls",
          "model_name": "DescriptionStyleModel",
          "model_module_version": "1.5.0",
          "state": {
            "_view_name": "StyleView",
            "_model_name": "DescriptionStyleModel",
            "description_width": "",
            "_view_module": "@jupyter-widgets/base",
            "_model_module_version": "1.5.0",
            "_view_count": null,
            "_view_module_version": "1.2.0",
            "_model_module": "@jupyter-widgets/controls"
          }
        },
        "ed150b2d344d47dcacbc03bfa17591e1": {
          "model_module": "@jupyter-widgets/base",
          "model_name": "LayoutModel",
          "model_module_version": "1.2.0",
          "state": {
            "_view_name": "LayoutView",
            "grid_template_rows": null,
            "right": null,
            "justify_content": null,
            "_view_module": "@jupyter-widgets/base",
            "overflow": null,
            "_model_module_version": "1.2.0",
            "_view_count": null,
            "flex_flow": null,
            "width": null,
            "min_width": null,
            "border": null,
            "align_items": null,
            "bottom": null,
            "_model_module": "@jupyter-widgets/base",
            "top": null,
            "grid_column": null,
            "overflow_y": null,
            "overflow_x": null,
            "grid_auto_flow": null,
            "grid_area": null,
            "grid_template_columns": null,
            "flex": null,
            "_model_name": "LayoutModel",
            "justify_items": null,
            "grid_row": null,
            "max_height": null,
            "align_content": null,
            "visibility": null,
            "align_self": null,
            "height": null,
            "min_height": null,
            "padding": null,
            "grid_auto_rows": null,
            "grid_gap": null,
            "max_width": null,
            "order": null,
            "_view_module_version": "1.2.0",
            "grid_template_areas": null,
            "object_position": null,
            "object_fit": null,
            "grid_auto_columns": null,
            "margin": null,
            "display": null,
            "left": null
          }
        },
        "65ac2b173b7144df95e4db538d6e7de3": {
          "model_module": "@jupyter-widgets/controls",
          "model_name": "HBoxModel",
          "model_module_version": "1.5.0",
          "state": {
            "_view_name": "HBoxView",
            "_dom_classes": [],
            "_model_name": "HBoxModel",
            "_view_module": "@jupyter-widgets/controls",
            "_model_module_version": "1.5.0",
            "_view_count": null,
            "_view_module_version": "1.5.0",
            "box_style": "",
            "layout": "IPY_MODEL_b0311e8a6d674f0ab4780f8f8ab5ec6a",
            "_model_module": "@jupyter-widgets/controls",
            "children": [
              "IPY_MODEL_c735977bec7446fe8e3263ec1271d42a",
              "IPY_MODEL_b4cbb571007040e2adb93be34f33d87c",
              "IPY_MODEL_405100cb566e4895a1323aa2b1d4a0aa"
            ]
          }
        },
        "b0311e8a6d674f0ab4780f8f8ab5ec6a": {
          "model_module": "@jupyter-widgets/base",
          "model_name": "LayoutModel",
          "model_module_version": "1.2.0",
          "state": {
            "_view_name": "LayoutView",
            "grid_template_rows": null,
            "right": null,
            "justify_content": null,
            "_view_module": "@jupyter-widgets/base",
            "overflow": null,
            "_model_module_version": "1.2.0",
            "_view_count": null,
            "flex_flow": null,
            "width": null,
            "min_width": null,
            "border": null,
            "align_items": null,
            "bottom": null,
            "_model_module": "@jupyter-widgets/base",
            "top": null,
            "grid_column": null,
            "overflow_y": null,
            "overflow_x": null,
            "grid_auto_flow": null,
            "grid_area": null,
            "grid_template_columns": null,
            "flex": null,
            "_model_name": "LayoutModel",
            "justify_items": null,
            "grid_row": null,
            "max_height": null,
            "align_content": null,
            "visibility": null,
            "align_self": null,
            "height": null,
            "min_height": null,
            "padding": null,
            "grid_auto_rows": null,
            "grid_gap": null,
            "max_width": null,
            "order": null,
            "_view_module_version": "1.2.0",
            "grid_template_areas": null,
            "object_position": null,
            "object_fit": null,
            "grid_auto_columns": null,
            "margin": null,
            "display": null,
            "left": null
          }
        },
        "c735977bec7446fe8e3263ec1271d42a": {
          "model_module": "@jupyter-widgets/controls",
          "model_name": "HTMLModel",
          "model_module_version": "1.5.0",
          "state": {
            "_view_name": "HTMLView",
            "style": "IPY_MODEL_90ece77220b74b6eabafeb553684574d",
            "_dom_classes": [],
            "description": "",
            "_model_name": "HTMLModel",
            "placeholder": "​",
            "_view_module": "@jupyter-widgets/controls",
            "_model_module_version": "1.5.0",
            "value": "Downloading: 100%",
            "_view_count": null,
            "_view_module_version": "1.5.0",
            "description_tooltip": null,
            "_model_module": "@jupyter-widgets/controls",
            "layout": "IPY_MODEL_8b9292a1eeab49cd825e6214e4bdcbd7"
          }
        },
        "b4cbb571007040e2adb93be34f33d87c": {
          "model_module": "@jupyter-widgets/controls",
          "model_name": "FloatProgressModel",
          "model_module_version": "1.5.0",
          "state": {
            "_view_name": "ProgressView",
            "style": "IPY_MODEL_4e0827e2a9c84e708a295e7cd662f830",
            "_dom_classes": [],
            "description": "",
            "_model_name": "FloatProgressModel",
            "bar_style": "success",
            "max": 1355256,
            "_view_module": "@jupyter-widgets/controls",
            "_model_module_version": "1.5.0",
            "value": 1355256,
            "_view_count": null,
            "_view_module_version": "1.5.0",
            "orientation": "horizontal",
            "min": 0,
            "description_tooltip": null,
            "_model_module": "@jupyter-widgets/controls",
            "layout": "IPY_MODEL_7d63571c75b143a985e41c47748aa10e"
          }
        },
        "405100cb566e4895a1323aa2b1d4a0aa": {
          "model_module": "@jupyter-widgets/controls",
          "model_name": "HTMLModel",
          "model_module_version": "1.5.0",
          "state": {
            "_view_name": "HTMLView",
            "style": "IPY_MODEL_24ed8781a1f0446e9457a31df179394e",
            "_dom_classes": [],
            "description": "",
            "_model_name": "HTMLModel",
            "placeholder": "​",
            "_view_module": "@jupyter-widgets/controls",
            "_model_module_version": "1.5.0",
            "value": " 1.29M/1.29M [00:00&lt;00:00, 3.25MB/s]",
            "_view_count": null,
            "_view_module_version": "1.5.0",
            "description_tooltip": null,
            "_model_module": "@jupyter-widgets/controls",
            "layout": "IPY_MODEL_821fdf94a6e14081a4db197090001ecb"
          }
        },
        "90ece77220b74b6eabafeb553684574d": {
          "model_module": "@jupyter-widgets/controls",
          "model_name": "DescriptionStyleModel",
          "model_module_version": "1.5.0",
          "state": {
            "_view_name": "StyleView",
            "_model_name": "DescriptionStyleModel",
            "description_width": "",
            "_view_module": "@jupyter-widgets/base",
            "_model_module_version": "1.5.0",
            "_view_count": null,
            "_view_module_version": "1.2.0",
            "_model_module": "@jupyter-widgets/controls"
          }
        },
        "8b9292a1eeab49cd825e6214e4bdcbd7": {
          "model_module": "@jupyter-widgets/base",
          "model_name": "LayoutModel",
          "model_module_version": "1.2.0",
          "state": {
            "_view_name": "LayoutView",
            "grid_template_rows": null,
            "right": null,
            "justify_content": null,
            "_view_module": "@jupyter-widgets/base",
            "overflow": null,
            "_model_module_version": "1.2.0",
            "_view_count": null,
            "flex_flow": null,
            "width": null,
            "min_width": null,
            "border": null,
            "align_items": null,
            "bottom": null,
            "_model_module": "@jupyter-widgets/base",
            "top": null,
            "grid_column": null,
            "overflow_y": null,
            "overflow_x": null,
            "grid_auto_flow": null,
            "grid_area": null,
            "grid_template_columns": null,
            "flex": null,
            "_model_name": "LayoutModel",
            "justify_items": null,
            "grid_row": null,
            "max_height": null,
            "align_content": null,
            "visibility": null,
            "align_self": null,
            "height": null,
            "min_height": null,
            "padding": null,
            "grid_auto_rows": null,
            "grid_gap": null,
            "max_width": null,
            "order": null,
            "_view_module_version": "1.2.0",
            "grid_template_areas": null,
            "object_position": null,
            "object_fit": null,
            "grid_auto_columns": null,
            "margin": null,
            "display": null,
            "left": null
          }
        },
        "4e0827e2a9c84e708a295e7cd662f830": {
          "model_module": "@jupyter-widgets/controls",
          "model_name": "ProgressStyleModel",
          "model_module_version": "1.5.0",
          "state": {
            "_view_name": "StyleView",
            "_model_name": "ProgressStyleModel",
            "description_width": "",
            "_view_module": "@jupyter-widgets/base",
            "_model_module_version": "1.5.0",
            "_view_count": null,
            "_view_module_version": "1.2.0",
            "bar_color": null,
            "_model_module": "@jupyter-widgets/controls"
          }
        },
        "7d63571c75b143a985e41c47748aa10e": {
          "model_module": "@jupyter-widgets/base",
          "model_name": "LayoutModel",
          "model_module_version": "1.2.0",
          "state": {
            "_view_name": "LayoutView",
            "grid_template_rows": null,
            "right": null,
            "justify_content": null,
            "_view_module": "@jupyter-widgets/base",
            "overflow": null,
            "_model_module_version": "1.2.0",
            "_view_count": null,
            "flex_flow": null,
            "width": null,
            "min_width": null,
            "border": null,
            "align_items": null,
            "bottom": null,
            "_model_module": "@jupyter-widgets/base",
            "top": null,
            "grid_column": null,
            "overflow_y": null,
            "overflow_x": null,
            "grid_auto_flow": null,
            "grid_area": null,
            "grid_template_columns": null,
            "flex": null,
            "_model_name": "LayoutModel",
            "justify_items": null,
            "grid_row": null,
            "max_height": null,
            "align_content": null,
            "visibility": null,
            "align_self": null,
            "height": null,
            "min_height": null,
            "padding": null,
            "grid_auto_rows": null,
            "grid_gap": null,
            "max_width": null,
            "order": null,
            "_view_module_version": "1.2.0",
            "grid_template_areas": null,
            "object_position": null,
            "object_fit": null,
            "grid_auto_columns": null,
            "margin": null,
            "display": null,
            "left": null
          }
        },
        "24ed8781a1f0446e9457a31df179394e": {
          "model_module": "@jupyter-widgets/controls",
          "model_name": "DescriptionStyleModel",
          "model_module_version": "1.5.0",
          "state": {
            "_view_name": "StyleView",
            "_model_name": "DescriptionStyleModel",
            "description_width": "",
            "_view_module": "@jupyter-widgets/base",
            "_model_module_version": "1.5.0",
            "_view_count": null,
            "_view_module_version": "1.2.0",
            "_model_module": "@jupyter-widgets/controls"
          }
        },
        "821fdf94a6e14081a4db197090001ecb": {
          "model_module": "@jupyter-widgets/base",
          "model_name": "LayoutModel",
          "model_module_version": "1.2.0",
          "state": {
            "_view_name": "LayoutView",
            "grid_template_rows": null,
            "right": null,
            "justify_content": null,
            "_view_module": "@jupyter-widgets/base",
            "overflow": null,
            "_model_module_version": "1.2.0",
            "_view_count": null,
            "flex_flow": null,
            "width": null,
            "min_width": null,
            "border": null,
            "align_items": null,
            "bottom": null,
            "_model_module": "@jupyter-widgets/base",
            "top": null,
            "grid_column": null,
            "overflow_y": null,
            "overflow_x": null,
            "grid_auto_flow": null,
            "grid_area": null,
            "grid_template_columns": null,
            "flex": null,
            "_model_name": "LayoutModel",
            "justify_items": null,
            "grid_row": null,
            "max_height": null,
            "align_content": null,
            "visibility": null,
            "align_self": null,
            "height": null,
            "min_height": null,
            "padding": null,
            "grid_auto_rows": null,
            "grid_gap": null,
            "max_width": null,
            "order": null,
            "_view_module_version": "1.2.0",
            "grid_template_areas": null,
            "object_position": null,
            "object_fit": null,
            "grid_auto_columns": null,
            "margin": null,
            "display": null,
            "left": null
          }
        },
        "1b622db50e7e49c7885d0c7c060ca7d2": {
          "model_module": "@jupyter-widgets/controls",
          "model_name": "HBoxModel",
          "model_module_version": "1.5.0",
          "state": {
            "_view_name": "HBoxView",
            "_dom_classes": [],
            "_model_name": "HBoxModel",
            "_view_module": "@jupyter-widgets/controls",
            "_model_module_version": "1.5.0",
            "_view_count": null,
            "_view_module_version": "1.5.0",
            "box_style": "",
            "layout": "IPY_MODEL_be1fbe8b0bab4d8ca291cf05625c50f9",
            "_model_module": "@jupyter-widgets/controls",
            "children": [
              "IPY_MODEL_2f5a89bdf594451499ac0b15f1ab94a2",
              "IPY_MODEL_0e0b1197a72d40ba8996e720864be035",
              "IPY_MODEL_60d8d299f2ae4efcb6f40089c07011dd"
            ]
          }
        },
        "be1fbe8b0bab4d8ca291cf05625c50f9": {
          "model_module": "@jupyter-widgets/base",
          "model_name": "LayoutModel",
          "model_module_version": "1.2.0",
          "state": {
            "_view_name": "LayoutView",
            "grid_template_rows": null,
            "right": null,
            "justify_content": null,
            "_view_module": "@jupyter-widgets/base",
            "overflow": null,
            "_model_module_version": "1.2.0",
            "_view_count": null,
            "flex_flow": null,
            "width": null,
            "min_width": null,
            "border": null,
            "align_items": null,
            "bottom": null,
            "_model_module": "@jupyter-widgets/base",
            "top": null,
            "grid_column": null,
            "overflow_y": null,
            "overflow_x": null,
            "grid_auto_flow": null,
            "grid_area": null,
            "grid_template_columns": null,
            "flex": null,
            "_model_name": "LayoutModel",
            "justify_items": null,
            "grid_row": null,
            "max_height": null,
            "align_content": null,
            "visibility": null,
            "align_self": null,
            "height": null,
            "min_height": null,
            "padding": null,
            "grid_auto_rows": null,
            "grid_gap": null,
            "max_width": null,
            "order": null,
            "_view_module_version": "1.2.0",
            "grid_template_areas": null,
            "object_position": null,
            "object_fit": null,
            "grid_auto_columns": null,
            "margin": null,
            "display": null,
            "left": null
          }
        },
        "2f5a89bdf594451499ac0b15f1ab94a2": {
          "model_module": "@jupyter-widgets/controls",
          "model_name": "HTMLModel",
          "model_module_version": "1.5.0",
          "state": {
            "_view_name": "HTMLView",
            "style": "IPY_MODEL_31d223d69d234925a254e7241390d115",
            "_dom_classes": [],
            "description": "",
            "_model_name": "HTMLModel",
            "placeholder": "​",
            "_view_module": "@jupyter-widgets/controls",
            "_model_module_version": "1.5.0",
            "value": "Downloading: 100%",
            "_view_count": null,
            "_view_module_version": "1.5.0",
            "description_tooltip": null,
            "_model_module": "@jupyter-widgets/controls",
            "layout": "IPY_MODEL_58c0f3a1804c4a76bb457cf7a44d4096"
          }
        },
        "0e0b1197a72d40ba8996e720864be035": {
          "model_module": "@jupyter-widgets/controls",
          "model_name": "FloatProgressModel",
          "model_module_version": "1.5.0",
          "state": {
            "_view_name": "ProgressView",
            "style": "IPY_MODEL_1dba6e7e05fd4e4b811384fafb004209",
            "_dom_classes": [],
            "description": "",
            "_model_name": "FloatProgressModel",
            "bar_style": "success",
            "max": 548118077,
            "_view_module": "@jupyter-widgets/controls",
            "_model_module_version": "1.5.0",
            "value": 548118077,
            "_view_count": null,
            "_view_module_version": "1.5.0",
            "orientation": "horizontal",
            "min": 0,
            "description_tooltip": null,
            "_model_module": "@jupyter-widgets/controls",
            "layout": "IPY_MODEL_52b5080592eb42c99e25b93df62b0bc5"
          }
        },
        "60d8d299f2ae4efcb6f40089c07011dd": {
          "model_module": "@jupyter-widgets/controls",
          "model_name": "HTMLModel",
          "model_module_version": "1.5.0",
          "state": {
            "_view_name": "HTMLView",
            "style": "IPY_MODEL_e5dbc54e3f4e4c7a85535dfb5ed245fb",
            "_dom_classes": [],
            "description": "",
            "_model_name": "HTMLModel",
            "placeholder": "​",
            "_view_module": "@jupyter-widgets/controls",
            "_model_module_version": "1.5.0",
            "value": " 523M/523M [00:51&lt;00:00, 9.15MB/s]",
            "_view_count": null,
            "_view_module_version": "1.5.0",
            "description_tooltip": null,
            "_model_module": "@jupyter-widgets/controls",
            "layout": "IPY_MODEL_72d39b6e35734ff4b5d1730c1c07e9bb"
          }
        },
        "31d223d69d234925a254e7241390d115": {
          "model_module": "@jupyter-widgets/controls",
          "model_name": "DescriptionStyleModel",
          "model_module_version": "1.5.0",
          "state": {
            "_view_name": "StyleView",
            "_model_name": "DescriptionStyleModel",
            "description_width": "",
            "_view_module": "@jupyter-widgets/base",
            "_model_module_version": "1.5.0",
            "_view_count": null,
            "_view_module_version": "1.2.0",
            "_model_module": "@jupyter-widgets/controls"
          }
        },
        "58c0f3a1804c4a76bb457cf7a44d4096": {
          "model_module": "@jupyter-widgets/base",
          "model_name": "LayoutModel",
          "model_module_version": "1.2.0",
          "state": {
            "_view_name": "LayoutView",
            "grid_template_rows": null,
            "right": null,
            "justify_content": null,
            "_view_module": "@jupyter-widgets/base",
            "overflow": null,
            "_model_module_version": "1.2.0",
            "_view_count": null,
            "flex_flow": null,
            "width": null,
            "min_width": null,
            "border": null,
            "align_items": null,
            "bottom": null,
            "_model_module": "@jupyter-widgets/base",
            "top": null,
            "grid_column": null,
            "overflow_y": null,
            "overflow_x": null,
            "grid_auto_flow": null,
            "grid_area": null,
            "grid_template_columns": null,
            "flex": null,
            "_model_name": "LayoutModel",
            "justify_items": null,
            "grid_row": null,
            "max_height": null,
            "align_content": null,
            "visibility": null,
            "align_self": null,
            "height": null,
            "min_height": null,
            "padding": null,
            "grid_auto_rows": null,
            "grid_gap": null,
            "max_width": null,
            "order": null,
            "_view_module_version": "1.2.0",
            "grid_template_areas": null,
            "object_position": null,
            "object_fit": null,
            "grid_auto_columns": null,
            "margin": null,
            "display": null,
            "left": null
          }
        },
        "1dba6e7e05fd4e4b811384fafb004209": {
          "model_module": "@jupyter-widgets/controls",
          "model_name": "ProgressStyleModel",
          "model_module_version": "1.5.0",
          "state": {
            "_view_name": "StyleView",
            "_model_name": "ProgressStyleModel",
            "description_width": "",
            "_view_module": "@jupyter-widgets/base",
            "_model_module_version": "1.5.0",
            "_view_count": null,
            "_view_module_version": "1.2.0",
            "bar_color": null,
            "_model_module": "@jupyter-widgets/controls"
          }
        },
        "52b5080592eb42c99e25b93df62b0bc5": {
          "model_module": "@jupyter-widgets/base",
          "model_name": "LayoutModel",
          "model_module_version": "1.2.0",
          "state": {
            "_view_name": "LayoutView",
            "grid_template_rows": null,
            "right": null,
            "justify_content": null,
            "_view_module": "@jupyter-widgets/base",
            "overflow": null,
            "_model_module_version": "1.2.0",
            "_view_count": null,
            "flex_flow": null,
            "width": null,
            "min_width": null,
            "border": null,
            "align_items": null,
            "bottom": null,
            "_model_module": "@jupyter-widgets/base",
            "top": null,
            "grid_column": null,
            "overflow_y": null,
            "overflow_x": null,
            "grid_auto_flow": null,
            "grid_area": null,
            "grid_template_columns": null,
            "flex": null,
            "_model_name": "LayoutModel",
            "justify_items": null,
            "grid_row": null,
            "max_height": null,
            "align_content": null,
            "visibility": null,
            "align_self": null,
            "height": null,
            "min_height": null,
            "padding": null,
            "grid_auto_rows": null,
            "grid_gap": null,
            "max_width": null,
            "order": null,
            "_view_module_version": "1.2.0",
            "grid_template_areas": null,
            "object_position": null,
            "object_fit": null,
            "grid_auto_columns": null,
            "margin": null,
            "display": null,
            "left": null
          }
        },
        "e5dbc54e3f4e4c7a85535dfb5ed245fb": {
          "model_module": "@jupyter-widgets/controls",
          "model_name": "DescriptionStyleModel",
          "model_module_version": "1.5.0",
          "state": {
            "_view_name": "StyleView",
            "_model_name": "DescriptionStyleModel",
            "description_width": "",
            "_view_module": "@jupyter-widgets/base",
            "_model_module_version": "1.5.0",
            "_view_count": null,
            "_view_module_version": "1.2.0",
            "_model_module": "@jupyter-widgets/controls"
          }
        },
        "72d39b6e35734ff4b5d1730c1c07e9bb": {
          "model_module": "@jupyter-widgets/base",
          "model_name": "LayoutModel",
          "model_module_version": "1.2.0",
          "state": {
            "_view_name": "LayoutView",
            "grid_template_rows": null,
            "right": null,
            "justify_content": null,
            "_view_module": "@jupyter-widgets/base",
            "overflow": null,
            "_model_module_version": "1.2.0",
            "_view_count": null,
            "flex_flow": null,
            "width": null,
            "min_width": null,
            "border": null,
            "align_items": null,
            "bottom": null,
            "_model_module": "@jupyter-widgets/base",
            "top": null,
            "grid_column": null,
            "overflow_y": null,
            "overflow_x": null,
            "grid_auto_flow": null,
            "grid_area": null,
            "grid_template_columns": null,
            "flex": null,
            "_model_name": "LayoutModel",
            "justify_items": null,
            "grid_row": null,
            "max_height": null,
            "align_content": null,
            "visibility": null,
            "align_self": null,
            "height": null,
            "min_height": null,
            "padding": null,
            "grid_auto_rows": null,
            "grid_gap": null,
            "max_width": null,
            "order": null,
            "_view_module_version": "1.2.0",
            "grid_template_areas": null,
            "object_position": null,
            "object_fit": null,
            "grid_auto_columns": null,
            "margin": null,
            "display": null,
            "left": null
          }
        }
      }
    }
  },
  "nbformat": 4,
  "nbformat_minor": 0
}