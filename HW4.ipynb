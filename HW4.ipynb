{
  "cells": [
    {
      "cell_type": "markdown",
      "metadata": {
        "id": "S7VUEp_STnBs"
      },
      "source": [
        "# Week 4 - Exploring Semantic Spaces (Word Embeddings)\n",
        "This week, we build on last week's topic modeling techniques by taking a text corpus we have developed, specifying an underlying number of dimensions, and training a model with a neural network auto-encoder (one of Google's word2vec  algorithms) that best describes corpus words in their local linguistic contexts, and exploring their locations in the resulting space to learn about the discursive culture that produced them.\n",
        "\n",
        "This is our third document representation we have learned: First, we used word counts. Second, we used LDA topic models built around term coocurrence in the same document (i.e., a \"bag of words\"). Third, documents here are represented as densely indexed locations in dimensions, so that distances between those documents (and words) contain more information, though they require the full vector of dimension loadings (rather than just a few selected topic loadings) to describe. We will explore these spaces to understand complex, semantic relationships between words, index documents with descriptive words, identify the likelihood that a given document would have been produced by a given vector model, and explore how semantic categories can help us understand the cultures that produced them.\n",
        "\n",
        "Note that most modern natural language processing (NLP) research, at least in computer science, uses word embeddings. This is the foundation of most state-of-the-art models."
      ]
    },
    {
      "cell_type": "code",
      "source": [
        "pip install -U git+git://github.com/UChicago-Computational-Content-Analysis/lucem_illud.git"
      ],
      "metadata": {
        "colab": {
          "base_uri": "https://localhost:8080/"
        },
        "id": "_9RRVJjK1B8c",
        "outputId": "4dc60f67-f2b3-43dc-a92d-d4c6207efb17"
      },
      "execution_count": 17,
      "outputs": [
        {
          "output_type": "stream",
          "name": "stdout",
          "text": [
            "Collecting git+git://github.com/UChicago-Computational-Content-Analysis/lucem_illud.git\n",
            "  Cloning git://github.com/UChicago-Computational-Content-Analysis/lucem_illud.git to /tmp/pip-req-build-zusvt3ox\n",
            "  Running command git clone -q git://github.com/UChicago-Computational-Content-Analysis/lucem_illud.git /tmp/pip-req-build-zusvt3ox\n",
            "Requirement already satisfied: numpy in /usr/local/lib/python3.7/dist-packages (from lucem-illud==8.0.1) (1.19.5)\n",
            "Requirement already satisfied: requests in /usr/local/lib/python3.7/dist-packages (from lucem-illud==8.0.1) (2.23.0)\n",
            "Requirement already satisfied: pandas in /usr/local/lib/python3.7/dist-packages (from lucem-illud==8.0.1) (1.3.5)\n",
            "Requirement already satisfied: python-docx in /usr/local/lib/python3.7/dist-packages (from lucem-illud==8.0.1) (0.8.11)\n",
            "Requirement already satisfied: pillow in /usr/local/lib/python3.7/dist-packages (from lucem-illud==8.0.1) (7.1.2)\n",
            "Requirement already satisfied: pdfminer2 in /usr/local/lib/python3.7/dist-packages (from lucem-illud==8.0.1) (20151206)\n",
            "Requirement already satisfied: GitPython in /usr/local/lib/python3.7/dist-packages (from lucem-illud==8.0.1) (3.1.26)\n",
            "Requirement already satisfied: wordcloud in /usr/local/lib/python3.7/dist-packages (from lucem-illud==8.0.1) (1.5.0)\n",
            "Requirement already satisfied: scipy in /usr/local/lib/python3.7/dist-packages (from lucem-illud==8.0.1) (1.4.1)\n",
            "Requirement already satisfied: seaborn in /usr/local/lib/python3.7/dist-packages (from lucem-illud==8.0.1) (0.11.2)\n",
            "Requirement already satisfied: scikit-learn in /usr/local/lib/python3.7/dist-packages (from lucem-illud==8.0.1) (1.0.2)\n",
            "Requirement already satisfied: nltk in /usr/local/lib/python3.7/dist-packages (from lucem-illud==8.0.1) (3.2.5)\n",
            "Requirement already satisfied: gensim in /usr/local/lib/python3.7/dist-packages (from lucem-illud==8.0.1) (3.6.0)\n",
            "Requirement already satisfied: matplotlib in /usr/local/lib/python3.7/dist-packages (from lucem-illud==8.0.1) (3.2.2)\n",
            "Requirement already satisfied: pyanno3 in /usr/local/lib/python3.7/dist-packages (from lucem-illud==8.0.1) (2.0.2)\n",
            "Requirement already satisfied: beautifulsoup4 in /usr/local/lib/python3.7/dist-packages (from lucem-illud==8.0.1) (4.6.3)\n",
            "Requirement already satisfied: graphviz in /usr/local/lib/python3.7/dist-packages (from lucem-illud==8.0.1) (0.10.1)\n",
            "Requirement already satisfied: boto3 in /usr/local/lib/python3.7/dist-packages (from lucem-illud==8.0.1) (1.20.51)\n",
            "Requirement already satisfied: networkx in /usr/local/lib/python3.7/dist-packages (from lucem-illud==8.0.1) (2.6.3)\n",
            "Requirement already satisfied: pydub in /usr/local/lib/python3.7/dist-packages (from lucem-illud==8.0.1) (0.25.1)\n",
            "Requirement already satisfied: speechrecognition in /usr/local/lib/python3.7/dist-packages (from lucem-illud==8.0.1) (3.8.1)\n",
            "Requirement already satisfied: pysoundfile in /usr/local/lib/python3.7/dist-packages (from lucem-illud==8.0.1) (0.9.0.post1)\n",
            "Requirement already satisfied: scikit-image in /usr/local/lib/python3.7/dist-packages (from lucem-illud==8.0.1) (0.18.3)\n",
            "Requirement already satisfied: IPython in /usr/local/lib/python3.7/dist-packages (from lucem-illud==8.0.1) (5.5.0)\n",
            "Requirement already satisfied: spacy in /usr/local/lib/python3.7/dist-packages (from lucem-illud==8.0.1) (2.2.4)\n",
            "Requirement already satisfied: botocore<1.24.0,>=1.23.51 in /usr/local/lib/python3.7/dist-packages (from boto3->lucem-illud==8.0.1) (1.23.51)\n",
            "Requirement already satisfied: s3transfer<0.6.0,>=0.5.0 in /usr/local/lib/python3.7/dist-packages (from boto3->lucem-illud==8.0.1) (0.5.1)\n",
            "Requirement already satisfied: jmespath<1.0.0,>=0.7.1 in /usr/local/lib/python3.7/dist-packages (from boto3->lucem-illud==8.0.1) (0.10.0)\n",
            "Requirement already satisfied: urllib3<1.27,>=1.25.4 in /usr/local/lib/python3.7/dist-packages (from botocore<1.24.0,>=1.23.51->boto3->lucem-illud==8.0.1) (1.25.11)\n",
            "Requirement already satisfied: python-dateutil<3.0.0,>=2.1 in /usr/local/lib/python3.7/dist-packages (from botocore<1.24.0,>=1.23.51->boto3->lucem-illud==8.0.1) (2.8.2)\n",
            "Requirement already satisfied: six>=1.5 in /usr/local/lib/python3.7/dist-packages (from python-dateutil<3.0.0,>=2.1->botocore<1.24.0,>=1.23.51->boto3->lucem-illud==8.0.1) (1.15.0)\n",
            "Requirement already satisfied: smart-open>=1.2.1 in /usr/local/lib/python3.7/dist-packages (from gensim->lucem-illud==8.0.1) (5.2.1)\n",
            "Requirement already satisfied: typing-extensions>=3.7.4.3 in /usr/local/lib/python3.7/dist-packages (from GitPython->lucem-illud==8.0.1) (3.10.0.2)\n",
            "Requirement already satisfied: gitdb<5,>=4.0.1 in /usr/local/lib/python3.7/dist-packages (from GitPython->lucem-illud==8.0.1) (4.0.9)\n",
            "Requirement already satisfied: smmap<6,>=3.0.1 in /usr/local/lib/python3.7/dist-packages (from gitdb<5,>=4.0.1->GitPython->lucem-illud==8.0.1) (5.0.0)\n",
            "Requirement already satisfied: decorator in /usr/local/lib/python3.7/dist-packages (from IPython->lucem-illud==8.0.1) (4.4.2)\n",
            "Requirement already satisfied: setuptools>=18.5 in /usr/local/lib/python3.7/dist-packages (from IPython->lucem-illud==8.0.1) (57.4.0)\n",
            "Requirement already satisfied: simplegeneric>0.8 in /usr/local/lib/python3.7/dist-packages (from IPython->lucem-illud==8.0.1) (0.8.1)\n",
            "Requirement already satisfied: pickleshare in /usr/local/lib/python3.7/dist-packages (from IPython->lucem-illud==8.0.1) (0.7.5)\n",
            "Requirement already satisfied: traitlets>=4.2 in /usr/local/lib/python3.7/dist-packages (from IPython->lucem-illud==8.0.1) (5.1.1)\n",
            "Requirement already satisfied: pygments in /usr/local/lib/python3.7/dist-packages (from IPython->lucem-illud==8.0.1) (2.6.1)\n",
            "Requirement already satisfied: pexpect in /usr/local/lib/python3.7/dist-packages (from IPython->lucem-illud==8.0.1) (4.8.0)\n",
            "Requirement already satisfied: prompt-toolkit<2.0.0,>=1.0.4 in /usr/local/lib/python3.7/dist-packages (from IPython->lucem-illud==8.0.1) (1.0.18)\n",
            "Requirement already satisfied: wcwidth in /usr/local/lib/python3.7/dist-packages (from prompt-toolkit<2.0.0,>=1.0.4->IPython->lucem-illud==8.0.1) (0.2.5)\n",
            "Requirement already satisfied: pyparsing!=2.0.4,!=2.1.2,!=2.1.6,>=2.0.1 in /usr/local/lib/python3.7/dist-packages (from matplotlib->lucem-illud==8.0.1) (3.0.7)\n",
            "Requirement already satisfied: cycler>=0.10 in /usr/local/lib/python3.7/dist-packages (from matplotlib->lucem-illud==8.0.1) (0.11.0)\n",
            "Requirement already satisfied: kiwisolver>=1.0.1 in /usr/local/lib/python3.7/dist-packages (from matplotlib->lucem-illud==8.0.1) (1.3.2)\n",
            "Requirement already satisfied: pytz>=2017.3 in /usr/local/lib/python3.7/dist-packages (from pandas->lucem-illud==8.0.1) (2018.9)\n",
            "Requirement already satisfied: ptyprocess>=0.5 in /usr/local/lib/python3.7/dist-packages (from pexpect->IPython->lucem-illud==8.0.1) (0.7.0)\n",
            "Requirement already satisfied: traits in /usr/local/lib/python3.7/dist-packages (from pyanno3->lucem-illud==8.0.1) (6.3.2)\n",
            "Requirement already satisfied: cffi>=0.6 in /usr/local/lib/python3.7/dist-packages (from pysoundfile->lucem-illud==8.0.1) (1.15.0)\n",
            "Requirement already satisfied: pycparser in /usr/local/lib/python3.7/dist-packages (from cffi>=0.6->pysoundfile->lucem-illud==8.0.1) (2.21)\n",
            "Requirement already satisfied: lxml>=2.3.2 in /usr/local/lib/python3.7/dist-packages (from python-docx->lucem-illud==8.0.1) (4.2.6)\n",
            "Requirement already satisfied: chardet<4,>=3.0.2 in /usr/local/lib/python3.7/dist-packages (from requests->lucem-illud==8.0.1) (3.0.4)\n",
            "Requirement already satisfied: certifi>=2017.4.17 in /usr/local/lib/python3.7/dist-packages (from requests->lucem-illud==8.0.1) (2021.10.8)\n",
            "Requirement already satisfied: idna<3,>=2.5 in /usr/local/lib/python3.7/dist-packages (from requests->lucem-illud==8.0.1) (2.10)\n",
            "Requirement already satisfied: PyWavelets>=1.1.1 in /usr/local/lib/python3.7/dist-packages (from scikit-image->lucem-illud==8.0.1) (1.2.0)\n",
            "Requirement already satisfied: imageio>=2.3.0 in /usr/local/lib/python3.7/dist-packages (from scikit-image->lucem-illud==8.0.1) (2.4.1)\n",
            "Requirement already satisfied: tifffile>=2019.7.26 in /usr/local/lib/python3.7/dist-packages (from scikit-image->lucem-illud==8.0.1) (2021.11.2)\n",
            "Requirement already satisfied: threadpoolctl>=2.0.0 in /usr/local/lib/python3.7/dist-packages (from scikit-learn->lucem-illud==8.0.1) (3.1.0)\n",
            "Requirement already satisfied: joblib>=0.11 in /usr/local/lib/python3.7/dist-packages (from scikit-learn->lucem-illud==8.0.1) (1.1.0)\n",
            "Requirement already satisfied: catalogue<1.1.0,>=0.0.7 in /usr/local/lib/python3.7/dist-packages (from spacy->lucem-illud==8.0.1) (1.0.0)\n",
            "Requirement already satisfied: murmurhash<1.1.0,>=0.28.0 in /usr/local/lib/python3.7/dist-packages (from spacy->lucem-illud==8.0.1) (1.0.6)\n",
            "Requirement already satisfied: srsly<1.1.0,>=1.0.2 in /usr/local/lib/python3.7/dist-packages (from spacy->lucem-illud==8.0.1) (1.0.5)\n",
            "Requirement already satisfied: thinc==7.4.0 in /usr/local/lib/python3.7/dist-packages (from spacy->lucem-illud==8.0.1) (7.4.0)\n",
            "Requirement already satisfied: preshed<3.1.0,>=3.0.2 in /usr/local/lib/python3.7/dist-packages (from spacy->lucem-illud==8.0.1) (3.0.6)\n",
            "Requirement already satisfied: wasabi<1.1.0,>=0.4.0 in /usr/local/lib/python3.7/dist-packages (from spacy->lucem-illud==8.0.1) (0.9.0)\n",
            "Requirement already satisfied: cymem<2.1.0,>=2.0.2 in /usr/local/lib/python3.7/dist-packages (from spacy->lucem-illud==8.0.1) (2.0.6)\n",
            "Requirement already satisfied: plac<1.2.0,>=0.9.6 in /usr/local/lib/python3.7/dist-packages (from spacy->lucem-illud==8.0.1) (1.1.3)\n",
            "Requirement already satisfied: blis<0.5.0,>=0.4.0 in /usr/local/lib/python3.7/dist-packages (from spacy->lucem-illud==8.0.1) (0.4.1)\n",
            "Requirement already satisfied: tqdm<5.0.0,>=4.38.0 in /usr/local/lib/python3.7/dist-packages (from spacy->lucem-illud==8.0.1) (4.62.3)\n",
            "Requirement already satisfied: importlib-metadata>=0.20 in /usr/local/lib/python3.7/dist-packages (from catalogue<1.1.0,>=0.0.7->spacy->lucem-illud==8.0.1) (4.10.1)\n",
            "Requirement already satisfied: zipp>=0.5 in /usr/local/lib/python3.7/dist-packages (from importlib-metadata>=0.20->catalogue<1.1.0,>=0.0.7->spacy->lucem-illud==8.0.1) (3.7.0)\n"
          ]
        }
      ]
    },
    {
      "cell_type": "code",
      "execution_count": 19,
      "metadata": {
        "id": "leXBICCoTnBz"
      },
      "outputs": [],
      "source": [
        "#All these packages need to be installed from pip\n",
        "import gensim#For word2vec, etc\n",
        "import requests #For downloading our datasets\n",
        "import lucem_illud #pip install -U git+git://github.com/UChicago-Computational-Content-Analysis/lucem_illud.git\n",
        "\n",
        "import numpy as np #For arrays\n",
        "import pandas #Gives us DataFrames\n",
        "import matplotlib.pyplot as plt #For graphics\n",
        "import seaborn #Makes the graphics look nicer\n",
        "import sklearn.metrics.pairwise #For cosine similarity\n",
        "import sklearn.manifold #For T-SNE\n",
        "import sklearn.decomposition #For PCA\n",
        "\n",
        "#This 'magic' command makes the plots work better\n",
        "#in the notebook, don't use it outside of a notebook.\n",
        "#Also you can ignore the warning\n",
        "%matplotlib inline\n",
        "\n",
        "import os #For looking through files\n",
        "import os.path #For managing file paths"
      ]
    },
    {
      "cell_type": "code",
      "source": [
        "from google.colab import drive\n",
        "drive.mount('/content/drive')"
      ],
      "metadata": {
        "colab": {
          "base_uri": "https://localhost:8080/"
        },
        "id": "INYPhyeq2Ecy",
        "outputId": "8cd2aac9-3010-4550-9ec9-fd276b8162c8"
      },
      "execution_count": 3,
      "outputs": [
        {
          "output_type": "stream",
          "name": "stdout",
          "text": [
            "Mounted at /content/drive\n"
          ]
        }
      ]
    },
    {
      "cell_type": "markdown",
      "metadata": {
        "id": "LO3NQ-aPTnCK"
      },
      "source": [
        "## <font color=\"red\">*Exercise 1*</font>\n",
        "\n",
        "<font color=\"red\">Construct cells immediately below this that embed documents related to your final project using at least two different specification of `word2vec` and/or `fasttext`, and visualize them each with two separate visualization layout specifications (e.g., TSNE, PCA). Then interrogate critical word vectors within your corpus in terms of the most similar words, analogies, and other additions and subtractions that reveal the structure of similarity and difference within your semantic space. What does this pattern reveal about the semantic organization of words in your corpora? Which estimation and visualization specification generate the most insight and appear the most robustly supported and why? \n",
        "\n",
        "<font color=\"red\">***Stretch***: Explore different vector calculations beyond addition and subtraction, such as multiplication, division or some other function. What does this exploration reveal about the semantic structure of your corpus?"
      ]
    },
    {
      "cell_type": "code",
      "source": [
        "import pandas as pd"
      ],
      "metadata": {
        "id": "OHM4CE-4J14s"
      },
      "execution_count": 6,
      "outputs": []
    },
    {
      "cell_type": "code",
      "source": [
        "mbti = pd.read_csv(\"/content/drive/MyDrive/MBTI 500.csv\") "
      ],
      "metadata": {
        "id": "1KUWUtqGHhwm"
      },
      "execution_count": 7,
      "outputs": []
    },
    {
      "cell_type": "code",
      "source": [
        "mbti.head(5) #the dataset contains posts made by users who\n",
        "            #identified themselves as one of the MBTI types (\"INTJ\", \"ENFP\", etc.)"
      ],
      "metadata": {
        "colab": {
          "base_uri": "https://localhost:8080/",
          "height": 206
        },
        "id": "RkqyirvhJQmB",
        "outputId": "635f4f11-0149-4793-f5ef-63cf929831cf"
      },
      "execution_count": 13,
      "outputs": [
        {
          "output_type": "execute_result",
          "data": {
            "text/html": [
              "\n",
              "  <div id=\"df-b5ddcae6-aa4a-4691-9b46-205ed59cf4be\">\n",
              "    <div class=\"colab-df-container\">\n",
              "      <div>\n",
              "<style scoped>\n",
              "    .dataframe tbody tr th:only-of-type {\n",
              "        vertical-align: middle;\n",
              "    }\n",
              "\n",
              "    .dataframe tbody tr th {\n",
              "        vertical-align: top;\n",
              "    }\n",
              "\n",
              "    .dataframe thead th {\n",
              "        text-align: right;\n",
              "    }\n",
              "</style>\n",
              "<table border=\"1\" class=\"dataframe\">\n",
              "  <thead>\n",
              "    <tr style=\"text-align: right;\">\n",
              "      <th></th>\n",
              "      <th>posts</th>\n",
              "      <th>type</th>\n",
              "    </tr>\n",
              "  </thead>\n",
              "  <tbody>\n",
              "    <tr>\n",
              "      <th>0</th>\n",
              "      <td>know intj tool use interaction people excuse a...</td>\n",
              "      <td>INTJ</td>\n",
              "    </tr>\n",
              "    <tr>\n",
              "      <th>1</th>\n",
              "      <td>rap music ehh opp yeah know valid well know fa...</td>\n",
              "      <td>INTJ</td>\n",
              "    </tr>\n",
              "    <tr>\n",
              "      <th>2</th>\n",
              "      <td>preferably p hd low except wew lad video p min...</td>\n",
              "      <td>INTJ</td>\n",
              "    </tr>\n",
              "    <tr>\n",
              "      <th>3</th>\n",
              "      <td>drink like wish could drink red wine give head...</td>\n",
              "      <td>INTJ</td>\n",
              "    </tr>\n",
              "    <tr>\n",
              "      <th>4</th>\n",
              "      <td>space program ah bad deal meing freelance max ...</td>\n",
              "      <td>INTJ</td>\n",
              "    </tr>\n",
              "  </tbody>\n",
              "</table>\n",
              "</div>\n",
              "      <button class=\"colab-df-convert\" onclick=\"convertToInteractive('df-b5ddcae6-aa4a-4691-9b46-205ed59cf4be')\"\n",
              "              title=\"Convert this dataframe to an interactive table.\"\n",
              "              style=\"display:none;\">\n",
              "        \n",
              "  <svg xmlns=\"http://www.w3.org/2000/svg\" height=\"24px\"viewBox=\"0 0 24 24\"\n",
              "       width=\"24px\">\n",
              "    <path d=\"M0 0h24v24H0V0z\" fill=\"none\"/>\n",
              "    <path d=\"M18.56 5.44l.94 2.06.94-2.06 2.06-.94-2.06-.94-.94-2.06-.94 2.06-2.06.94zm-11 1L8.5 8.5l.94-2.06 2.06-.94-2.06-.94L8.5 2.5l-.94 2.06-2.06.94zm10 10l.94 2.06.94-2.06 2.06-.94-2.06-.94-.94-2.06-.94 2.06-2.06.94z\"/><path d=\"M17.41 7.96l-1.37-1.37c-.4-.4-.92-.59-1.43-.59-.52 0-1.04.2-1.43.59L10.3 9.45l-7.72 7.72c-.78.78-.78 2.05 0 2.83L4 21.41c.39.39.9.59 1.41.59.51 0 1.02-.2 1.41-.59l7.78-7.78 2.81-2.81c.8-.78.8-2.07 0-2.86zM5.41 20L4 18.59l7.72-7.72 1.47 1.35L5.41 20z\"/>\n",
              "  </svg>\n",
              "      </button>\n",
              "      \n",
              "  <style>\n",
              "    .colab-df-container {\n",
              "      display:flex;\n",
              "      flex-wrap:wrap;\n",
              "      gap: 12px;\n",
              "    }\n",
              "\n",
              "    .colab-df-convert {\n",
              "      background-color: #E8F0FE;\n",
              "      border: none;\n",
              "      border-radius: 50%;\n",
              "      cursor: pointer;\n",
              "      display: none;\n",
              "      fill: #1967D2;\n",
              "      height: 32px;\n",
              "      padding: 0 0 0 0;\n",
              "      width: 32px;\n",
              "    }\n",
              "\n",
              "    .colab-df-convert:hover {\n",
              "      background-color: #E2EBFA;\n",
              "      box-shadow: 0px 1px 2px rgba(60, 64, 67, 0.3), 0px 1px 3px 1px rgba(60, 64, 67, 0.15);\n",
              "      fill: #174EA6;\n",
              "    }\n",
              "\n",
              "    [theme=dark] .colab-df-convert {\n",
              "      background-color: #3B4455;\n",
              "      fill: #D2E3FC;\n",
              "    }\n",
              "\n",
              "    [theme=dark] .colab-df-convert:hover {\n",
              "      background-color: #434B5C;\n",
              "      box-shadow: 0px 1px 3px 1px rgba(0, 0, 0, 0.15);\n",
              "      filter: drop-shadow(0px 1px 2px rgba(0, 0, 0, 0.3));\n",
              "      fill: #FFFFFF;\n",
              "    }\n",
              "  </style>\n",
              "\n",
              "      <script>\n",
              "        const buttonEl =\n",
              "          document.querySelector('#df-b5ddcae6-aa4a-4691-9b46-205ed59cf4be button.colab-df-convert');\n",
              "        buttonEl.style.display =\n",
              "          google.colab.kernel.accessAllowed ? 'block' : 'none';\n",
              "\n",
              "        async function convertToInteractive(key) {\n",
              "          const element = document.querySelector('#df-b5ddcae6-aa4a-4691-9b46-205ed59cf4be');\n",
              "          const dataTable =\n",
              "            await google.colab.kernel.invokeFunction('convertToInteractive',\n",
              "                                                     [key], {});\n",
              "          if (!dataTable) return;\n",
              "\n",
              "          const docLinkHtml = 'Like what you see? Visit the ' +\n",
              "            '<a target=\"_blank\" href=https://colab.research.google.com/notebooks/data_table.ipynb>data table notebook</a>'\n",
              "            + ' to learn more about interactive tables.';\n",
              "          element.innerHTML = '';\n",
              "          dataTable['output_type'] = 'display_data';\n",
              "          await google.colab.output.renderOutput(dataTable, element);\n",
              "          const docLink = document.createElement('div');\n",
              "          docLink.innerHTML = docLinkHtml;\n",
              "          element.appendChild(docLink);\n",
              "        }\n",
              "      </script>\n",
              "    </div>\n",
              "  </div>\n",
              "  "
            ],
            "text/plain": [
              "                                               posts  type\n",
              "0  know intj tool use interaction people excuse a...  INTJ\n",
              "1  rap music ehh opp yeah know valid well know fa...  INTJ\n",
              "2  preferably p hd low except wew lad video p min...  INTJ\n",
              "3  drink like wish could drink red wine give head...  INTJ\n",
              "4  space program ah bad deal meing freelance max ...  INTJ"
            ]
          },
          "metadata": {},
          "execution_count": 13
        }
      ]
    },
    {
      "cell_type": "code",
      "source": [
        "df = (mbti.loc[mbti['type'] == 'INTJ'])[:500] #only posts made by \"INTJs\" are included in the small sample"
      ],
      "metadata": {
        "id": "fNuXq8dGON0p"
      },
      "execution_count": 44,
      "outputs": []
    },
    {
      "cell_type": "code",
      "source": [
        "len(df)"
      ],
      "metadata": {
        "colab": {
          "base_uri": "https://localhost:8080/"
        },
        "id": "rpPDC3NBKYsP",
        "outputId": "0744af14-885a-4337-c441-d2347864f7ac"
      },
      "execution_count": 45,
      "outputs": [
        {
          "output_type": "execute_result",
          "data": {
            "text/plain": [
              "500"
            ]
          },
          "metadata": {},
          "execution_count": 45
        }
      ]
    },
    {
      "cell_type": "code",
      "source": [
        "df['tokenized_sents'] = df['posts'].apply(lambda x: [lucem_illud.word_tokenize(s) for s in lucem_illud.sent_tokenize(x)])\n",
        "df['normalized_sents'] = df['tokenized_sents'].apply(lambda x: [lucem_illud.normalizeTokens(s) for s in x])"
      ],
      "metadata": {
        "id": "4OmAMP_jKiYk"
      },
      "execution_count": 46,
      "outputs": []
    },
    {
      "cell_type": "code",
      "source": [
        "dfW2V = gensim.models.word2vec.Word2Vec(df['normalized_sents'].sum(), sg=0)"
      ],
      "metadata": {
        "id": "h0q53_HdL83I"
      },
      "execution_count": 47,
      "outputs": []
    },
    {
      "cell_type": "code",
      "source": [
        "dfW2V.most_similar('love')"
      ],
      "metadata": {
        "colab": {
          "base_uri": "https://localhost:8080/"
        },
        "id": "4P9RQbOkMLbI",
        "outputId": "2dca5c93-63ed-44b4-f8e8-3158ea84babc"
      },
      "execution_count": 281,
      "outputs": [
        {
          "output_type": "execute_result",
          "data": {
            "text/plain": [
              "[('great', 0.9993513226509094),\n",
              " ('enjoy', 0.9993342161178589),\n",
              " ('win', 0.9993133544921875),\n",
              " ('nice', 0.9992208480834961),\n",
              " ('girl', 0.9992009401321411),\n",
              " ('happy', 0.9991782307624817),\n",
              " ('guy', 0.9991720914840698),\n",
              " ('luck', 0.999172031879425),\n",
              " ('fun', 0.9991632699966431),\n",
              " ('stuff', 0.9991630911827087)]"
            ]
          },
          "metadata": {},
          "execution_count": 281
        }
      ]
    },
    {
      "cell_type": "code",
      "source": [
        "dfW2V.most_similar('relationship')"
      ],
      "metadata": {
        "colab": {
          "base_uri": "https://localhost:8080/"
        },
        "id": "KNVzqJ6hMlKO",
        "outputId": "b39b3da7-d5a4-4e96-cc29-98722ab65b80"
      },
      "execution_count": 283,
      "outputs": [
        {
          "output_type": "execute_result",
          "data": {
            "text/plain": [
              "[('find', 0.9993046522140503),\n",
              " ('try', 0.9992921948432922),\n",
              " ('win', 0.9992572069168091),\n",
              " ('advice', 0.9991918206214905),\n",
              " ('maybe', 0.999175488948822),\n",
              " ('great', 0.9991642236709595),\n",
              " ('date', 0.9991617798805237),\n",
              " ('meet', 0.9991480708122253),\n",
              " ('love', 0.9991269707679749),\n",
              " ('luck', 0.999119758605957)]"
            ]
          },
          "metadata": {},
          "execution_count": 283
        }
      ]
    },
    {
      "cell_type": "code",
      "source": [
        "dfW2V.doesnt_match(['love', 'family', 'relationship'])"
      ],
      "metadata": {
        "colab": {
          "base_uri": "https://localhost:8080/",
          "height": 35
        },
        "id": "1l0JwvgoMygI",
        "outputId": "7fa86d23-ff78-4520-e856-1c498380bceb"
      },
      "execution_count": 284,
      "outputs": [
        {
          "output_type": "execute_result",
          "data": {
            "application/vnd.google.colaboratory.intrinsic+json": {
              "type": "string"
            },
            "text/plain": [
              "'family'"
            ]
          },
          "metadata": {},
          "execution_count": 284
        }
      ]
    },
    {
      "cell_type": "code",
      "source": [
        "dfW2V.most_similar(positive=['love', 'family'], negative = ['relationship'])"
      ],
      "metadata": {
        "colab": {
          "base_uri": "https://localhost:8080/"
        },
        "id": "3i6L6l1ONH4m",
        "outputId": "91c473f1-1730-49cb-80a6-c922a2e489ea"
      },
      "execution_count": 286,
      "outputs": [
        {
          "output_type": "execute_result",
          "data": {
            "text/plain": [
              "[('music', 0.9992460608482361),\n",
              " ('movie', 0.9991723895072937),\n",
              " ('card', 0.9991663694381714),\n",
              " ('headphone', 0.9991554021835327),\n",
              " ('tv', 0.9991426467895508),\n",
              " ('house', 0.999139666557312),\n",
              " ('etc', 0.9991240501403809),\n",
              " ('board', 0.9991210699081421),\n",
              " ('company', 0.9991116523742676),\n",
              " ('prone', 0.9991104006767273)]"
            ]
          },
          "metadata": {},
          "execution_count": 286
        }
      ]
    },
    {
      "cell_type": "code",
      "source": [
        "numWords = 100\n",
        "targetWords = dfW2V.wv.index2word[:numWords]\n",
        "\n",
        "wordsSubMatrix = []\n",
        "for word in targetWords:\n",
        "    wordsSubMatrix.append(dfW2V[word])\n",
        "wordsSubMatrix = np.array(wordsSubMatrix)\n",
        "wordsSubMatrix"
      ],
      "metadata": {
        "id": "yAMTZ31_NiUA"
      },
      "execution_count": null,
      "outputs": []
    },
    {
      "cell_type": "code",
      "source": [
        "pcaWords = sklearn.decomposition.PCA(n_components = 50).fit(wordsSubMatrix)\n",
        "reducedPCA_data = pcaWords.transform(wordsSubMatrix)\n",
        "#T-SNE is theoretically better, but you should experiment\n",
        "tsneWords = sklearn.manifold.TSNE(n_components = 2).fit_transform(reducedPCA_data)"
      ],
      "metadata": {
        "id": "DFvcLtTtNzxK"
      },
      "execution_count": 92,
      "outputs": []
    },
    {
      "cell_type": "code",
      "source": [
        "fig = plt.figure(figsize = (10,6))\n",
        "ax = fig.add_subplot(111)\n",
        "ax.set_frame_on(False)\n",
        "plt.scatter(tsneWords[:, 0], tsneWords[:, 1], alpha = 0)#Making the points invisible \n",
        "for i, word in enumerate(targetWords):\n",
        "    ax.annotate(word, (tsneWords[:, 0][i],tsneWords[:, 1][i]), size =  20 * (numWords - i) / numWords)\n",
        "plt.xticks(())\n",
        "plt.yticks(())\n",
        "plt.show()"
      ],
      "metadata": {
        "colab": {
          "base_uri": "https://localhost:8080/",
          "height": 357
        },
        "id": "ozOhKQSJN85P",
        "outputId": "74ff2908-d6aa-4c78-91ec-6e02e8d26995"
      },
      "execution_count": 93,
      "outputs": [
        {
          "output_type": "display_data",
          "data": {
            "image/png": "[encoded data removed]",
            "text/plain": [
              "<Figure size 720x432 with 1 Axes>"
            ]
          },
          "metadata": {}
        }
      ]
    },
    {
      "cell_type": "code",
      "source": [
        "word = u'love'  \n",
        "ss = dfW2V.wv.similar_by_word(word,topn=10)\n",
        "print(\"the most similar words to \" + word + \" is: \")\n",
        "for s in ss:\n",
        "    print(s[0])\n",
        "print(\"\")"
      ],
      "metadata": {
        "colab": {
          "base_uri": "https://localhost:8080/"
        },
        "id": "TvTwAEa_QXMa",
        "outputId": "7fdab10e-445a-4959-ffe9-c15587dc5870"
      },
      "execution_count": 279,
      "outputs": [
        {
          "output_type": "stream",
          "name": "stdout",
          "text": [
            "the most similar words to love is: \n",
            "great\n",
            "enjoy\n",
            "win\n",
            "nice\n",
            "girl\n",
            "happy\n",
            "guy\n",
            "luck\n",
            "fun\n",
            "stuff\n",
            "\n"
          ]
        }
      ]
    },
    {
      "cell_type": "code",
      "source": [
        "word = u'relationship'  \n",
        "ss = dfW2V.wv.similar_by_word(word,topn=10)\n",
        "print(\"the most similar words to \" + word + \" is: \")\n",
        "for s in ss:\n",
        "    print(s[0])\n",
        "print(\"\")"
      ],
      "metadata": {
        "colab": {
          "base_uri": "https://localhost:8080/"
        },
        "id": "z48Mvkh0OPVY",
        "outputId": "597144e5-d0f6-4d8f-fb23-0a1dde21c6a7"
      },
      "execution_count": 280,
      "outputs": [
        {
          "output_type": "stream",
          "name": "stdout",
          "text": [
            "the most similar words to relationship is: \n",
            "find\n",
            "try\n",
            "win\n",
            "advice\n",
            "maybe\n",
            "great\n",
            "date\n",
            "meet\n",
            "love\n",
            "luck\n",
            "\n"
          ]
        }
      ]
    },
    {
      "cell_type": "markdown",
      "source": [
        "For some key terms that I am interested in such as \"love\" and \"relationship\", the patterns reveal that the sentiments in the posts regarding \"love\" is pretty postive. As a result, some active verbs (e.g. find, try, win, etc.) are found to be most similar to the word \"relationship\". One odd result obtained is that I have no idea how \"love-relationship\" is analogous to \"family-music\" and \"family-headphone\".    "
      ],
      "metadata": {
        "id": "NOpqoNaMSrXa"
      }
    },
    {
      "cell_type": "code",
      "source": [
        "#fast-text\n",
        "model = fasttext.train_unsupervised(\"/content/df.txt\", model='cbow')"
      ],
      "metadata": {
        "id": "Uss8fRvvVCSR"
      },
      "execution_count": 82,
      "outputs": []
    },
    {
      "cell_type": "code",
      "source": [
        "model.words[:10]"
      ],
      "metadata": {
        "colab": {
          "base_uri": "https://localhost:8080/"
        },
        "id": "WNxRrg8qMyZ9",
        "outputId": "4957d564-42cd-456a-d6fb-22e694aec173"
      },
      "execution_count": 287,
      "outputs": [
        {
          "output_type": "execute_result",
          "data": {
            "text/plain": [
              "['like',\n",
              " 'people',\n",
              " 'get',\n",
              " 'think',\n",
              " 'make',\n",
              " 'thing',\n",
              " 'go',\n",
              " 'time',\n",
              " 'know',\n",
              " 'one']"
            ]
          },
          "metadata": {},
          "execution_count": 287
        }
      ]
    },
    {
      "cell_type": "code",
      "source": [
        "[model.get_word_vector(x) for x in [\"love\", \"family\", \"relationship\"]]"
      ],
      "metadata": {
        "colab": {
          "base_uri": "https://localhost:8080/"
        },
        "id": "xfEBsO9IQaIx",
        "outputId": "6588afcf-d3de-419f-91fc-b0297949181e"
      },
      "execution_count": 292,
      "outputs": [
        {
          "output_type": "execute_result",
          "data": {
            "text/plain": [
              "[array([ 0.32410797,  0.01970364,  0.08881207,  0.25040418,  0.00640054,\n",
              "         0.4821655 ,  0.27869207, -0.04918137,  0.34630236, -0.0160548 ,\n",
              "        -0.04308524, -0.05771228, -0.08484132,  0.22864355, -0.22014663,\n",
              "        -0.00869861, -0.12477255,  0.05119818, -0.00405022, -0.01247187,\n",
              "         0.10889203,  0.23428415, -0.27709413,  0.3786932 , -0.10242614,\n",
              "         0.13360646,  0.2284725 ,  0.11949021, -0.3915986 ,  0.2312994 ,\n",
              "        -0.2548231 , -0.24827334,  0.0964344 , -0.16920117, -0.01759475,\n",
              "        -0.09540834, -0.08261921,  0.19672126,  0.28214392, -0.2529496 ,\n",
              "        -0.13204566, -0.10782336,  0.08341409, -0.09438344,  0.3185502 ,\n",
              "        -0.08569606, -0.19603452,  0.19769733, -0.14344005,  0.31939936,\n",
              "        -0.4125789 , -0.46501985, -0.14229459,  0.12725127, -0.12206879,\n",
              "        -0.05957346, -0.4697108 ,  0.22507493, -0.21281065,  0.41469142,\n",
              "         0.1887894 , -0.07697912,  0.1958402 , -0.24298045,  0.18806098,\n",
              "         0.12742496, -0.2684915 , -0.05246006, -0.08328087, -0.52178216,\n",
              "        -0.44071746, -0.2588152 ,  0.24706297,  0.06470255, -0.50251913,\n",
              "        -0.02154025,  0.3398342 ,  0.11709017,  0.21018428, -0.10842976,\n",
              "         0.06761567, -0.14300418,  0.06753677, -0.1395849 ,  0.22014345,\n",
              "        -0.04050731,  0.08692634, -0.11437124, -0.12539351, -0.00923956,\n",
              "        -0.19706385,  0.09691186,  0.19331755, -0.19071846, -0.02883975,\n",
              "        -0.25534448, -0.05548477,  0.39367032,  0.28425157, -0.28070068],\n",
              "       dtype=float32),\n",
              " array([ 0.36020663,  0.02231191,  0.09529669,  0.27542508,  0.00536869,\n",
              "         0.5319651 ,  0.30628526, -0.05064781,  0.38302228, -0.01767473,\n",
              "        -0.04541087, -0.06166079, -0.09286005,  0.25443432, -0.24112572,\n",
              "        -0.01310806, -0.13930167,  0.05519912, -0.00664969, -0.01237691,\n",
              "         0.12177698,  0.2596192 , -0.30546996,  0.41912606, -0.11048482,\n",
              "         0.14720795,  0.25035822,  0.13240539, -0.4294271 ,  0.2548641 ,\n",
              "        -0.28032216, -0.2736058 ,  0.10738747, -0.18706979, -0.0210441 ,\n",
              "        -0.10498703, -0.09281135,  0.21554896,  0.30891997, -0.2775258 ,\n",
              "        -0.14489721, -0.11839109,  0.09145752, -0.10136268,  0.35152236,\n",
              "        -0.09511131, -0.21641155,  0.21620336, -0.15690656,  0.35317346,\n",
              "        -0.45463833, -0.51055896, -0.15550122,  0.14096102, -0.13596322,\n",
              "        -0.0678462 , -0.5155178 ,  0.24728544, -0.23511091,  0.46144596,\n",
              "         0.20863499, -0.08677683,  0.21564429, -0.268725  ,  0.2092039 ,\n",
              "         0.14183825, -0.29470232, -0.05571126, -0.09267972, -0.5754692 ,\n",
              "        -0.48637933, -0.28858772,  0.27181637,  0.07261916, -0.5521133 ,\n",
              "        -0.02510309,  0.37537694,  0.1283821 ,  0.23057097, -0.12036055,\n",
              "         0.07651471, -0.1575734 ,  0.0761812 , -0.1564286 ,  0.24352182,\n",
              "        -0.04516758,  0.09499719, -0.12877542, -0.14137296, -0.01235585,\n",
              "        -0.21728416,  0.10789724,  0.21257928, -0.21008638, -0.034834  ,\n",
              "        -0.2808462 , -0.06275278,  0.43480125,  0.31111044, -0.30875432],\n",
              "       dtype=float32),\n",
              " array([ 0.34434694,  0.01876538,  0.09841745,  0.26793137,  0.00139963,\n",
              "         0.5069172 ,  0.290775  , -0.0578802 ,  0.36311796, -0.02401308,\n",
              "        -0.04293641, -0.05929288, -0.0869205 ,  0.24451557, -0.23259507,\n",
              "        -0.01367922, -0.13128175,  0.05611559, -0.00550746, -0.01496546,\n",
              "         0.10708589,  0.24700288, -0.29012   ,  0.40912563, -0.10608111,\n",
              "         0.14055397,  0.24036394,  0.12727267, -0.41380784,  0.2369912 ,\n",
              "        -0.26016712, -0.2566437 ,  0.09067675, -0.1867773 , -0.01411958,\n",
              "        -0.0981211 , -0.08739261,  0.21248573,  0.29637617, -0.26472798,\n",
              "        -0.13877693, -0.11399696,  0.08785366, -0.09744081,  0.3333647 ,\n",
              "        -0.09809231, -0.21207266,  0.21257201, -0.1539129 ,  0.34728533,\n",
              "        -0.43726975, -0.49201512, -0.14682399,  0.1269934 , -0.12196925,\n",
              "        -0.06331322, -0.49700338,  0.23632367, -0.22868995,  0.43169397,\n",
              "         0.19445182, -0.08515861,  0.2092196 , -0.25868514,  0.19468848,\n",
              "         0.13681407, -0.28472343, -0.05650437, -0.08371393, -0.5544678 ,\n",
              "        -0.4651313 , -0.27415755,  0.25960088,  0.06680616, -0.53673327,\n",
              "        -0.02488485,  0.36699292,  0.11554562,  0.2226884 , -0.10724097,\n",
              "         0.07962718, -0.14993711,  0.07602337, -0.14887646,  0.22481799,\n",
              "        -0.03592828,  0.09038993, -0.11914637, -0.13280264, -0.00768645,\n",
              "        -0.20804693,  0.10062093,  0.2063236 , -0.20217174, -0.03178272,\n",
              "        -0.2737604 , -0.06322573,  0.41738355,  0.30449465, -0.30728725],\n",
              "       dtype=float32)]"
            ]
          },
          "metadata": {},
          "execution_count": 292
        }
      ]
    },
    {
      "cell_type": "markdown",
      "metadata": {
        "id": "qbAoOaZKTnCV"
      },
      "source": [
        "## <font color=\"red\">*Exercise 2*</font>\n",
        "\n",
        "<font color=\"red\">Construct cells immediately below this that embed documents related to your final project using `doc2vec`, and explore the relationship between different documents and the word vectors you analyzed in the last exercise. Consider the most similar words to critical documents, analogies (doc _x_ + word _y_), and other additions and subtractions that reveal the structure of similarity and difference within your semantic space. What does this pattern reveal about the documentary organization of your semantic space?"
      ]
    },
    {
      "cell_type": "code",
      "source": [
        "df = (mbti.loc[mbti['type'] == 'INTJ'])[:500]"
      ],
      "metadata": {
        "id": "qPDlGSpvrv9r"
      },
      "execution_count": 135,
      "outputs": []
    },
    {
      "cell_type": "code",
      "source": [
        "df = df.reset_index()\n",
        "df.head(5)"
      ],
      "metadata": {
        "colab": {
          "base_uri": "https://localhost:8080/",
          "height": 206
        },
        "id": "osds1pmvssG5",
        "outputId": "43532e65-a782-49f7-e072-859e79ec71fe"
      },
      "execution_count": 136,
      "outputs": [
        {
          "output_type": "execute_result",
          "data": {
            "text/html": [
              "\n",
              "  <div id=\"df-acd1d42d-e35c-439f-920b-27954ca6ca26\">\n",
              "    <div class=\"colab-df-container\">\n",
              "      <div>\n",
              "<style scoped>\n",
              "    .dataframe tbody tr th:only-of-type {\n",
              "        vertical-align: middle;\n",
              "    }\n",
              "\n",
              "    .dataframe tbody tr th {\n",
              "        vertical-align: top;\n",
              "    }\n",
              "\n",
              "    .dataframe thead th {\n",
              "        text-align: right;\n",
              "    }\n",
              "</style>\n",
              "<table border=\"1\" class=\"dataframe\">\n",
              "  <thead>\n",
              "    <tr style=\"text-align: right;\">\n",
              "      <th></th>\n",
              "      <th>index</th>\n",
              "      <th>posts</th>\n",
              "      <th>type</th>\n",
              "    </tr>\n",
              "  </thead>\n",
              "  <tbody>\n",
              "    <tr>\n",
              "      <th>0</th>\n",
              "      <td>0</td>\n",
              "      <td>know intj tool use interaction people excuse a...</td>\n",
              "      <td>INTJ</td>\n",
              "    </tr>\n",
              "    <tr>\n",
              "      <th>1</th>\n",
              "      <td>1</td>\n",
              "      <td>rap music ehh opp yeah know valid well know fa...</td>\n",
              "      <td>INTJ</td>\n",
              "    </tr>\n",
              "    <tr>\n",
              "      <th>2</th>\n",
              "      <td>2</td>\n",
              "      <td>preferably p hd low except wew lad video p min...</td>\n",
              "      <td>INTJ</td>\n",
              "    </tr>\n",
              "    <tr>\n",
              "      <th>3</th>\n",
              "      <td>3</td>\n",
              "      <td>drink like wish could drink red wine give head...</td>\n",
              "      <td>INTJ</td>\n",
              "    </tr>\n",
              "    <tr>\n",
              "      <th>4</th>\n",
              "      <td>4</td>\n",
              "      <td>space program ah bad deal meing freelance max ...</td>\n",
              "      <td>INTJ</td>\n",
              "    </tr>\n",
              "  </tbody>\n",
              "</table>\n",
              "</div>\n",
              "      <button class=\"colab-df-convert\" onclick=\"convertToInteractive('df-acd1d42d-e35c-439f-920b-27954ca6ca26')\"\n",
              "              title=\"Convert this dataframe to an interactive table.\"\n",
              "              style=\"display:none;\">\n",
              "        \n",
              "  <svg xmlns=\"http://www.w3.org/2000/svg\" height=\"24px\"viewBox=\"0 0 24 24\"\n",
              "       width=\"24px\">\n",
              "    <path d=\"M0 0h24v24H0V0z\" fill=\"none\"/>\n",
              "    <path d=\"M18.56 5.44l.94 2.06.94-2.06 2.06-.94-2.06-.94-.94-2.06-.94 2.06-2.06.94zm-11 1L8.5 8.5l.94-2.06 2.06-.94-2.06-.94L8.5 2.5l-.94 2.06-2.06.94zm10 10l.94 2.06.94-2.06 2.06-.94-2.06-.94-.94-2.06-.94 2.06-2.06.94z\"/><path d=\"M17.41 7.96l-1.37-1.37c-.4-.4-.92-.59-1.43-.59-.52 0-1.04.2-1.43.59L10.3 9.45l-7.72 7.72c-.78.78-.78 2.05 0 2.83L4 21.41c.39.39.9.59 1.41.59.51 0 1.02-.2 1.41-.59l7.78-7.78 2.81-2.81c.8-.78.8-2.07 0-2.86zM5.41 20L4 18.59l7.72-7.72 1.47 1.35L5.41 20z\"/>\n",
              "  </svg>\n",
              "      </button>\n",
              "      \n",
              "  <style>\n",
              "    .colab-df-container {\n",
              "      display:flex;\n",
              "      flex-wrap:wrap;\n",
              "      gap: 12px;\n",
              "    }\n",
              "\n",
              "    .colab-df-convert {\n",
              "      background-color: #E8F0FE;\n",
              "      border: none;\n",
              "      border-radius: 50%;\n",
              "      cursor: pointer;\n",
              "      display: none;\n",
              "      fill: #1967D2;\n",
              "      height: 32px;\n",
              "      padding: 0 0 0 0;\n",
              "      width: 32px;\n",
              "    }\n",
              "\n",
              "    .colab-df-convert:hover {\n",
              "      background-color: #E2EBFA;\n",
              "      box-shadow: 0px 1px 2px rgba(60, 64, 67, 0.3), 0px 1px 3px 1px rgba(60, 64, 67, 0.15);\n",
              "      fill: #174EA6;\n",
              "    }\n",
              "\n",
              "    [theme=dark] .colab-df-convert {\n",
              "      background-color: #3B4455;\n",
              "      fill: #D2E3FC;\n",
              "    }\n",
              "\n",
              "    [theme=dark] .colab-df-convert:hover {\n",
              "      background-color: #434B5C;\n",
              "      box-shadow: 0px 1px 3px 1px rgba(0, 0, 0, 0.15);\n",
              "      filter: drop-shadow(0px 1px 2px rgba(0, 0, 0, 0.3));\n",
              "      fill: #FFFFFF;\n",
              "    }\n",
              "  </style>\n",
              "\n",
              "      <script>\n",
              "        const buttonEl =\n",
              "          document.querySelector('#df-acd1d42d-e35c-439f-920b-27954ca6ca26 button.colab-df-convert');\n",
              "        buttonEl.style.display =\n",
              "          google.colab.kernel.accessAllowed ? 'block' : 'none';\n",
              "\n",
              "        async function convertToInteractive(key) {\n",
              "          const element = document.querySelector('#df-acd1d42d-e35c-439f-920b-27954ca6ca26');\n",
              "          const dataTable =\n",
              "            await google.colab.kernel.invokeFunction('convertToInteractive',\n",
              "                                                     [key], {});\n",
              "          if (!dataTable) return;\n",
              "\n",
              "          const docLinkHtml = 'Like what you see? Visit the ' +\n",
              "            '<a target=\"_blank\" href=https://colab.research.google.com/notebooks/data_table.ipynb>data table notebook</a>'\n",
              "            + ' to learn more about interactive tables.';\n",
              "          element.innerHTML = '';\n",
              "          dataTable['output_type'] = 'display_data';\n",
              "          await google.colab.output.renderOutput(dataTable, element);\n",
              "          const docLink = document.createElement('div');\n",
              "          docLink.innerHTML = docLinkHtml;\n",
              "          element.appendChild(docLink);\n",
              "        }\n",
              "      </script>\n",
              "    </div>\n",
              "  </div>\n",
              "  "
            ],
            "text/plain": [
              "   index                                              posts  type\n",
              "0      0  know intj tool use interaction people excuse a...  INTJ\n",
              "1      1  rap music ehh opp yeah know valid well know fa...  INTJ\n",
              "2      2  preferably p hd low except wew lad video p min...  INTJ\n",
              "3      3  drink like wish could drink red wine give head...  INTJ\n",
              "4      4  space program ah bad deal meing freelance max ...  INTJ"
            ]
          },
          "metadata": {},
          "execution_count": 136
        }
      ]
    },
    {
      "cell_type": "code",
      "source": [
        "df['tokenized_words'] = df['posts'].apply(lambda x: lucem_illud.word_tokenize(x))\n",
        "df['normalized_words'] = df['tokenized_words'].apply(lambda x: lucem_illud.normalizeTokens(x, lemma=False))"
      ],
      "metadata": {
        "id": "-WH-LOJHrxfz"
      },
      "execution_count": 137,
      "outputs": []
    },
    {
      "cell_type": "code",
      "source": [
        "keywords = ['love', 'family', 'relationship', 'emotion', 'work', 'logic', \n",
        "            'introversion', 'intuition', 'study', 'passion','insight',\n",
        "            'care','partner', 'antisocial']"
      ],
      "metadata": {
        "id": "vSLuH8wDs-hy"
      },
      "execution_count": 180,
      "outputs": []
    },
    {
      "cell_type": "code",
      "source": [
        "taggedDocs = []\n",
        "for index, row in df.iterrows():\n",
        "    #Just doing a simple keyword assignment\n",
        "    docKeywords = [s for s in keywords if s in row['normalized_words']]\n",
        "    docKeywords.append(row['index'])\n",
        "    taggedDocs.append(gensim.models.doc2vec.LabeledSentence(words = row['normalized_words'], tags = docKeywords))\n",
        "df['TaggedPosts'] = taggedDocs"
      ],
      "metadata": {
        "id": "O0K_iRnpr7xv"
      },
      "execution_count": 181,
      "outputs": []
    },
    {
      "cell_type": "code",
      "source": [
        "dfD2V = gensim.models.doc2vec.Doc2Vec(df['TaggedPosts'], size = 100)"
      ],
      "metadata": {
        "colab": {
          "base_uri": "https://localhost:8080/"
        },
        "id": "SB86PjKQteQ9",
        "outputId": "35e1997f-90a4-426e-98db-3371c10d06d6"
      },
      "execution_count": 182,
      "outputs": [
        {
          "output_type": "stream",
          "name": "stderr",
          "text": [
            "/usr/local/lib/python3.7/dist-packages/gensim/models/doc2vec.py:570: UserWarning: The parameter `size` is deprecated, will be removed in 4.0.0, use `vector_size` instead.\n",
            "  warnings.warn(\"The parameter `size` is deprecated, will be removed in 4.0.0, use `vector_size` instead.\")\n"
          ]
        }
      ]
    },
    {
      "cell_type": "code",
      "source": [
        "dfD2V.most_similar(positive = ['love','relationship'], negative = ['family'], topn = 1)"
      ],
      "metadata": {
        "colab": {
          "base_uri": "https://localhost:8080/"
        },
        "id": "Ud2dhexPu4-P",
        "outputId": "af0bbc7e-1e16-41b7-eeb3-c87f14e33c8c"
      },
      "execution_count": 183,
      "outputs": [
        {
          "output_type": "execute_result",
          "data": {
            "text/plain": [
              "[('romantic', 0.9973980188369751)]"
            ]
          },
          "metadata": {},
          "execution_count": 183
        }
      ]
    },
    {
      "cell_type": "code",
      "source": [
        "dfD2V.most_similar(positive = ['love','relationship'], negative = ['family'], topn = 3) #topn indicates the # of words shown"
      ],
      "metadata": {
        "colab": {
          "base_uri": "https://localhost:8080/"
        },
        "id": "xslqLORavE4b",
        "outputId": "099e2b45-a79a-4b6e-bff9-6817f458a0b2"
      },
      "execution_count": 184,
      "outputs": [
        {
          "output_type": "execute_result",
          "data": {
            "text/plain": [
              "[('romantic', 0.9973980188369751),\n",
              " ('friend', 0.9965231418609619),\n",
              " ('feel', 0.9956435561180115)]"
            ]
          },
          "metadata": {},
          "execution_count": 184
        }
      ]
    },
    {
      "cell_type": "code",
      "source": [
        "dfD2V.docvecs.most_similar([ dfD2V['love'] ])"
      ],
      "metadata": {
        "colab": {
          "base_uri": "https://localhost:8080/"
        },
        "id": "4XSW3Mwxh3vo",
        "outputId": "4e9916af-84fc-4343-b460-98dc3b1329c2"
      },
      "execution_count": 185,
      "outputs": [
        {
          "output_type": "execute_result",
          "data": {
            "text/plain": [
              "[(130, 0.9983829855918884),\n",
              " (304, 0.9982265830039978),\n",
              " ('passion', 0.998146653175354),\n",
              " (70, 0.998132586479187),\n",
              " (186, 0.9981314539909363),\n",
              " (181, 0.9981149435043335),\n",
              " ('antisocial', 0.9980394244194031),\n",
              " (433, 0.9980173110961914),\n",
              " (89, 0.9979085922241211),\n",
              " (56, 0.9979033470153809)]"
            ]
          },
          "metadata": {},
          "execution_count": 185
        }
      ]
    },
    {
      "cell_type": "code",
      "source": [
        "#Now let's go the other way around and find words most similar to this document:\n",
        "dfD2V.most_similar( [ dfD2V.docvecs[5] ], topn=5) "
      ],
      "metadata": {
        "colab": {
          "base_uri": "https://localhost:8080/"
        },
        "id": "t4ONJCCEwvio",
        "outputId": "3041bde6-2287-43fe-fa0e-6dec94c0bb64"
      },
      "execution_count": 186,
      "outputs": [
        {
          "output_type": "execute_result",
          "data": {
            "text/plain": [
              "[('internet', 0.9991391897201538),\n",
              " ('age', 0.9991341233253479),\n",
              " ('thank', 0.999121367931366),\n",
              " ('second', 0.9991178512573242),\n",
              " ('entire', 0.99910569190979)]"
            ]
          },
          "metadata": {},
          "execution_count": 186
        }
      ]
    },
    {
      "cell_type": "code",
      "source": [
        "dfD2V.docvecs.most_similar([ dfD2V['love']+dfD2V['family']], topn=5 ) #matches the documents appear in the cell above"
      ],
      "metadata": {
        "colab": {
          "base_uri": "https://localhost:8080/"
        },
        "id": "y4BBjMOVwNA3",
        "outputId": "0727ba85-43d6-4889-aa6e-2edb54dde32d"
      },
      "execution_count": 187,
      "outputs": [
        {
          "output_type": "execute_result",
          "data": {
            "text/plain": [
              "[(130, 0.9993596076965332),\n",
              " (304, 0.9992493987083435),\n",
              " (186, 0.9992043972015381),\n",
              " (181, 0.9991783499717712),\n",
              " ('antisocial', 0.9991679191589355)]"
            ]
          },
          "metadata": {},
          "execution_count": 187
        }
      ]
    },
    {
      "cell_type": "code",
      "source": [
        "targetDocs = df['index'][:20]"
      ],
      "metadata": {
        "id": "WocbNVH700e5"
      },
      "execution_count": 192,
      "outputs": []
    },
    {
      "cell_type": "code",
      "source": [
        "docs =  df['index'][[130,304,186, 181]]"
      ],
      "metadata": {
        "id": "f8jfHhrq-8IZ"
      },
      "execution_count": 200,
      "outputs": []
    },
    {
      "cell_type": "code",
      "source": [
        "heatmapMatrixD = []\n",
        "\n",
        "for tagOuter in targetDocs:\n",
        "    column = []\n",
        "    tagVec = dfD2V.docvecs[tagOuter].reshape(1, -1)\n",
        "    for tagInner in targetDocs:\n",
        "        column.append(sklearn.metrics.pairwise.cosine_similarity(tagVec, dfD2V.docvecs[tagInner].reshape(1, -1))[0][0])\n",
        "    heatmapMatrixD.append(column)\n",
        "heatmapMatrixD = np.array(heatmapMatrixD)"
      ],
      "metadata": {
        "id": "UJEEzzVF7OCz"
      },
      "execution_count": 196,
      "outputs": []
    },
    {
      "cell_type": "code",
      "source": [
        "fig, ax = plt.subplots()\n",
        "hmap = ax.pcolor(heatmapMatrixD, cmap='terrain')\n",
        "cbar = plt.colorbar(hmap)\n",
        "\n",
        "cbar.set_label('cosine similarity', rotation=270)\n",
        "a = ax.set_xticks(np.arange(heatmapMatrixD.shape[1]) + 0.5, minor=False)\n",
        "a = ax.set_yticks(np.arange(heatmapMatrixD.shape[0]) + 0.5, minor=False)\n",
        "\n",
        "a = ax.set_xticklabels(targetDocs, minor=False, rotation=270)\n",
        "a = ax.set_yticklabels(targetDocs, minor=False)"
      ],
      "metadata": {
        "colab": {
          "base_uri": "https://localhost:8080/",
          "height": 272
        },
        "id": "VaIEniuy7TRF",
        "outputId": "4c6ed040-ff10-4aaf-8fcd-788ee48dd51a"
      },
      "execution_count": 197,
      "outputs": [
        {
          "output_type": "display_data",
          "data": {
            "image/png": "[encoded data removed]",
            "text/plain": [
              "<Figure size 432x288 with 2 Axes>"
            ]
          },
          "metadata": {
            "needs_background": "light"
          }
        }
      ]
    },
    {
      "cell_type": "code",
      "source": [
        "heatmapMatrixD = []\n",
        "\n",
        "for tagOuter in [130,304,186, 181]:\n",
        "    column = []\n",
        "    tagVec = dfD2V.docvecs[tagOuter].reshape(1, -1)\n",
        "    for tagInner in [130,304,186, 181]:\n",
        "        column.append(sklearn.metrics.pairwise.cosine_similarity(tagVec, dfD2V.docvecs[tagInner].reshape(1, -1))[0][0])\n",
        "    heatmapMatrixD.append(column)\n",
        "heatmapMatrixD = np.array(heatmapMatrixD)"
      ],
      "metadata": {
        "id": "AYnoMQKv_SZ2"
      },
      "execution_count": 205,
      "outputs": []
    },
    {
      "cell_type": "code",
      "source": [
        "fig, ax = plt.subplots()\n",
        "hmap = ax.pcolor(heatmapMatrixD, cmap='terrain')\n",
        "cbar = plt.colorbar(hmap)\n",
        "\n",
        "cbar.set_label('cosine similarity', rotation=270)\n",
        "a = ax.set_xticks(np.arange(heatmapMatrixD.shape[1]) + 0.5, minor=False)\n",
        "a = ax.set_yticks(np.arange(heatmapMatrixD.shape[0]) + 0.5, minor=False)\n",
        "\n",
        "a = ax.set_xticklabels(targetDocs, minor=False, rotation=270)\n",
        "a = ax.set_yticklabels(targetDocs, minor=False)"
      ],
      "metadata": {
        "colab": {
          "base_uri": "https://localhost:8080/",
          "height": 266
        },
        "id": "8-5Tijc__Zom",
        "outputId": "a48f0958-5c11-4403-f2e3-56a799f4c1c9"
      },
      "execution_count": 206,
      "outputs": [
        {
          "output_type": "display_data",
          "data": {
            "image/png": "[encoded data removed]",
            "text/plain": [
              "<Figure size 432x288 with 2 Axes>"
            ]
          },
          "metadata": {
            "needs_background": "light"
          }
        }
      ]
    },
    {
      "cell_type": "code",
      "source": [
        "Nkeywords = keywords"
      ],
      "metadata": {
        "id": "weSLWMsd1FOs"
      },
      "execution_count": 193,
      "outputs": []
    },
    {
      "cell_type": "code",
      "source": [
        "heatmapMatrix = []\n",
        "for tagOuter in Nkeywords:\n",
        "    column = []\n",
        "    tagVec = dfD2V.docvecs[tagOuter].reshape(1, -1)\n",
        "    for tagInner in Nkeywords:\n",
        "        column.append(sklearn.metrics.pairwise.cosine_similarity(tagVec, dfD2V.docvecs[tagInner].reshape(1, -1))[0][0])\n",
        "    heatmapMatrix.append(column)\n",
        "heatmapMatrix = np.array(heatmapMatrix)"
      ],
      "metadata": {
        "id": "T1puNNPiAHI4"
      },
      "execution_count": 207,
      "outputs": []
    },
    {
      "cell_type": "code",
      "source": [
        "fig, ax = plt.subplots()\n",
        "hmap = ax.pcolor(heatmapMatrix, cmap='terrain')\n",
        "cbar = plt.colorbar(hmap)\n",
        "\n",
        "cbar.set_label('cosine similarity', rotation=270)\n",
        "a = ax.set_xticks(np.arange(heatmapMatrix.shape[1]) + 0.5, minor=False)\n",
        "a = ax.set_yticks(np.arange(heatmapMatrix.shape[0]) + 0.5, minor=False)\n",
        "\n",
        "a = ax.set_xticklabels(Nkeywords, minor=False, rotation=270)\n",
        "a = ax.set_yticklabels(Nkeywords, minor=False)"
      ],
      "metadata": {
        "colab": {
          "base_uri": "https://localhost:8080/",
          "height": 319
        },
        "id": "KfVJjKqzAMU1",
        "outputId": "f9a0285b-5ce6-4296-97ba-67760d4a35fd"
      },
      "execution_count": 208,
      "outputs": [
        {
          "output_type": "display_data",
          "data": {
            "image/png": "[encoded data removed]",
            "text/plain": [
              "<Figure size 432x288 with 2 Axes>"
            ]
          },
          "metadata": {
            "needs_background": "light"
          }
        }
      ]
    },
    {
      "cell_type": "code",
      "source": [
        "heatmapMatrixC = []\n",
        "\n",
        "for tagOuter in targetDocs:\n",
        "    column = []\n",
        "    tagVec = dfD2V.docvecs[tagOuter].reshape(1, -1)\n",
        "    for tagInner in Nkeywords:\n",
        "        column.append(sklearn.metrics.pairwise.cosine_similarity(tagVec, dfD2V.docvecs[tagInner].reshape(1, -1))[0][0])\n",
        "    heatmapMatrixC.append(column)\n",
        "heatmapMatrixC = np.array(heatmapMatrixC)"
      ],
      "metadata": {
        "id": "VdFm7u2x0o6P"
      },
      "execution_count": 194,
      "outputs": []
    },
    {
      "cell_type": "code",
      "source": [
        "fig, ax = plt.subplots()\n",
        "hmap = ax.pcolor(heatmapMatrixC, cmap='terrain')\n",
        "cbar = plt.colorbar(hmap)\n",
        "\n",
        "cbar.set_label('cosine similarity', rotation=270)\n",
        "a = ax.set_xticks(np.arange(heatmapMatrixC.shape[1]) + 0.5, minor=False)\n",
        "a = ax.set_yticks(np.arange(heatmapMatrixC.shape[0]) + 0.5, minor=False)\n",
        "\n",
        "a = ax.set_xticklabels(Nkeywords, minor=False, rotation=270)\n",
        "a = ax.set_yticklabels(targetDocs, minor=False)\n",
        "#more negative number indicates lower similarities "
      ],
      "metadata": {
        "colab": {
          "base_uri": "https://localhost:8080/",
          "height": 315
        },
        "id": "XzsDGeTR1MhX",
        "outputId": "8a490c19-d179-4aca-e7eb-0a73b774fdaf"
      },
      "execution_count": 195,
      "outputs": [
        {
          "output_type": "display_data",
          "data": {
            "image/png": "[encoded data removed]",
            "text/plain": [
              "<Figure size 432x288 with 2 Axes>"
            ]
          },
          "metadata": {
            "needs_background": "light"
          }
        }
      ]
    },
    {
      "cell_type": "markdown",
      "source": [
        "From the heatmaps, we can conclude that most of the documents are closely related to each other (many of them have a cosine similarity close to 1). Only Doc 1,2,6, and 11 are clearly different from other documents. As a result, they also failed to associated with the keywords (e.g. love, family, etc.) that related to other documents. We can learn from the heatmaps that the predefined list of keywords are also very similar in distance. Thus, we saw that whenever one word appears in the document, the same document also has close distnace with the other words.       "
      ],
      "metadata": {
        "id": "ahS_t0SN71Ag"
      }
    },
    {
      "cell_type": "markdown",
      "metadata": {
        "id": "EwXruDbrTnCc"
      },
      "source": [
        "## <font color=\"red\">*Exercise 3*</font>\n",
        "\n",
        "<font color=\"red\">Construct cells immediately below this that embed documents related to your final project, then generate meaningful semantic dimensions based on your theoretical understanding of the semantic space (i.e., by subtracting semantically opposite word vectors) and project another set of word vectors onto those dimensions. Interpret the meaning of these projections for your analysis. Which of the dimensions you analyze explain the most variation in the projection of your words and why? \n",
        "\n",
        "<font color=\"red\">***Stretch***: Average together multiple antonym pairs to create robust semantic dimensions. How do word projections on these robust dimensions differ from single-pair dimensions?"
      ]
    },
    {
      "cell_type": "code",
      "source": [
        "#words to create dimensions\n",
        "myTargetWords = ['social','hyper','warm','quiet','lonely','distant','cold','smart','intellectual',\n",
        "                 'dumb','slow','care','distant','emotion','logic', 'artist','lawyer','actor',\n",
        "                 'doctor','singer','math','detail','criticism','praise','cheer',\n",
        "                 'lazy','passionate']\n",
        "\n",
        "wordsSubMatrix = []\n",
        "for word in myTargetWords:\n",
        "    wordsSubMatrix.append(dfW2V[word])\n",
        "wordsSubMatrix = np.array(wordsSubMatrix)\n",
        "#wordsSubMatrix"
      ],
      "metadata": {
        "id": "IbECFMBkDOqy"
      },
      "execution_count": 216,
      "outputs": []
    },
    {
      "cell_type": "code",
      "execution_count": 218,
      "metadata": {
        "collapsed": true,
        "id": "0-8eq7jxTnCX"
      },
      "outputs": [],
      "source": [
        "pcaWordsNYT = sklearn.decomposition.PCA(n_components = 10).fit(wordsSubMatrix)\n",
        "reducedPCA_dataNYT = pcaWordsNYT.transform(wordsSubMatrix)\n",
        "#T-SNE is theoretically better, but you should experiment\n",
        "tsneWordsNYT = sklearn.manifold.TSNE(n_components = 2).fit_transform(reducedPCA_dataNYT)"
      ]
    },
    {
      "cell_type": "code",
      "source": [
        "fig = plt.figure(figsize = (20,12))\n",
        "ax = fig.add_subplot(111)\n",
        "ax.set_frame_on(False)\n",
        "plt.scatter(tsneWordsNYT[:, 0], tsneWordsNYT[:, 1], alpha = 0) #Making the points invisible\n",
        "for i, word in enumerate(myTargetWords):\n",
        "    ax.annotate(word, (tsneWordsNYT[:, 0][i],tsneWordsNYT[:, 1][i]), size =  50 * (len(myTargetWords) - i) / len(myTargetWords))\n",
        "plt.xticks(())\n",
        "plt.yticks(())\n",
        "plt.show()"
      ],
      "metadata": {
        "colab": {
          "base_uri": "https://localhost:8080/",
          "height": 683
        },
        "id": "GJ3R8umYFerq",
        "outputId": "79b9f56c-c98f-49d9-c6b2-00f8e15a2abf"
      },
      "execution_count": 220,
      "outputs": [
        {
          "output_type": "display_data",
          "data": {
            "image/png": "[encoded data removed]",
            "text/plain": [
              "<Figure size 1440x864 with 1 Axes>"
            ]
          },
          "metadata": {}
        }
      ]
    },
    {
      "cell_type": "code",
      "source": [
        "def normalize(vector):\n",
        "    normalized_vector = vector / np.linalg.norm(vector)\n",
        "    return normalized_vector\n",
        "\n",
        "def dimension(model, positives, negatives):\n",
        "    diff = sum([normalize(model[x]) for x in positives]) - sum([normalize(model[y]) for y in negatives])\n",
        "    return diff"
      ],
      "metadata": {
        "id": "IX9T-t1vFsGJ"
      },
      "execution_count": 293,
      "outputs": []
    },
    {
      "cell_type": "code",
      "source": [
        "personality = ['social','hyper','warm', 'quiet','lonely','distant']\n",
        "thoughts = ['smart','intellectual','logic','dumb','slow','emotion']\n",
        "career = ['artist', 'actor', 'singer','lawyer', 'doctor', 'math']"
      ],
      "metadata": {
        "id": "gzOSQq5zFw-r"
      },
      "execution_count": 228,
      "outputs": []
    },
    {
      "cell_type": "code",
      "source": [
        "person_type = dimension(dfW2V, ['introversion'], ['extroversion'])\n",
        "gender_type = dimension(dfW2V, ['male'], ['female'])"
      ],
      "metadata": {
        "id": "WDDptu-KIldo"
      },
      "execution_count": 240,
      "outputs": []
    },
    {
      "cell_type": "code",
      "source": [
        "def makeDF(model, word_list):\n",
        "    g = []\n",
        "    r = []\n",
        "    for word in word_list:\n",
        "        g.append(sklearn.metrics.pairwise.cosine_similarity(dfW2V[word].reshape(1,-1), person_type.reshape(1,-1))[0][0])\n",
        "        r.append(sklearn.metrics.pairwise.cosine_similarity(dfW2V[word].reshape(1,-1), gender_type.reshape(1,-1))[0][0])\n",
        "    df = pandas.DataFrame({'personality': g, 'gender': r}, index = word_list)\n",
        "    return df"
      ],
      "metadata": {
        "id": "-orJEwfhGy8O"
      },
      "execution_count": 243,
      "outputs": []
    },
    {
      "cell_type": "code",
      "execution_count": 244,
      "metadata": {
        "collapsed": true,
        "id": "rW6myVDGHGhB"
      },
      "outputs": [],
      "source": [
        "perdf = makeDF(dfW2V, personality) \n",
        "thoudf = makeDF(dfW2V, thoughts)\n",
        "careerdf = makeDF(dfW2V, career)"
      ]
    },
    {
      "cell_type": "markdown",
      "metadata": {
        "id": "yXVRzn4yHGhD"
      },
      "source": [
        "Define some useful functions for plotting."
      ]
    },
    {
      "cell_type": "code",
      "execution_count": 237,
      "metadata": {
        "collapsed": true,
        "id": "KV_E5SG2HGhD"
      },
      "outputs": [],
      "source": [
        "def Coloring(Series):\n",
        "    x = Series.values\n",
        "    y = x-x.min()\n",
        "    z = y/y.max()\n",
        "    c = list(plt.cm.rainbow(z))\n",
        "    return c\n",
        "\n",
        "def PlotDimension(ax,df, dim):\n",
        "    ax.set_frame_on(False)\n",
        "    ax.set_title(dim, fontsize = 20)\n",
        "    colors = Coloring(df[dim])\n",
        "    for i, word in enumerate(df.index):\n",
        "        ax.annotate(word, (0, df[dim][i]), color = colors[i], alpha = 0.6, fontsize = 12)\n",
        "    MaxY = df[dim].max()\n",
        "    MinY = df[dim].min()\n",
        "    plt.ylim(MinY,MaxY)\n",
        "    plt.yticks(())\n",
        "    plt.xticks(())"
      ]
    },
    {
      "cell_type": "code",
      "source": [
        "fig = plt.figure(figsize = (12,4))\n",
        "ax1 = fig.add_subplot(131)\n",
        "PlotDimension(ax1, perdf, 'personality')\n",
        "ax2 = fig.add_subplot(132)\n",
        "PlotDimension(ax2, perdf, 'gender')\n",
        "plt.show()"
      ],
      "metadata": {
        "colab": {
          "base_uri": "https://localhost:8080/",
          "height": 272
        },
        "id": "gEeJeLJMJF1l",
        "outputId": "87c7383e-0922-4b8f-a08e-6f250928d871"
      },
      "execution_count": 246,
      "outputs": [
        {
          "output_type": "display_data",
          "data": {
            "image/png": "[encoded data removed]",
            "text/plain": [
              "<Figure size 864x288 with 2 Axes>"
            ]
          },
          "metadata": {}
        }
      ]
    },
    {
      "cell_type": "code",
      "source": [
        "fig = plt.figure(figsize = (12,4))\n",
        "ax1 = fig.add_subplot(131)\n",
        "PlotDimension(ax1, thoudf, 'personality')\n",
        "ax2 = fig.add_subplot(132)\n",
        "PlotDimension(ax2, thoudf, 'gender')\n",
        "plt.show()"
      ],
      "metadata": {
        "colab": {
          "base_uri": "https://localhost:8080/",
          "height": 272
        },
        "id": "7e-8NL4HLL_8",
        "outputId": "827f2913-71e1-4ddf-b2bb-83cf0f8b3e5e"
      },
      "execution_count": 247,
      "outputs": [
        {
          "output_type": "display_data",
          "data": {
            "image/png": "[encoded data removed]",
            "text/plain": [
              "<Figure size 864x288 with 2 Axes>"
            ]
          },
          "metadata": {}
        }
      ]
    },
    {
      "cell_type": "code",
      "source": [
        "fig = plt.figure(figsize = (12,4))\n",
        "ax1 = fig.add_subplot(131)\n",
        "PlotDimension(ax1, careerdf, 'personality')\n",
        "ax2 = fig.add_subplot(132)\n",
        "PlotDimension(ax2, careerdf, 'gender')\n",
        "plt.show()"
      ],
      "metadata": {
        "colab": {
          "base_uri": "https://localhost:8080/",
          "height": 272
        },
        "id": "H_wqMhLeLMyL",
        "outputId": "140db74d-178a-4ad7-c8d8-170bab701f9f"
      },
      "execution_count": 248,
      "outputs": [
        {
          "output_type": "display_data",
          "data": {
            "image/png": "[encoded data removed]",
            "text/plain": [
              "<Figure size 864x288 with 2 Axes>"
            ]
          },
          "metadata": {}
        }
      ]
    },
    {
      "cell_type": "markdown",
      "source": [
        "I defined two dimensions for the dataset: personality type (i.e. introversion vs. extroversion) and gender (i.e. male vs. female). According to the projections, we learn that introversion is closer to traits like \"distant\" and (surprisingly) \"social\" but is away from \"hyper\". They tend to be smart and logic, and have a career as singers or math-related. The male category is closer to terms like \"hyper\",\"social\", \"logic\", and \"singer\". I think the personality dimension explain more of the variations since the terms are more polarized.      "
      ],
      "metadata": {
        "id": "XZBfEuUNLqMj"
      }
    }
  ],
  "metadata": {
    "anaconda-cloud": {},
    "kernelspec": {
      "display_name": "Python 3 (ipykernel)",
      "language": "python",
      "name": "python3"
    },
    "language_info": {
      "codemirror_mode": {
        "name": "ipython",
        "version": 3
      },
      "file_extension": ".py",
      "mimetype": "text/x-python",
      "name": "python",
      "nbconvert_exporter": "python",
      "pygments_lexer": "ipython3",
      "version": "3.8.5"
    },
    "colab": {
      "name": "HW4.ipynb",
      "provenance": [],
      "collapsed_sections": []
    }
  },
  "nbformat": 4,
  "nbformat_minor": 0
}