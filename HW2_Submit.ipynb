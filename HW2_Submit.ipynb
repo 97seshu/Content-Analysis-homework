{
  "cells": [
    {
      "cell_type": "markdown",
      "metadata": {
        "id": "kQNdZrIcmghj"
      },
      "source": [
        "# Week 2 - Counting Words & Phrases (Computational Linguistics)\n",
        "This week, we take text corpora that we have developed, spidered, scraped, and encoded, and we find and count words, simple and parsed phrases and explore the statistical properties of those counts (e.g., word frequency distributions). Initially, we model how to search corpora for keywords or phrases. Next, we examine the distributions of terms and phrases across a corpus, and the correlation between different words and phrase counts. In order to do this effectively, we coarsely disambiguate words based of part-of-speech (POS) tagging, and normalize them through stemming and lemmatization. Next we distinguish *important* words and phrase within the corpus, and image them with Wordls! Then we calculate word frequenceis, conditional frequences (the frequency of word *shock* conditional on the presence of word *awe*), and statistically significant collocations of lengths 2 through $n$. Finally, we calculate and visualize Differences (Divergences and Distances) between the word frequency distributions from two corpora. \n",
        "\n",
        "Then we shift to focus not simply on the *ideas* in a corpus, but also extracting precise *claims*. This process involves a sequential pipeline of classifying and structuring tokens from text, each of which generates potentially useful data for the content analyst. Steps in this process, which we examine in this notebook, include: 1) tagging words by their part of speech (POS) to reveal the linguistic role they play in the sentence (e.g., Verb, Noun, Adjective, etc.); 2) tagging words as named entities (NER) such as places or organizations; 3) structuring or \"parsing\" sentences into nested phrases that are local to, describe or depend on one another; and 4) extracting informational claims from those phrases.\n",
        "\n",
        "We will be introducing spaCy as a package for Computational Linguistics, and also walk you through how to use the Davies Corpora. \n",
        "\n",
        "While we wish to avoid using NLTK for heavy corpus analysis, some of its smaller functions can still be useful.\n",
        "\n",
        "Of course, for final projects that draw on these tools, we encourage you to install the software on your own machines or shared servers at the university (RCC, SSRC) in order to perform these operations on much more text. \n",
        "\n",
        "For this notebook we will be using the following packages:\n"
      ]
    },
    {
      "cell_type": "code",
      "execution_count": null,
      "metadata": {
        "id": "_bmvazehmgho",
        "colab": {
          "base_uri": "https://localhost:8080/"
        },
        "outputId": "c61ba97e-53c4-42c2-bd3d-4afc736b275e"
      },
      "outputs": [
        {
          "output_type": "stream",
          "name": "stdout",
          "text": [
            "Collecting git+git://github.com/UChicago-Computational-Content-Analysis/lucem_illud.git\n",
            "  Cloning git://github.com/UChicago-Computational-Content-Analysis/lucem_illud.git to /tmp/pip-req-build-asm9l9bv\n",
            "  Running command git clone -q git://github.com/UChicago-Computational-Content-Analysis/lucem_illud.git /tmp/pip-req-build-asm9l9bv\n",
            "Requirement already satisfied: numpy in /usr/local/lib/python3.7/dist-packages (from lucem-illud==8.0.1) (1.19.5)\n",
            "Requirement already satisfied: requests in /usr/local/lib/python3.7/dist-packages (from lucem-illud==8.0.1) (2.23.0)\n",
            "Requirement already satisfied: pandas in /usr/local/lib/python3.7/dist-packages (from lucem-illud==8.0.1) (1.1.5)\n",
            "Requirement already satisfied: python-docx in /usr/local/lib/python3.7/dist-packages (from lucem-illud==8.0.1) (0.8.11)\n",
            "Requirement already satisfied: pillow in /usr/local/lib/python3.7/dist-packages (from lucem-illud==8.0.1) (7.1.2)\n",
            "Requirement already satisfied: pdfminer2 in /usr/local/lib/python3.7/dist-packages (from lucem-illud==8.0.1) (20151206)\n",
            "Requirement already satisfied: GitPython in /usr/local/lib/python3.7/dist-packages (from lucem-illud==8.0.1) (3.1.26)\n",
            "Requirement already satisfied: wordcloud in /usr/local/lib/python3.7/dist-packages (from lucem-illud==8.0.1) (1.5.0)\n",
            "Requirement already satisfied: scipy in /usr/local/lib/python3.7/dist-packages (from lucem-illud==8.0.1) (1.4.1)\n",
            "Requirement already satisfied: seaborn in /usr/local/lib/python3.7/dist-packages (from lucem-illud==8.0.1) (0.11.2)\n",
            "Requirement already satisfied: scikit-learn in /usr/local/lib/python3.7/dist-packages (from lucem-illud==8.0.1) (1.0.2)\n",
            "Requirement already satisfied: nltk in /usr/local/lib/python3.7/dist-packages (from lucem-illud==8.0.1) (3.2.5)\n",
            "Requirement already satisfied: gensim in /usr/local/lib/python3.7/dist-packages (from lucem-illud==8.0.1) (3.6.0)\n",
            "Requirement already satisfied: matplotlib in /usr/local/lib/python3.7/dist-packages (from lucem-illud==8.0.1) (3.2.2)\n",
            "Requirement already satisfied: pyanno3 in /usr/local/lib/python3.7/dist-packages (from lucem-illud==8.0.1) (2.0.2)\n",
            "Requirement already satisfied: beautifulsoup4 in /usr/local/lib/python3.7/dist-packages (from lucem-illud==8.0.1) (4.6.3)\n",
            "Requirement already satisfied: graphviz in /usr/local/lib/python3.7/dist-packages (from lucem-illud==8.0.1) (0.10.1)\n",
            "Requirement already satisfied: boto3 in /usr/local/lib/python3.7/dist-packages (from lucem-illud==8.0.1) (1.20.44)\n",
            "Requirement already satisfied: networkx in /usr/local/lib/python3.7/dist-packages (from lucem-illud==8.0.1) (2.6.3)\n",
            "Requirement already satisfied: pydub in /usr/local/lib/python3.7/dist-packages (from lucem-illud==8.0.1) (0.25.1)\n",
            "Requirement already satisfied: speechrecognition in /usr/local/lib/python3.7/dist-packages (from lucem-illud==8.0.1) (3.8.1)\n",
            "Requirement already satisfied: pysoundfile in /usr/local/lib/python3.7/dist-packages (from lucem-illud==8.0.1) (0.9.0.post1)\n",
            "Requirement already satisfied: scikit-image in /usr/local/lib/python3.7/dist-packages (from lucem-illud==8.0.1) (0.18.3)\n",
            "Requirement already satisfied: IPython in /usr/local/lib/python3.7/dist-packages (from lucem-illud==8.0.1) (5.5.0)\n",
            "Requirement already satisfied: spacy in /usr/local/lib/python3.7/dist-packages (from lucem-illud==8.0.1) (2.2.4)\n",
            "Requirement already satisfied: s3transfer<0.6.0,>=0.5.0 in /usr/local/lib/python3.7/dist-packages (from boto3->lucem-illud==8.0.1) (0.5.0)\n",
            "Requirement already satisfied: jmespath<1.0.0,>=0.7.1 in /usr/local/lib/python3.7/dist-packages (from boto3->lucem-illud==8.0.1) (0.10.0)\n",
            "Requirement already satisfied: botocore<1.24.0,>=1.23.44 in /usr/local/lib/python3.7/dist-packages (from boto3->lucem-illud==8.0.1) (1.23.44)\n",
            "Requirement already satisfied: python-dateutil<3.0.0,>=2.1 in /usr/local/lib/python3.7/dist-packages (from botocore<1.24.0,>=1.23.44->boto3->lucem-illud==8.0.1) (2.8.2)\n",
            "Requirement already satisfied: urllib3<1.27,>=1.25.4 in /usr/local/lib/python3.7/dist-packages (from botocore<1.24.0,>=1.23.44->boto3->lucem-illud==8.0.1) (1.25.11)\n",
            "Requirement already satisfied: six>=1.5 in /usr/local/lib/python3.7/dist-packages (from python-dateutil<3.0.0,>=2.1->botocore<1.24.0,>=1.23.44->boto3->lucem-illud==8.0.1) (1.15.0)\n",
            "Requirement already satisfied: smart-open>=1.2.1 in /usr/local/lib/python3.7/dist-packages (from gensim->lucem-illud==8.0.1) (5.2.1)\n",
            "Requirement already satisfied: gitdb<5,>=4.0.1 in /usr/local/lib/python3.7/dist-packages (from GitPython->lucem-illud==8.0.1) (4.0.9)\n",
            "Requirement already satisfied: typing-extensions>=3.7.4.3 in /usr/local/lib/python3.7/dist-packages (from GitPython->lucem-illud==8.0.1) (3.10.0.2)\n",
            "Requirement already satisfied: smmap<6,>=3.0.1 in /usr/local/lib/python3.7/dist-packages (from gitdb<5,>=4.0.1->GitPython->lucem-illud==8.0.1) (5.0.0)\n",
            "Requirement already satisfied: decorator in /usr/local/lib/python3.7/dist-packages (from IPython->lucem-illud==8.0.1) (4.4.2)\n",
            "Requirement already satisfied: pexpect in /usr/local/lib/python3.7/dist-packages (from IPython->lucem-illud==8.0.1) (4.8.0)\n",
            "Requirement already satisfied: pygments in /usr/local/lib/python3.7/dist-packages (from IPython->lucem-illud==8.0.1) (2.6.1)\n",
            "Requirement already satisfied: pickleshare in /usr/local/lib/python3.7/dist-packages (from IPython->lucem-illud==8.0.1) (0.7.5)\n",
            "Requirement already satisfied: simplegeneric>0.8 in /usr/local/lib/python3.7/dist-packages (from IPython->lucem-illud==8.0.1) (0.8.1)\n",
            "Requirement already satisfied: setuptools>=18.5 in /usr/local/lib/python3.7/dist-packages (from IPython->lucem-illud==8.0.1) (57.4.0)\n",
            "Requirement already satisfied: traitlets>=4.2 in /usr/local/lib/python3.7/dist-packages (from IPython->lucem-illud==8.0.1) (5.1.1)\n",
            "Requirement already satisfied: prompt-toolkit<2.0.0,>=1.0.4 in /usr/local/lib/python3.7/dist-packages (from IPython->lucem-illud==8.0.1) (1.0.18)\n",
            "Requirement already satisfied: wcwidth in /usr/local/lib/python3.7/dist-packages (from prompt-toolkit<2.0.0,>=1.0.4->IPython->lucem-illud==8.0.1) (0.2.5)\n",
            "Requirement already satisfied: cycler>=0.10 in /usr/local/lib/python3.7/dist-packages (from matplotlib->lucem-illud==8.0.1) (0.11.0)\n",
            "Requirement already satisfied: kiwisolver>=1.0.1 in /usr/local/lib/python3.7/dist-packages (from matplotlib->lucem-illud==8.0.1) (1.3.2)\n",
            "Requirement already satisfied: pyparsing!=2.0.4,!=2.1.2,!=2.1.6,>=2.0.1 in /usr/local/lib/python3.7/dist-packages (from matplotlib->lucem-illud==8.0.1) (3.0.7)\n",
            "Requirement already satisfied: pytz>=2017.2 in /usr/local/lib/python3.7/dist-packages (from pandas->lucem-illud==8.0.1) (2018.9)\n",
            "Requirement already satisfied: ptyprocess>=0.5 in /usr/local/lib/python3.7/dist-packages (from pexpect->IPython->lucem-illud==8.0.1) (0.7.0)\n",
            "Requirement already satisfied: traits in /usr/local/lib/python3.7/dist-packages (from pyanno3->lucem-illud==8.0.1) (6.3.2)\n",
            "Requirement already satisfied: cffi>=0.6 in /usr/local/lib/python3.7/dist-packages (from pysoundfile->lucem-illud==8.0.1) (1.15.0)\n",
            "Requirement already satisfied: pycparser in /usr/local/lib/python3.7/dist-packages (from cffi>=0.6->pysoundfile->lucem-illud==8.0.1) (2.21)\n",
            "Requirement already satisfied: lxml>=2.3.2 in /usr/local/lib/python3.7/dist-packages (from python-docx->lucem-illud==8.0.1) (4.2.6)\n",
            "Requirement already satisfied: certifi>=2017.4.17 in /usr/local/lib/python3.7/dist-packages (from requests->lucem-illud==8.0.1) (2021.10.8)\n",
            "Requirement already satisfied: idna<3,>=2.5 in /usr/local/lib/python3.7/dist-packages (from requests->lucem-illud==8.0.1) (2.10)\n",
            "Requirement already satisfied: chardet<4,>=3.0.2 in /usr/local/lib/python3.7/dist-packages (from requests->lucem-illud==8.0.1) (3.0.4)\n",
            "Requirement already satisfied: PyWavelets>=1.1.1 in /usr/local/lib/python3.7/dist-packages (from scikit-image->lucem-illud==8.0.1) (1.2.0)\n",
            "Requirement already satisfied: imageio>=2.3.0 in /usr/local/lib/python3.7/dist-packages (from scikit-image->lucem-illud==8.0.1) (2.4.1)\n",
            "Requirement already satisfied: tifffile>=2019.7.26 in /usr/local/lib/python3.7/dist-packages (from scikit-image->lucem-illud==8.0.1) (2021.11.2)\n",
            "Requirement already satisfied: joblib>=0.11 in /usr/local/lib/python3.7/dist-packages (from scikit-learn->lucem-illud==8.0.1) (1.1.0)\n",
            "Requirement already satisfied: threadpoolctl>=2.0.0 in /usr/local/lib/python3.7/dist-packages (from scikit-learn->lucem-illud==8.0.1) (3.0.0)\n",
            "Requirement already satisfied: thinc==7.4.0 in /usr/local/lib/python3.7/dist-packages (from spacy->lucem-illud==8.0.1) (7.4.0)\n",
            "Requirement already satisfied: preshed<3.1.0,>=3.0.2 in /usr/local/lib/python3.7/dist-packages (from spacy->lucem-illud==8.0.1) (3.0.6)\n",
            "Requirement already satisfied: murmurhash<1.1.0,>=0.28.0 in /usr/local/lib/python3.7/dist-packages (from spacy->lucem-illud==8.0.1) (1.0.6)\n",
            "Requirement already satisfied: srsly<1.1.0,>=1.0.2 in /usr/local/lib/python3.7/dist-packages (from spacy->lucem-illud==8.0.1) (1.0.5)\n",
            "Requirement already satisfied: wasabi<1.1.0,>=0.4.0 in /usr/local/lib/python3.7/dist-packages (from spacy->lucem-illud==8.0.1) (0.9.0)\n",
            "Requirement already satisfied: blis<0.5.0,>=0.4.0 in /usr/local/lib/python3.7/dist-packages (from spacy->lucem-illud==8.0.1) (0.4.1)\n",
            "Requirement already satisfied: catalogue<1.1.0,>=0.0.7 in /usr/local/lib/python3.7/dist-packages (from spacy->lucem-illud==8.0.1) (1.0.0)\n",
            "Requirement already satisfied: cymem<2.1.0,>=2.0.2 in /usr/local/lib/python3.7/dist-packages (from spacy->lucem-illud==8.0.1) (2.0.6)\n",
            "Requirement already satisfied: plac<1.2.0,>=0.9.6 in /usr/local/lib/python3.7/dist-packages (from spacy->lucem-illud==8.0.1) (1.1.3)\n",
            "Requirement already satisfied: tqdm<5.0.0,>=4.38.0 in /usr/local/lib/python3.7/dist-packages (from spacy->lucem-illud==8.0.1) (4.62.3)\n",
            "Requirement already satisfied: importlib-metadata>=0.20 in /usr/local/lib/python3.7/dist-packages (from catalogue<1.1.0,>=0.0.7->spacy->lucem-illud==8.0.1) (4.10.1)\n",
            "Requirement already satisfied: zipp>=0.5 in /usr/local/lib/python3.7/dist-packages (from importlib-metadata>=0.20->catalogue<1.1.0,>=0.0.7->spacy->lucem-illud==8.0.1) (3.7.0)\n"
          ]
        }
      ],
      "source": [
        "#Special module written for this class\n",
        "#This provides access to data and to helper functions from previous weeks\n",
        "!pip install git+git://github.com/UChicago-Computational-Content-Analysis/lucem_illud.git\n",
        "import lucem_illud #just in case, regularly update your lucem_illud with the following code: pip install git+git://github.com/UChicago-Computational-Content-Analysis/lucem_illud.git\n",
        "\n",
        "#All these packages need to be installed from pip\n",
        "import requests #for http requests\n",
        "import pandas #gives us DataFrames\n",
        "import matplotlib.pyplot as plt #For graphics\n",
        "import wordcloud #Makes word clouds\n",
        "import numpy as np #For divergences/distances\n",
        "import scipy #For divergences/distances\n",
        "import seaborn as sns #makes our plots look nicer\n",
        "import sklearn.manifold #For a manifold plot\n",
        "import json #For API responses\n",
        "import urllib.parse #For joining urls\n",
        "\n",
        "# comp-linguistics\n",
        "import spacy\n",
        "\n",
        "#Displays the graphs\n",
        "import graphviz #You also need to install the command line graphviz\n",
        "\n",
        "#These are from the standard library\n",
        "import os.path\n",
        "import zipfile\n",
        "import subprocess\n",
        "import io\n",
        "import tempfile\n",
        "\n",
        "#This 'magic' command makes the plots work better\n",
        "#in the notebook, don't use it outside of a notebook\n",
        "%matplotlib inline"
      ]
    },
    {
      "cell_type": "markdown",
      "metadata": {
        "id": "hlksvLPdmgh5"
      },
      "source": [
        "## <font color=\"red\">*Exercise 1*</font>\n",
        "\n",
        "<font color=\"red\">Construct cells immediately below this that input and interrogate a corpus relating to your anticipated final project. This could include one of the Davies corpora or some other you have constructed. Turn your text into an nltk `Text` object, and explore all of the features examined above, and others that relate to better understanding your corpus in relation to your research question. </font>"
      ]
    },
    {
      "cell_type": "code",
      "source": [
        "import pandas as pd\n",
        "import seaborn as sns \n",
        "import nltk\n",
        "import re"
      ],
      "metadata": {
        "id": "C_N04gjO9cyB"
      },
      "execution_count": null,
      "outputs": []
    },
    {
      "cell_type": "code",
      "source": [
        "from google.colab import drive\n",
        "drive.mount('/content/drive')"
      ],
      "metadata": {
        "colab": {
          "base_uri": "https://localhost:8080/"
        },
        "id": "q9gFjy-A84pm",
        "outputId": "267afba1-6ce9-4e1b-edb7-aa44547af6c7"
      },
      "execution_count": null,
      "outputs": [
        {
          "output_type": "stream",
          "name": "stdout",
          "text": [
            "Drive already mounted at /content/drive; to attempt to forcibly remount, call drive.mount(\"/content/drive\", force_remount=True).\n"
          ]
        }
      ]
    },
    {
      "cell_type": "code",
      "source": [
        "df = pd.read_csv(\"/content/drive/MyDrive/archive 2/RAW_recipes.csv\")"
      ],
      "metadata": {
        "id": "Epz7H4wy-gth"
      },
      "execution_count": null,
      "outputs": []
    },
    {
      "cell_type": "code",
      "source": [
        "text = []\n",
        "for words in df[\"steps\"]:\n",
        "  text.append(words)"
      ],
      "metadata": {
        "id": "TlptqJho_Dq9"
      },
      "execution_count": null,
      "outputs": []
    },
    {
      "cell_type": "code",
      "source": [
        "Tokens = word_tokenize(re.sub(r'\\\\', '', str(text[:500])))\n",
        "Tokens[:20]"
      ],
      "metadata": {
        "colab": {
          "base_uri": "https://localhost:8080/"
        },
        "id": "dM7lo9TwADle",
        "outputId": "8c788dd4-54c4-4c78-dc49-b7b82755bdac"
      },
      "execution_count": null,
      "outputs": [
        {
          "output_type": "execute_result",
          "data": {
            "text/plain": [
              "['make',\n",
              " 'a',\n",
              " 'choice',\n",
              " 'and',\n",
              " 'proceed',\n",
              " 'with',\n",
              " 'recipe',\n",
              " 'depending',\n",
              " 'on',\n",
              " 'size',\n",
              " 'of',\n",
              " 'squash',\n",
              " 'cut',\n",
              " 'into',\n",
              " 'half',\n",
              " 'or',\n",
              " 'fourths',\n",
              " 'remove',\n",
              " 'seeds',\n",
              " 'for']"
            ]
          },
          "metadata": {},
          "execution_count": 21
        }
      ]
    },
    {
      "cell_type": "code",
      "source": [
        "Text = nltk.Text(Tokens)\n",
        "Index = nltk.text.ConcordanceIndex(Text) \n",
        "Index.print_concordance('bake')"
      ],
      "metadata": {
        "colab": {
          "base_uri": "https://localhost:8080/"
        },
        "id": "wFNgBsB7By6k",
        "outputId": "a9370ddb-445a-4ad6-9ccd-4ff61dfb6025"
      },
      "execution_count": null,
      "outputs": [
        {
          "output_type": "stream",
          "name": "stdout",
          "text": [
            "Displaying 25 of 227 matches:\n",
            "eason with sweet mexican spice mix bake at 350 degrees again depending on \n",
            "m and sides of a 12 inch pizza pan bake for 5 minutes until set but not br\n",
            "r sausage and cheese 's p to taste bake 15 20 minutes or until eggs are se\n",
            "\"alouette evenly over potatoes and bake 15 minutes divide between plates g\n",
            "the batter into prepared loaf pans bake for 45 to 55 minutes until the loa\n",
            "rest over the ingredients stir and bake until all the water has evaporated\n",
            "f add the next 5 cups of water and bake until all the water has evaporated\n",
            " spread potatoes onto baking sheet bake for 15 minutes toss and turn bake \n",
            " bake for 15 minutes toss and turn bake for five minutes add herbs and tos\n",
            "or five minutes add herbs and toss bake a final five minutes until the pot\n",
            "d reserved 2 cups of batter on top bake for 50- 55 minutes or until browni\n",
            "ixture to casserole dish cover and bake for 30 to 40 minutes or until bubb\n",
            "sserole dish and top with croutons bake for 35 to 40 minutes or until bubb\n",
            "frigerate or freeze until ready to bake preheat oven to 350 degrees place \n",
            "lace on ungreased baking sheet and bake until light brown brown onion and \n",
            "d mix over the top and spread even bake in a preheated 350 degree oven for\n",
            " lightly with strussel topping and bake in preheated oven for 15 to 20 min\n",
            " granulated sugar over each muffin bake in preheated oven for 15 to 20 min\n",
            "enly into an 8 inch square pan and bake at 350 deg f for 10 12 minutes coo\n",
            "ased and floured 8 inch square pan bake at 350 deg f for 25 40 minutes fro\n",
            "to a greased 9 inch round cake pan bake 25 to 30 minutes until tooth pick \n",
            "ur into 8 x 8 buttered baking dish bake at 350 for 15 minutes remove cornb\n",
            "ng ingredients and sprinkle on top bake for 40- 50 minutes brown the sausa\n",
            "hen top with more mozarella cheese bake at 375 degrees for 30 minutes let \n",
            " sprinkle top w toasted wheat germ bake 45 50 minutes until set and slight\n"
          ]
        }
      ]
    },
    {
      "cell_type": "code",
      "source": [
        "Text.common_contexts(['chicken'])"
      ],
      "metadata": {
        "colab": {
          "base_uri": "https://localhost:8080/"
        },
        "id": "q0hBPJwlCV3X",
        "outputId": "86aa9868-07ea-457c-ad31-f18ef9169d3a"
      },
      "execution_count": null,
      "outputs": [
        {
          "output_type": "stream",
          "name": "stdout",
          "text": [
            "dip_pieces place_pieces coat_place of_on cover_pieces once_is\n",
            "hot_stock smoked_beans smoked_on boneless_cooking meat_ham and_simmer\n",
            "and_it and_toss the_on wash_and the_in the_and until_and\n",
            "alternatively_meatballs\n"
          ]
        }
      ]
    },
    {
      "cell_type": "code",
      "source": [
        "Text.count('chicken')"
      ],
      "metadata": {
        "colab": {
          "base_uri": "https://localhost:8080/"
        },
        "id": "6LPjkp4-Cokk",
        "outputId": "0a50b884-f027-4aec-f784-89c769924a11"
      },
      "execution_count": null,
      "outputs": [
        {
          "output_type": "execute_result",
          "data": {
            "text/plain": [
              "136"
            ]
          },
          "metadata": {},
          "execution_count": 24
        }
      ]
    },
    {
      "cell_type": "code",
      "source": [
        "sns.reset_orig() #Seaborn messes with this plot, disabling it\n",
        "Text.dispersion_plot(['chicken','pork', 'beef', 'fish'])\n",
        "sns.set()"
      ],
      "metadata": {
        "colab": {
          "base_uri": "https://localhost:8080/",
          "height": 295
        },
        "id": "565nYmZ9Dfyv",
        "outputId": "4395ff48-c94e-4128-fbdf-bf0898e2c69f"
      },
      "execution_count": null,
      "outputs": [
        {
          "output_type": "display_data",
          "data": {
            "image/png": "[encoded data removed]",
            "text/plain": [
              "<Figure size 432x288 with 1 Axes>"
            ]
          },
          "metadata": {
            "needs_background": "light"
          }
        }
      ]
    },
    {
      "cell_type": "markdown",
      "metadata": {
        "id": "8_lwD9ysmgh_"
      },
      "source": [
        "## <font color=\"red\">*Exercise 2*</font>\n",
        "\n",
        "<font color=\"red\">Construct cells immediately below this that filter, stem and lemmatize the tokens in your corpus, and then creates plots (with titles and labels) that map the word frequency distribution, word probability distribution, and at least two conditional probability distributions that help us better understand the social and cultural game underlying the production of your corpus. Create a wordl of words (or normalized words) and add a few vague comments about what mysteries are revealed through it.</font>"
      ]
    },
    {
      "cell_type": "code",
      "source": [
        "sample = df[:500]\n",
        "sample"
      ],
      "metadata": {
        "colab": {
          "base_uri": "https://localhost:8080/",
          "height": 971
        },
        "id": "WxVi8Z9-cMWL",
        "outputId": "1a2f7075-3a3c-4431-e41d-702feb1650e4"
      },
      "execution_count": null,
      "outputs": [
        {
          "output_type": "execute_result",
          "data": {
            "text/html": [
              "\n",
              "  <div id=\"df-e43aa07f-b19d-4891-909a-6bfe63c50227\">\n",
              "    <div class=\"colab-df-container\">\n",
              "      <div>\n",
              "<style scoped>\n",
              "    .dataframe tbody tr th:only-of-type {\n",
              "        vertical-align: middle;\n",
              "    }\n",
              "\n",
              "    .dataframe tbody tr th {\n",
              "        vertical-align: top;\n",
              "    }\n",
              "\n",
              "    .dataframe thead th {\n",
              "        text-align: right;\n",
              "    }\n",
              "</style>\n",
              "<table border=\"1\" class=\"dataframe\">\n",
              "  <thead>\n",
              "    <tr style=\"text-align: right;\">\n",
              "      <th></th>\n",
              "      <th>name</th>\n",
              "      <th>id</th>\n",
              "      <th>minutes</th>\n",
              "      <th>contributor_id</th>\n",
              "      <th>submitted</th>\n",
              "      <th>tags</th>\n",
              "      <th>nutrition</th>\n",
              "      <th>n_steps</th>\n",
              "      <th>steps</th>\n",
              "      <th>description</th>\n",
              "      <th>ingredients</th>\n",
              "      <th>n_ingredients</th>\n",
              "    </tr>\n",
              "  </thead>\n",
              "  <tbody>\n",
              "    <tr>\n",
              "      <th>0</th>\n",
              "      <td>arriba   baked winter squash mexican style</td>\n",
              "      <td>137739</td>\n",
              "      <td>55</td>\n",
              "      <td>47892</td>\n",
              "      <td>2005-09-16</td>\n",
              "      <td>['60-minutes-or-less', 'time-to-make', 'course...</td>\n",
              "      <td>[51.5, 0.0, 13.0, 0.0, 2.0, 0.0, 4.0]</td>\n",
              "      <td>11</td>\n",
              "      <td>['make a choice and proceed with recipe', 'dep...</td>\n",
              "      <td>autumn is my favorite time of year to cook! th...</td>\n",
              "      <td>['winter squash', 'mexican seasoning', 'mixed ...</td>\n",
              "      <td>7</td>\n",
              "    </tr>\n",
              "    <tr>\n",
              "      <th>1</th>\n",
              "      <td>a bit different  breakfast pizza</td>\n",
              "      <td>31490</td>\n",
              "      <td>30</td>\n",
              "      <td>26278</td>\n",
              "      <td>2002-06-17</td>\n",
              "      <td>['30-minutes-or-less', 'time-to-make', 'course...</td>\n",
              "      <td>[173.4, 18.0, 0.0, 17.0, 22.0, 35.0, 1.0]</td>\n",
              "      <td>9</td>\n",
              "      <td>['preheat oven to 425 degrees f', 'press dough...</td>\n",
              "      <td>this recipe calls for the crust to be prebaked...</td>\n",
              "      <td>['prepared pizza crust', 'sausage patty', 'egg...</td>\n",
              "      <td>6</td>\n",
              "    </tr>\n",
              "    <tr>\n",
              "      <th>2</th>\n",
              "      <td>all in the kitchen  chili</td>\n",
              "      <td>112140</td>\n",
              "      <td>130</td>\n",
              "      <td>196586</td>\n",
              "      <td>2005-02-25</td>\n",
              "      <td>['time-to-make', 'course', 'preparation', 'mai...</td>\n",
              "      <td>[269.8, 22.0, 32.0, 48.0, 39.0, 27.0, 5.0]</td>\n",
              "      <td>6</td>\n",
              "      <td>['brown ground beef in large pot', 'add choppe...</td>\n",
              "      <td>this modified version of 'mom's' chili was a h...</td>\n",
              "      <td>['ground beef', 'yellow onions', 'diced tomato...</td>\n",
              "      <td>13</td>\n",
              "    </tr>\n",
              "    <tr>\n",
              "      <th>3</th>\n",
              "      <td>alouette  potatoes</td>\n",
              "      <td>59389</td>\n",
              "      <td>45</td>\n",
              "      <td>68585</td>\n",
              "      <td>2003-04-14</td>\n",
              "      <td>['60-minutes-or-less', 'time-to-make', 'course...</td>\n",
              "      <td>[368.1, 17.0, 10.0, 2.0, 14.0, 8.0, 20.0]</td>\n",
              "      <td>11</td>\n",
              "      <td>['place potatoes in a large pot of lightly sal...</td>\n",
              "      <td>this is a super easy, great tasting, make ahea...</td>\n",
              "      <td>['spreadable cheese with garlic and herbs', 'n...</td>\n",
              "      <td>11</td>\n",
              "    </tr>\n",
              "    <tr>\n",
              "      <th>4</th>\n",
              "      <td>amish  tomato ketchup  for canning</td>\n",
              "      <td>44061</td>\n",
              "      <td>190</td>\n",
              "      <td>41706</td>\n",
              "      <td>2002-10-25</td>\n",
              "      <td>['weeknight', 'time-to-make', 'course', 'main-...</td>\n",
              "      <td>[352.9, 1.0, 337.0, 23.0, 3.0, 0.0, 28.0]</td>\n",
              "      <td>5</td>\n",
              "      <td>['mix all ingredients&amp; boil for 2 1 / 2 hours ...</td>\n",
              "      <td>my dh's amish mother raised him on this recipe...</td>\n",
              "      <td>['tomato juice', 'apple cider vinegar', 'sugar...</td>\n",
              "      <td>8</td>\n",
              "    </tr>\n",
              "    <tr>\n",
              "      <th>...</th>\n",
              "      <td>...</td>\n",
              "      <td>...</td>\n",
              "      <td>...</td>\n",
              "      <td>...</td>\n",
              "      <td>...</td>\n",
              "      <td>...</td>\n",
              "      <td>...</td>\n",
              "      <td>...</td>\n",
              "      <td>...</td>\n",
              "      <td>...</td>\n",
              "      <td>...</td>\n",
              "      <td>...</td>\n",
              "    </tr>\n",
              "    <tr>\n",
              "      <th>495</th>\n",
              "      <td>pancakes  in a bowl</td>\n",
              "      <td>363904</td>\n",
              "      <td>3</td>\n",
              "      <td>1179823</td>\n",
              "      <td>2009-04-01</td>\n",
              "      <td>['15-minutes-or-less', 'time-to-make', 'course...</td>\n",
              "      <td>[273.9, 15.0, 29.0, 27.0, 10.0, 12.0, 13.0]</td>\n",
              "      <td>4</td>\n",
              "      <td>['combine the bisquick heart smart and water o...</td>\n",
              "      <td>this is just a random recipe that i decided to...</td>\n",
              "      <td>['bisquick', 'water', 'powdered sugar', 'syrup...</td>\n",
              "      <td>5</td>\n",
              "    </tr>\n",
              "    <tr>\n",
              "      <th>496</th>\n",
              "      <td>pantry raid  chicken enchilada casserole</td>\n",
              "      <td>481157</td>\n",
              "      <td>60</td>\n",
              "      <td>204024</td>\n",
              "      <td>2012-06-18</td>\n",
              "      <td>['60-minutes-or-less', 'time-to-make', 'course...</td>\n",
              "      <td>[524.6, 39.0, 47.0, 43.0, 61.0, 50.0, 14.0]</td>\n",
              "      <td>13</td>\n",
              "      <td>['preheat the oven to 375 degrees f', 'grease ...</td>\n",
              "      <td>recipe is from allrecipes\\r\\nthis can be made ...</td>\n",
              "      <td>['tomato sauce', 'water', 'taco seasoning mix'...</td>\n",
              "      <td>12</td>\n",
              "    </tr>\n",
              "    <tr>\n",
              "      <th>497</th>\n",
              "      <td>payday  candy bar squares</td>\n",
              "      <td>18719</td>\n",
              "      <td>10</td>\n",
              "      <td>27643</td>\n",
              "      <td>2002-02-02</td>\n",
              "      <td>['15-minutes-or-less', 'time-to-make', 'course...</td>\n",
              "      <td>[310.6, 31.0, 72.0, 12.0, 21.0, 25.0, 8.0]</td>\n",
              "      <td>8</td>\n",
              "      <td>['put half the peanuts in lightly greased 11x7...</td>\n",
              "      <td>just like a payday candy bar. my family eats t...</td>\n",
              "      <td>['salted peanuts', 'butter', 'peanut butter ch...</td>\n",
              "      <td>5</td>\n",
              "    </tr>\n",
              "    <tr>\n",
              "      <th>498</th>\n",
              "      <td>peanut butter   jam sandwich   muffins</td>\n",
              "      <td>335539</td>\n",
              "      <td>30</td>\n",
              "      <td>883095</td>\n",
              "      <td>2008-11-06</td>\n",
              "      <td>['30-minutes-or-less', 'time-to-make', 'course...</td>\n",
              "      <td>[286.9, 27.0, 53.0, 15.0, 16.0, 18.0, 8.0]</td>\n",
              "      <td>17</td>\n",
              "      <td>['preheat oven to 400f', 'beat egg , 1 cup pea...</td>\n",
              "      <td>these are the a different muffin that will be ...</td>\n",
              "      <td>['egg', 'smooth peanut butter', 'oil', 'brown ...</td>\n",
              "      <td>10</td>\n",
              "    </tr>\n",
              "    <tr>\n",
              "      <th>499</th>\n",
              "      <td>peas  fit for a king or queen</td>\n",
              "      <td>303944</td>\n",
              "      <td>20</td>\n",
              "      <td>213909</td>\n",
              "      <td>2008-05-16</td>\n",
              "      <td>['30-minutes-or-less', 'time-to-make', 'course...</td>\n",
              "      <td>[417.9, 50.0, 24.0, 25.0, 25.0, 47.0, 6.0]</td>\n",
              "      <td>13</td>\n",
              "      <td>['heat oil in large skillet over medium heat',...</td>\n",
              "      <td>this recipe is so simple and the flavors are s...</td>\n",
              "      <td>['extra virgin olive oil', 'bacon', 'shallots'...</td>\n",
              "      <td>5</td>\n",
              "    </tr>\n",
              "  </tbody>\n",
              "</table>\n",
              "<p>500 rows × 12 columns</p>\n",
              "</div>\n",
              "      <button class=\"colab-df-convert\" onclick=\"convertToInteractive('df-e43aa07f-b19d-4891-909a-6bfe63c50227')\"\n",
              "              title=\"Convert this dataframe to an interactive table.\"\n",
              "              style=\"display:none;\">\n",
              "        \n",
              "  <svg xmlns=\"http://www.w3.org/2000/svg\" height=\"24px\"viewBox=\"0 0 24 24\"\n",
              "       width=\"24px\">\n",
              "    <path d=\"M0 0h24v24H0V0z\" fill=\"none\"/>\n",
              "    <path d=\"M18.56 5.44l.94 2.06.94-2.06 2.06-.94-2.06-.94-.94-2.06-.94 2.06-2.06.94zm-11 1L8.5 8.5l.94-2.06 2.06-.94-2.06-.94L8.5 2.5l-.94 2.06-2.06.94zm10 10l.94 2.06.94-2.06 2.06-.94-2.06-.94-.94-2.06-.94 2.06-2.06.94z\"/><path d=\"M17.41 7.96l-1.37-1.37c-.4-.4-.92-.59-1.43-.59-.52 0-1.04.2-1.43.59L10.3 9.45l-7.72 7.72c-.78.78-.78 2.05 0 2.83L4 21.41c.39.39.9.59 1.41.59.51 0 1.02-.2 1.41-.59l7.78-7.78 2.81-2.81c.8-.78.8-2.07 0-2.86zM5.41 20L4 18.59l7.72-7.72 1.47 1.35L5.41 20z\"/>\n",
              "  </svg>\n",
              "      </button>\n",
              "      \n",
              "  <style>\n",
              "    .colab-df-container {\n",
              "      display:flex;\n",
              "      flex-wrap:wrap;\n",
              "      gap: 12px;\n",
              "    }\n",
              "\n",
              "    .colab-df-convert {\n",
              "      background-color: #E8F0FE;\n",
              "      border: none;\n",
              "      border-radius: 50%;\n",
              "      cursor: pointer;\n",
              "      display: none;\n",
              "      fill: #1967D2;\n",
              "      height: 32px;\n",
              "      padding: 0 0 0 0;\n",
              "      width: 32px;\n",
              "    }\n",
              "\n",
              "    .colab-df-convert:hover {\n",
              "      background-color: #E2EBFA;\n",
              "      box-shadow: 0px 1px 2px rgba(60, 64, 67, 0.3), 0px 1px 3px 1px rgba(60, 64, 67, 0.15);\n",
              "      fill: #174EA6;\n",
              "    }\n",
              "\n",
              "    [theme=dark] .colab-df-convert {\n",
              "      background-color: #3B4455;\n",
              "      fill: #D2E3FC;\n",
              "    }\n",
              "\n",
              "    [theme=dark] .colab-df-convert:hover {\n",
              "      background-color: #434B5C;\n",
              "      box-shadow: 0px 1px 3px 1px rgba(0, 0, 0, 0.15);\n",
              "      filter: drop-shadow(0px 1px 2px rgba(0, 0, 0, 0.3));\n",
              "      fill: #FFFFFF;\n",
              "    }\n",
              "  </style>\n",
              "\n",
              "      <script>\n",
              "        const buttonEl =\n",
              "          document.querySelector('#df-e43aa07f-b19d-4891-909a-6bfe63c50227 button.colab-df-convert');\n",
              "        buttonEl.style.display =\n",
              "          google.colab.kernel.accessAllowed ? 'block' : 'none';\n",
              "\n",
              "        async function convertToInteractive(key) {\n",
              "          const element = document.querySelector('#df-e43aa07f-b19d-4891-909a-6bfe63c50227');\n",
              "          const dataTable =\n",
              "            await google.colab.kernel.invokeFunction('convertToInteractive',\n",
              "                                                     [key], {});\n",
              "          if (!dataTable) return;\n",
              "\n",
              "          const docLinkHtml = 'Like what you see? Visit the ' +\n",
              "            '<a target=\"_blank\" href=https://colab.research.google.com/notebooks/data_table.ipynb>data table notebook</a>'\n",
              "            + ' to learn more about interactive tables.';\n",
              "          element.innerHTML = '';\n",
              "          dataTable['output_type'] = 'display_data';\n",
              "          await google.colab.output.renderOutput(dataTable, element);\n",
              "          const docLink = document.createElement('div');\n",
              "          docLink.innerHTML = docLinkHtml;\n",
              "          element.appendChild(docLink);\n",
              "        }\n",
              "      </script>\n",
              "    </div>\n",
              "  </div>\n",
              "  "
            ],
            "text/plain": [
              "                                           name  ...  n_ingredients\n",
              "0    arriba   baked winter squash mexican style  ...              7\n",
              "1              a bit different  breakfast pizza  ...              6\n",
              "2                     all in the kitchen  chili  ...             13\n",
              "3                            alouette  potatoes  ...             11\n",
              "4            amish  tomato ketchup  for canning  ...              8\n",
              "..                                          ...  ...            ...\n",
              "495                         pancakes  in a bowl  ...              5\n",
              "496    pantry raid  chicken enchilada casserole  ...             12\n",
              "497                   payday  candy bar squares  ...              5\n",
              "498      peanut butter   jam sandwich   muffins  ...             10\n",
              "499               peas  fit for a king or queen  ...              5\n",
              "\n",
              "[500 rows x 12 columns]"
            ]
          },
          "metadata": {},
          "execution_count": 37
        }
      ]
    },
    {
      "cell_type": "code",
      "source": [
        "def formatting(x):\n",
        "    x = re.sub(r'[^a-zA-Z]+', ' ', x)\n",
        "    return x "
      ],
      "metadata": {
        "id": "Rv6rqqUDd94N"
      },
      "execution_count": null,
      "outputs": []
    },
    {
      "cell_type": "code",
      "source": [
        "sample[\"steps_tokens\"] = sample['steps'].apply(lambda x: word_tokenize(formatting(x)))"
      ],
      "metadata": {
        "colab": {
          "base_uri": "https://localhost:8080/"
        },
        "id": "cQ1adtxvZ_LZ",
        "outputId": "4c38446c-12bd-49b5-a3c2-036f002ea83f"
      },
      "execution_count": null,
      "outputs": [
        {
          "output_type": "stream",
          "name": "stderr",
          "text": [
            "/usr/local/lib/python3.7/dist-packages/ipykernel_launcher.py:1: SettingWithCopyWarning: \n",
            "A value is trying to be set on a copy of a slice from a DataFrame.\n",
            "Try using .loc[row_indexer,col_indexer] = value instead\n",
            "\n",
            "See the caveats in the documentation: https://pandas.pydata.org/pandas-docs/stable/user_guide/indexing.html#returning-a-view-versus-a-copy\n",
            "  \"\"\"Entry point for launching an IPython kernel.\n"
          ]
        }
      ]
    },
    {
      "cell_type": "code",
      "source": [
        "sample.head(5)"
      ],
      "metadata": {
        "colab": {
          "base_uri": "https://localhost:8080/",
          "height": 597
        },
        "id": "Y6M0rIaKewbE",
        "outputId": "49f3c30a-5675-4c31-b612-2ef6468b37d8"
      },
      "execution_count": null,
      "outputs": [
        {
          "output_type": "execute_result",
          "data": {
            "text/html": [
              "\n",
              "  <div id=\"df-b961d19e-4a1d-4c8c-8ca9-df231d4d1921\">\n",
              "    <div class=\"colab-df-container\">\n",
              "      <div>\n",
              "<style scoped>\n",
              "    .dataframe tbody tr th:only-of-type {\n",
              "        vertical-align: middle;\n",
              "    }\n",
              "\n",
              "    .dataframe tbody tr th {\n",
              "        vertical-align: top;\n",
              "    }\n",
              "\n",
              "    .dataframe thead th {\n",
              "        text-align: right;\n",
              "    }\n",
              "</style>\n",
              "<table border=\"1\" class=\"dataframe\">\n",
              "  <thead>\n",
              "    <tr style=\"text-align: right;\">\n",
              "      <th></th>\n",
              "      <th>name</th>\n",
              "      <th>id</th>\n",
              "      <th>minutes</th>\n",
              "      <th>contributor_id</th>\n",
              "      <th>submitted</th>\n",
              "      <th>tags</th>\n",
              "      <th>nutrition</th>\n",
              "      <th>n_steps</th>\n",
              "      <th>steps</th>\n",
              "      <th>description</th>\n",
              "      <th>ingredients</th>\n",
              "      <th>n_ingredients</th>\n",
              "      <th>steps_tokens</th>\n",
              "    </tr>\n",
              "  </thead>\n",
              "  <tbody>\n",
              "    <tr>\n",
              "      <th>0</th>\n",
              "      <td>arriba   baked winter squash mexican style</td>\n",
              "      <td>137739</td>\n",
              "      <td>55</td>\n",
              "      <td>47892</td>\n",
              "      <td>2005-09-16</td>\n",
              "      <td>['60-minutes-or-less', 'time-to-make', 'course...</td>\n",
              "      <td>[51.5, 0.0, 13.0, 0.0, 2.0, 0.0, 4.0]</td>\n",
              "      <td>11</td>\n",
              "      <td>['make a choice and proceed with recipe', 'dep...</td>\n",
              "      <td>autumn is my favorite time of year to cook! th...</td>\n",
              "      <td>['winter squash', 'mexican seasoning', 'mixed ...</td>\n",
              "      <td>7</td>\n",
              "      <td>[make, a, choice, and, proceed, with, recipe, ...</td>\n",
              "    </tr>\n",
              "    <tr>\n",
              "      <th>1</th>\n",
              "      <td>a bit different  breakfast pizza</td>\n",
              "      <td>31490</td>\n",
              "      <td>30</td>\n",
              "      <td>26278</td>\n",
              "      <td>2002-06-17</td>\n",
              "      <td>['30-minutes-or-less', 'time-to-make', 'course...</td>\n",
              "      <td>[173.4, 18.0, 0.0, 17.0, 22.0, 35.0, 1.0]</td>\n",
              "      <td>9</td>\n",
              "      <td>['preheat oven to 425 degrees f', 'press dough...</td>\n",
              "      <td>this recipe calls for the crust to be prebaked...</td>\n",
              "      <td>['prepared pizza crust', 'sausage patty', 'egg...</td>\n",
              "      <td>6</td>\n",
              "      <td>[preheat, oven, to, degrees, f, press, dough, ...</td>\n",
              "    </tr>\n",
              "    <tr>\n",
              "      <th>2</th>\n",
              "      <td>all in the kitchen  chili</td>\n",
              "      <td>112140</td>\n",
              "      <td>130</td>\n",
              "      <td>196586</td>\n",
              "      <td>2005-02-25</td>\n",
              "      <td>['time-to-make', 'course', 'preparation', 'mai...</td>\n",
              "      <td>[269.8, 22.0, 32.0, 48.0, 39.0, 27.0, 5.0]</td>\n",
              "      <td>6</td>\n",
              "      <td>['brown ground beef in large pot', 'add choppe...</td>\n",
              "      <td>this modified version of 'mom's' chili was a h...</td>\n",
              "      <td>['ground beef', 'yellow onions', 'diced tomato...</td>\n",
              "      <td>13</td>\n",
              "      <td>[brown, ground, beef, in, large, pot, add, cho...</td>\n",
              "    </tr>\n",
              "    <tr>\n",
              "      <th>3</th>\n",
              "      <td>alouette  potatoes</td>\n",
              "      <td>59389</td>\n",
              "      <td>45</td>\n",
              "      <td>68585</td>\n",
              "      <td>2003-04-14</td>\n",
              "      <td>['60-minutes-or-less', 'time-to-make', 'course...</td>\n",
              "      <td>[368.1, 17.0, 10.0, 2.0, 14.0, 8.0, 20.0]</td>\n",
              "      <td>11</td>\n",
              "      <td>['place potatoes in a large pot of lightly sal...</td>\n",
              "      <td>this is a super easy, great tasting, make ahea...</td>\n",
              "      <td>['spreadable cheese with garlic and herbs', 'n...</td>\n",
              "      <td>11</td>\n",
              "      <td>[place, potatoes, in, a, large, pot, of, light...</td>\n",
              "    </tr>\n",
              "    <tr>\n",
              "      <th>4</th>\n",
              "      <td>amish  tomato ketchup  for canning</td>\n",
              "      <td>44061</td>\n",
              "      <td>190</td>\n",
              "      <td>41706</td>\n",
              "      <td>2002-10-25</td>\n",
              "      <td>['weeknight', 'time-to-make', 'course', 'main-...</td>\n",
              "      <td>[352.9, 1.0, 337.0, 23.0, 3.0, 0.0, 28.0]</td>\n",
              "      <td>5</td>\n",
              "      <td>['mix all ingredients&amp; boil for 2 1 / 2 hours ...</td>\n",
              "      <td>my dh's amish mother raised him on this recipe...</td>\n",
              "      <td>['tomato juice', 'apple cider vinegar', 'sugar...</td>\n",
              "      <td>8</td>\n",
              "      <td>[mix, all, ingredients, boil, for, hours, or, ...</td>\n",
              "    </tr>\n",
              "  </tbody>\n",
              "</table>\n",
              "</div>\n",
              "      <button class=\"colab-df-convert\" onclick=\"convertToInteractive('df-b961d19e-4a1d-4c8c-8ca9-df231d4d1921')\"\n",
              "              title=\"Convert this dataframe to an interactive table.\"\n",
              "              style=\"display:none;\">\n",
              "        \n",
              "  <svg xmlns=\"http://www.w3.org/2000/svg\" height=\"24px\"viewBox=\"0 0 24 24\"\n",
              "       width=\"24px\">\n",
              "    <path d=\"M0 0h24v24H0V0z\" fill=\"none\"/>\n",
              "    <path d=\"M18.56 5.44l.94 2.06.94-2.06 2.06-.94-2.06-.94-.94-2.06-.94 2.06-2.06.94zm-11 1L8.5 8.5l.94-2.06 2.06-.94-2.06-.94L8.5 2.5l-.94 2.06-2.06.94zm10 10l.94 2.06.94-2.06 2.06-.94-2.06-.94-.94-2.06-.94 2.06-2.06.94z\"/><path d=\"M17.41 7.96l-1.37-1.37c-.4-.4-.92-.59-1.43-.59-.52 0-1.04.2-1.43.59L10.3 9.45l-7.72 7.72c-.78.78-.78 2.05 0 2.83L4 21.41c.39.39.9.59 1.41.59.51 0 1.02-.2 1.41-.59l7.78-7.78 2.81-2.81c.8-.78.8-2.07 0-2.86zM5.41 20L4 18.59l7.72-7.72 1.47 1.35L5.41 20z\"/>\n",
              "  </svg>\n",
              "      </button>\n",
              "      \n",
              "  <style>\n",
              "    .colab-df-container {\n",
              "      display:flex;\n",
              "      flex-wrap:wrap;\n",
              "      gap: 12px;\n",
              "    }\n",
              "\n",
              "    .colab-df-convert {\n",
              "      background-color: #E8F0FE;\n",
              "      border: none;\n",
              "      border-radius: 50%;\n",
              "      cursor: pointer;\n",
              "      display: none;\n",
              "      fill: #1967D2;\n",
              "      height: 32px;\n",
              "      padding: 0 0 0 0;\n",
              "      width: 32px;\n",
              "    }\n",
              "\n",
              "    .colab-df-convert:hover {\n",
              "      background-color: #E2EBFA;\n",
              "      box-shadow: 0px 1px 2px rgba(60, 64, 67, 0.3), 0px 1px 3px 1px rgba(60, 64, 67, 0.15);\n",
              "      fill: #174EA6;\n",
              "    }\n",
              "\n",
              "    [theme=dark] .colab-df-convert {\n",
              "      background-color: #3B4455;\n",
              "      fill: #D2E3FC;\n",
              "    }\n",
              "\n",
              "    [theme=dark] .colab-df-convert:hover {\n",
              "      background-color: #434B5C;\n",
              "      box-shadow: 0px 1px 3px 1px rgba(0, 0, 0, 0.15);\n",
              "      filter: drop-shadow(0px 1px 2px rgba(0, 0, 0, 0.3));\n",
              "      fill: #FFFFFF;\n",
              "    }\n",
              "  </style>\n",
              "\n",
              "      <script>\n",
              "        const buttonEl =\n",
              "          document.querySelector('#df-b961d19e-4a1d-4c8c-8ca9-df231d4d1921 button.colab-df-convert');\n",
              "        buttonEl.style.display =\n",
              "          google.colab.kernel.accessAllowed ? 'block' : 'none';\n",
              "\n",
              "        async function convertToInteractive(key) {\n",
              "          const element = document.querySelector('#df-b961d19e-4a1d-4c8c-8ca9-df231d4d1921');\n",
              "          const dataTable =\n",
              "            await google.colab.kernel.invokeFunction('convertToInteractive',\n",
              "                                                     [key], {});\n",
              "          if (!dataTable) return;\n",
              "\n",
              "          const docLinkHtml = 'Like what you see? Visit the ' +\n",
              "            '<a target=\"_blank\" href=https://colab.research.google.com/notebooks/data_table.ipynb>data table notebook</a>'\n",
              "            + ' to learn more about interactive tables.';\n",
              "          element.innerHTML = '';\n",
              "          dataTable['output_type'] = 'display_data';\n",
              "          await google.colab.output.renderOutput(dataTable, element);\n",
              "          const docLink = document.createElement('div');\n",
              "          docLink.innerHTML = docLinkHtml;\n",
              "          element.appendChild(docLink);\n",
              "        }\n",
              "      </script>\n",
              "    </div>\n",
              "  </div>\n",
              "  "
            ],
            "text/plain": [
              "                                         name  ...                                       steps_tokens\n",
              "0  arriba   baked winter squash mexican style  ...  [make, a, choice, and, proceed, with, recipe, ...\n",
              "1            a bit different  breakfast pizza  ...  [preheat, oven, to, degrees, f, press, dough, ...\n",
              "2                   all in the kitchen  chili  ...  [brown, ground, beef, in, large, pot, add, cho...\n",
              "3                          alouette  potatoes  ...  [place, potatoes, in, a, large, pot, of, light...\n",
              "4          amish  tomato ketchup  for canning  ...  [mix, all, ingredients, boil, for, hours, or, ...\n",
              "\n",
              "[5 rows x 13 columns]"
            ]
          },
          "metadata": {},
          "execution_count": 51
        }
      ]
    },
    {
      "cell_type": "code",
      "source": [
        "countsDict = {}\n",
        "for word in sample['steps_tokens'].sum():\n",
        "    if word in countsDict:\n",
        "        countsDict[word] += 1\n",
        "    else:\n",
        "        countsDict[word] = 1\n",
        "word_counts = sorted(countsDict.items(), key = lambda x : x[1], reverse = True)\n"
      ],
      "metadata": {
        "id": "6xTx3OrQbFqh"
      },
      "execution_count": null,
      "outputs": []
    },
    {
      "cell_type": "code",
      "source": [
        "stop_words_freq = []\n",
        "for word, count in word_counts:\n",
        "    if word == 'dressing':\n",
        "        break\n",
        "    else:\n",
        "        stop_words_freq.append(word)\n",
        "stop_words_freq[:5]"
      ],
      "metadata": {
        "colab": {
          "base_uri": "https://localhost:8080/"
        },
        "id": "huGPC-ZtgfOo",
        "outputId": "e7d9eeb5-5ef6-4eb2-95d7-451d5aaa5d6b"
      },
      "execution_count": null,
      "outputs": [
        {
          "output_type": "execute_result",
          "data": {
            "text/plain": [
              "['and', 'the', 'to', 'in', 'a']"
            ]
          },
          "metadata": {},
          "execution_count": 60
        }
      ]
    },
    {
      "cell_type": "code",
      "source": [
        "def normalizeTokens(word_list, extra_stop=[]):\n",
        "    #We can use a generator here as we just need to iterate over it\n",
        "    normalized = []\n",
        "    if type(word_list) == list and len(word_list) == 1:\n",
        "        word_list = word_list[0]\n",
        "\n",
        "    if type(word_list) == list:\n",
        "        word_list = ' '.join([str(elem) for elem in word_list]) \n",
        "\n",
        "    doc = nlp(word_list.lower())\n",
        "    \n",
        "    # add the property of stop word to words considered as stop words\n",
        "    if len(extra_stop) > 0:\n",
        "        for stopword in extra_stop:\n",
        "            lexeme = nlp.vocab[stopword]\n",
        "            lexeme.is_stop = True\n",
        "\n",
        "    for w in doc:\n",
        "        # if it's not a stop word or punctuation mark, add it to our article\n",
        "        if w.text != '\\n' and not w.is_stop and not w.is_punct and not w.like_num and len(w.text.strip()) > 0:\n",
        "            # we add the lematized version of the word\n",
        "            normalized.append(str(w.lemma_))\n",
        "\n",
        "    return normalized"
      ],
      "metadata": {
        "id": "VCv595y1g93j"
      },
      "execution_count": null,
      "outputs": []
    },
    {
      "cell_type": "code",
      "source": [
        "sample['normalized_steps_tokens'] = sample['steps_tokens'].apply(lambda x: normalizeTokens(x))\n",
        "sample['normalized_steps_tokens_count'] = sample['normalized_steps_tokens'].apply(lambda x: len(x))\n",
        "sample.head(5)"
      ],
      "metadata": {
        "colab": {
          "base_uri": "https://localhost:8080/",
          "height": 843
        },
        "id": "zF_GOxHBg_MM",
        "outputId": "24920d3c-3bad-4ff1-8114-b07af1597376"
      },
      "execution_count": null,
      "outputs": [
        {
          "output_type": "stream",
          "name": "stderr",
          "text": [
            "/usr/local/lib/python3.7/dist-packages/ipykernel_launcher.py:1: SettingWithCopyWarning: \n",
            "A value is trying to be set on a copy of a slice from a DataFrame.\n",
            "Try using .loc[row_indexer,col_indexer] = value instead\n",
            "\n",
            "See the caveats in the documentation: https://pandas.pydata.org/pandas-docs/stable/user_guide/indexing.html#returning-a-view-versus-a-copy\n",
            "  \"\"\"Entry point for launching an IPython kernel.\n",
            "/usr/local/lib/python3.7/dist-packages/ipykernel_launcher.py:2: SettingWithCopyWarning: \n",
            "A value is trying to be set on a copy of a slice from a DataFrame.\n",
            "Try using .loc[row_indexer,col_indexer] = value instead\n",
            "\n",
            "See the caveats in the documentation: https://pandas.pydata.org/pandas-docs/stable/user_guide/indexing.html#returning-a-view-versus-a-copy\n",
            "  \n"
          ]
        },
        {
          "output_type": "execute_result",
          "data": {
            "text/html": [
              "\n",
              "  <div id=\"df-0a1ef9d0-21c3-401c-ac83-f0e46cc281c9\">\n",
              "    <div class=\"colab-df-container\">\n",
              "      <div>\n",
              "<style scoped>\n",
              "    .dataframe tbody tr th:only-of-type {\n",
              "        vertical-align: middle;\n",
              "    }\n",
              "\n",
              "    .dataframe tbody tr th {\n",
              "        vertical-align: top;\n",
              "    }\n",
              "\n",
              "    .dataframe thead th {\n",
              "        text-align: right;\n",
              "    }\n",
              "</style>\n",
              "<table border=\"1\" class=\"dataframe\">\n",
              "  <thead>\n",
              "    <tr style=\"text-align: right;\">\n",
              "      <th></th>\n",
              "      <th>name</th>\n",
              "      <th>id</th>\n",
              "      <th>minutes</th>\n",
              "      <th>contributor_id</th>\n",
              "      <th>submitted</th>\n",
              "      <th>tags</th>\n",
              "      <th>nutrition</th>\n",
              "      <th>n_steps</th>\n",
              "      <th>steps</th>\n",
              "      <th>description</th>\n",
              "      <th>ingredients</th>\n",
              "      <th>n_ingredients</th>\n",
              "      <th>steps_tokens</th>\n",
              "      <th>normalized_steps_tokens</th>\n",
              "      <th>normalized_steps_tokens_count</th>\n",
              "    </tr>\n",
              "  </thead>\n",
              "  <tbody>\n",
              "    <tr>\n",
              "      <th>0</th>\n",
              "      <td>arriba   baked winter squash mexican style</td>\n",
              "      <td>137739</td>\n",
              "      <td>55</td>\n",
              "      <td>47892</td>\n",
              "      <td>2005-09-16</td>\n",
              "      <td>['60-minutes-or-less', 'time-to-make', 'course...</td>\n",
              "      <td>[51.5, 0.0, 13.0, 0.0, 2.0, 0.0, 4.0]</td>\n",
              "      <td>11</td>\n",
              "      <td>['make a choice and proceed with recipe', 'dep...</td>\n",
              "      <td>autumn is my favorite time of year to cook! th...</td>\n",
              "      <td>['winter squash', 'mexican seasoning', 'mixed ...</td>\n",
              "      <td>7</td>\n",
              "      <td>[make, a, choice, and, proceed, with, recipe, ...</td>\n",
              "      <td>[choice, proceed, recipe, depend, size, squash...</td>\n",
              "      <td>72</td>\n",
              "    </tr>\n",
              "    <tr>\n",
              "      <th>1</th>\n",
              "      <td>a bit different  breakfast pizza</td>\n",
              "      <td>31490</td>\n",
              "      <td>30</td>\n",
              "      <td>26278</td>\n",
              "      <td>2002-06-17</td>\n",
              "      <td>['30-minutes-or-less', 'time-to-make', 'course...</td>\n",
              "      <td>[173.4, 18.0, 0.0, 17.0, 22.0, 35.0, 1.0]</td>\n",
              "      <td>9</td>\n",
              "      <td>['preheat oven to 425 degrees f', 'press dough...</td>\n",
              "      <td>this recipe calls for the crust to be prebaked...</td>\n",
              "      <td>['prepared pizza crust', 'sausage patty', 'egg...</td>\n",
              "      <td>6</td>\n",
              "      <td>[preheat, oven, to, degrees, f, press, dough, ...</td>\n",
              "      <td>[preheat, oven, degree, f, press, dough, side,...</td>\n",
              "      <td>44</td>\n",
              "    </tr>\n",
              "    <tr>\n",
              "      <th>2</th>\n",
              "      <td>all in the kitchen  chili</td>\n",
              "      <td>112140</td>\n",
              "      <td>130</td>\n",
              "      <td>196586</td>\n",
              "      <td>2005-02-25</td>\n",
              "      <td>['time-to-make', 'course', 'preparation', 'mai...</td>\n",
              "      <td>[269.8, 22.0, 32.0, 48.0, 39.0, 27.0, 5.0]</td>\n",
              "      <td>6</td>\n",
              "      <td>['brown ground beef in large pot', 'add choppe...</td>\n",
              "      <td>this modified version of 'mom's' chili was a h...</td>\n",
              "      <td>['ground beef', 'yellow onions', 'diced tomato...</td>\n",
              "      <td>13</td>\n",
              "      <td>[brown, ground, beef, in, large, pot, add, cho...</td>\n",
              "      <td>[brown, ground, beef, large, pot, add, chop, o...</td>\n",
              "      <td>34</td>\n",
              "    </tr>\n",
              "    <tr>\n",
              "      <th>3</th>\n",
              "      <td>alouette  potatoes</td>\n",
              "      <td>59389</td>\n",
              "      <td>45</td>\n",
              "      <td>68585</td>\n",
              "      <td>2003-04-14</td>\n",
              "      <td>['60-minutes-or-less', 'time-to-make', 'course...</td>\n",
              "      <td>[368.1, 17.0, 10.0, 2.0, 14.0, 8.0, 20.0]</td>\n",
              "      <td>11</td>\n",
              "      <td>['place potatoes in a large pot of lightly sal...</td>\n",
              "      <td>this is a super easy, great tasting, make ahea...</td>\n",
              "      <td>['spreadable cheese with garlic and herbs', 'n...</td>\n",
              "      <td>11</td>\n",
              "      <td>[place, potatoes, in, a, large, pot, of, light...</td>\n",
              "      <td>[place, potato, large, pot, lightly, salt, wat...</td>\n",
              "      <td>59</td>\n",
              "    </tr>\n",
              "    <tr>\n",
              "      <th>4</th>\n",
              "      <td>amish  tomato ketchup  for canning</td>\n",
              "      <td>44061</td>\n",
              "      <td>190</td>\n",
              "      <td>41706</td>\n",
              "      <td>2002-10-25</td>\n",
              "      <td>['weeknight', 'time-to-make', 'course', 'main-...</td>\n",
              "      <td>[352.9, 1.0, 337.0, 23.0, 3.0, 0.0, 28.0]</td>\n",
              "      <td>5</td>\n",
              "      <td>['mix all ingredients&amp; boil for 2 1 / 2 hours ...</td>\n",
              "      <td>my dh's amish mother raised him on this recipe...</td>\n",
              "      <td>['tomato juice', 'apple cider vinegar', 'sugar...</td>\n",
              "      <td>8</td>\n",
              "      <td>[mix, all, ingredients, boil, for, hours, or, ...</td>\n",
              "      <td>[mix, ingredient, boil, hour, thick, pour, jar...</td>\n",
              "      <td>25</td>\n",
              "    </tr>\n",
              "  </tbody>\n",
              "</table>\n",
              "</div>\n",
              "      <button class=\"colab-df-convert\" onclick=\"convertToInteractive('df-0a1ef9d0-21c3-401c-ac83-f0e46cc281c9')\"\n",
              "              title=\"Convert this dataframe to an interactive table.\"\n",
              "              style=\"display:none;\">\n",
              "        \n",
              "  <svg xmlns=\"http://www.w3.org/2000/svg\" height=\"24px\"viewBox=\"0 0 24 24\"\n",
              "       width=\"24px\">\n",
              "    <path d=\"M0 0h24v24H0V0z\" fill=\"none\"/>\n",
              "    <path d=\"M18.56 5.44l.94 2.06.94-2.06 2.06-.94-2.06-.94-.94-2.06-.94 2.06-2.06.94zm-11 1L8.5 8.5l.94-2.06 2.06-.94-2.06-.94L8.5 2.5l-.94 2.06-2.06.94zm10 10l.94 2.06.94-2.06 2.06-.94-2.06-.94-.94-2.06-.94 2.06-2.06.94z\"/><path d=\"M17.41 7.96l-1.37-1.37c-.4-.4-.92-.59-1.43-.59-.52 0-1.04.2-1.43.59L10.3 9.45l-7.72 7.72c-.78.78-.78 2.05 0 2.83L4 21.41c.39.39.9.59 1.41.59.51 0 1.02-.2 1.41-.59l7.78-7.78 2.81-2.81c.8-.78.8-2.07 0-2.86zM5.41 20L4 18.59l7.72-7.72 1.47 1.35L5.41 20z\"/>\n",
              "  </svg>\n",
              "      </button>\n",
              "      \n",
              "  <style>\n",
              "    .colab-df-container {\n",
              "      display:flex;\n",
              "      flex-wrap:wrap;\n",
              "      gap: 12px;\n",
              "    }\n",
              "\n",
              "    .colab-df-convert {\n",
              "      background-color: #E8F0FE;\n",
              "      border: none;\n",
              "      border-radius: 50%;\n",
              "      cursor: pointer;\n",
              "      display: none;\n",
              "      fill: #1967D2;\n",
              "      height: 32px;\n",
              "      padding: 0 0 0 0;\n",
              "      width: 32px;\n",
              "    }\n",
              "\n",
              "    .colab-df-convert:hover {\n",
              "      background-color: #E2EBFA;\n",
              "      box-shadow: 0px 1px 2px rgba(60, 64, 67, 0.3), 0px 1px 3px 1px rgba(60, 64, 67, 0.15);\n",
              "      fill: #174EA6;\n",
              "    }\n",
              "\n",
              "    [theme=dark] .colab-df-convert {\n",
              "      background-color: #3B4455;\n",
              "      fill: #D2E3FC;\n",
              "    }\n",
              "\n",
              "    [theme=dark] .colab-df-convert:hover {\n",
              "      background-color: #434B5C;\n",
              "      box-shadow: 0px 1px 3px 1px rgba(0, 0, 0, 0.15);\n",
              "      filter: drop-shadow(0px 1px 2px rgba(0, 0, 0, 0.3));\n",
              "      fill: #FFFFFF;\n",
              "    }\n",
              "  </style>\n",
              "\n",
              "      <script>\n",
              "        const buttonEl =\n",
              "          document.querySelector('#df-0a1ef9d0-21c3-401c-ac83-f0e46cc281c9 button.colab-df-convert');\n",
              "        buttonEl.style.display =\n",
              "          google.colab.kernel.accessAllowed ? 'block' : 'none';\n",
              "\n",
              "        async function convertToInteractive(key) {\n",
              "          const element = document.querySelector('#df-0a1ef9d0-21c3-401c-ac83-f0e46cc281c9');\n",
              "          const dataTable =\n",
              "            await google.colab.kernel.invokeFunction('convertToInteractive',\n",
              "                                                     [key], {});\n",
              "          if (!dataTable) return;\n",
              "\n",
              "          const docLinkHtml = 'Like what you see? Visit the ' +\n",
              "            '<a target=\"_blank\" href=https://colab.research.google.com/notebooks/data_table.ipynb>data table notebook</a>'\n",
              "            + ' to learn more about interactive tables.';\n",
              "          element.innerHTML = '';\n",
              "          dataTable['output_type'] = 'display_data';\n",
              "          await google.colab.output.renderOutput(dataTable, element);\n",
              "          const docLink = document.createElement('div');\n",
              "          docLink.innerHTML = docLinkHtml;\n",
              "          element.appendChild(docLink);\n",
              "        }\n",
              "      </script>\n",
              "    </div>\n",
              "  </div>\n",
              "  "
            ],
            "text/plain": [
              "                                         name  ...  normalized_steps_tokens_count\n",
              "0  arriba   baked winter squash mexican style  ...                             72\n",
              "1            a bit different  breakfast pizza  ...                             44\n",
              "2                   all in the kitchen  chili  ...                             34\n",
              "3                          alouette  potatoes  ...                             59\n",
              "4          amish  tomato ketchup  for canning  ...                             25\n",
              "\n",
              "[5 rows x 15 columns]"
            ]
          },
          "metadata": {},
          "execution_count": 64
        }
      ]
    },
    {
      "cell_type": "code",
      "source": [
        "#word frequency distributions\n",
        "freqdist = nltk.ConditionalFreqDist(((len(w), w) for w in sample['normalized_steps_tokens'].sum()))"
      ],
      "metadata": {
        "id": "IPljBW4qiZrh"
      },
      "execution_count": null,
      "outputs": []
    },
    {
      "cell_type": "code",
      "source": [
        "freqdist[12].plot()"
      ],
      "metadata": {
        "colab": {
          "base_uri": "https://localhost:8080/",
          "height": 351
        },
        "id": "cc1G0EtRj0EU",
        "outputId": "e3f3fa9b-aba8-4fce-96ee-7e5819d17829"
      },
      "execution_count": null,
      "outputs": [
        {
          "output_type": "display_data",
          "data": {
            "image/png": "[encoded data removed]",
            "text/plain": [
              "<Figure size 432x288 with 1 Axes>"
            ]
          },
          "metadata": {}
        }
      ]
    },
    {
      "cell_type": "code",
      "source": [
        "probdist = nltk.ConditionalProbDist(freqdist, nltk.ELEProbDist)"
      ],
      "metadata": {
        "id": "cdbnOFl0kNB9"
      },
      "execution_count": null,
      "outputs": []
    },
    {
      "cell_type": "code",
      "source": [
        "#print the most common 2 letter word\n",
        "print(probdist[4].max())\n",
        "\n",
        "#And its probability\n",
        "print(probdist[4].prob(probdist[4].max()))"
      ],
      "metadata": {
        "colab": {
          "base_uri": "https://localhost:8080/"
        },
        "id": "T72Vx6Atk2ic",
        "outputId": "4dc12f61-d588-42f6-9dd9-3a6dff636f07"
      },
      "execution_count": null,
      "outputs": [
        {
          "output_type": "stream",
          "name": "stdout",
          "text": [
            "heat\n",
            "0.05458654049855236\n"
          ]
        }
      ]
    },
    {
      "cell_type": "code",
      "source": [
        "import matplotlib.pyplot as plt"
      ],
      "metadata": {
        "id": "6RKmwdxmo2H0"
      },
      "execution_count": null,
      "outputs": []
    },
    {
      "cell_type": "code",
      "source": [
        "x_value = []\n",
        "y_value = []\n",
        "for i in range(1,10):\n",
        "  x_value.append(probdist[i].max())\n",
        "  y_value.append(probdist[i].prob(probdist[i].max()))"
      ],
      "metadata": {
        "id": "SwoyGFH5odP7"
      },
      "execution_count": null,
      "outputs": []
    },
    {
      "cell_type": "code",
      "source": [
        "plt.plot(x_value,y_value)\n",
        "plt.xticks(rotation = 90)\n",
        "plt.xlabel(\"Samples\")\n",
        "plt.ylabel(\"probability\")"
      ],
      "metadata": {
        "colab": {
          "base_uri": "https://localhost:8080/",
          "height": 347
        },
        "id": "rX3zWcuXpNF5",
        "outputId": "4aaf9dcf-e31d-451b-903e-4a37bb39388c"
      },
      "execution_count": null,
      "outputs": [
        {
          "output_type": "execute_result",
          "data": {
            "text/plain": [
              "Text(0, 0.5, 'probability')"
            ]
          },
          "metadata": {},
          "execution_count": 104
        },
        {
          "output_type": "display_data",
          "data": {
            "image/png": "[encoded data removed]",
            "text/plain": [
              "<Figure size 432x288 with 1 Axes>"
            ]
          },
          "metadata": {}
        }
      ]
    },
    {
      "cell_type": "code",
      "source": [
        "def spacy_pos(word_list):\n",
        "    tags = []\n",
        "    doc = nlp(word_list.lower())\n",
        "    for w in doc:\n",
        "        tags.append((w.text, w.tag_))\n",
        "    return tags"
      ],
      "metadata": {
        "id": "SHOUYh4GqLwh"
      },
      "execution_count": null,
      "outputs": []
    },
    {
      "cell_type": "code",
      "source": [
        "sample['normalized_tokens_POS'] = [spacy_pos(t) for t in sample['steps']]\n",
        "sample['normalized_tokens_POS'].head(5)"
      ],
      "metadata": {
        "colab": {
          "base_uri": "https://localhost:8080/"
        },
        "id": "aGFIjV5MqcgK",
        "outputId": "068e47f0-44f1-45cc-a038-8693ea09eca7"
      },
      "execution_count": null,
      "outputs": [
        {
          "output_type": "stream",
          "name": "stderr",
          "text": [
            "/usr/local/lib/python3.7/dist-packages/ipykernel_launcher.py:1: SettingWithCopyWarning: \n",
            "A value is trying to be set on a copy of a slice from a DataFrame.\n",
            "Try using .loc[row_indexer,col_indexer] = value instead\n",
            "\n",
            "See the caveats in the documentation: https://pandas.pydata.org/pandas-docs/stable/user_guide/indexing.html#returning-a-view-versus-a-copy\n",
            "  \"\"\"Entry point for launching an IPython kernel.\n"
          ]
        },
        {
          "output_type": "execute_result",
          "data": {
            "text/plain": [
              "0    [([, -LRB-), (', ``), (make, VB), (a, DT), (ch...\n",
              "1    [([, -LRB-), (', ``), (preheat, NN), (oven, VB...\n",
              "2    [([, -LRB-), (', POS), (brown, JJ), (ground, N...\n",
              "3    [([, -LRB-), (', POS), (place, NN), (potatoes,...\n",
              "4    [([, -LRB-), (', ``), (mix, VB), (all, DT), (i...\n",
              "Name: normalized_tokens_POS, dtype: object"
            ]
          },
          "metadata": {},
          "execution_count": 107
        }
      ]
    },
    {
      "cell_type": "code",
      "source": [
        "freqdist_POStoWord = nltk.ConditionalFreqDist((p, w) for w, p in sample['normalized_tokens_POS'].sum())"
      ],
      "metadata": {
        "id": "4QdEXq-8qsv7"
      },
      "execution_count": null,
      "outputs": []
    },
    {
      "cell_type": "code",
      "source": [
        "freqdist_POStoWord ['VB'].plot()"
      ],
      "metadata": {
        "colab": {
          "base_uri": "https://localhost:8080/",
          "height": 345
        },
        "id": "c3PoWu8XrEA9",
        "outputId": "27d4a7a3-5dd1-49f1-8890-be73b96950f5"
      },
      "execution_count": null,
      "outputs": [
        {
          "output_type": "display_data",
          "data": {
            "image/png": "[encoded data removed]",
            "text/plain": [
              "<Figure size 432x288 with 1 Axes>"
            ]
          },
          "metadata": {}
        }
      ]
    },
    {
      "cell_type": "code",
      "source": [
        "freqdist_POStoWord['VB'].most_common(10)"
      ],
      "metadata": {
        "colab": {
          "base_uri": "https://localhost:8080/"
        },
        "id": "3eUOxT6zrqEn",
        "outputId": "4917151c-0a99-4731-82a8-ad22543887d4"
      },
      "execution_count": null,
      "outputs": [
        {
          "output_type": "execute_result",
          "data": {
            "text/plain": [
              "[('add', 709),\n",
              " ('stir', 237),\n",
              " ('mix', 220),\n",
              " ('cook', 184),\n",
              " ('serve', 161),\n",
              " ('remove', 156),\n",
              " ('combine', 153),\n",
              " ('pour', 130),\n",
              " ('let', 106),\n",
              " ('be', 101)]"
            ]
          },
          "metadata": {},
          "execution_count": 114
        }
      ]
    },
    {
      "cell_type": "code",
      "source": [
        "freqdist_POStoWord ['NN'].plot()"
      ],
      "metadata": {
        "colab": {
          "base_uri": "https://localhost:8080/",
          "height": 365
        },
        "id": "_g1KuGrArRcT",
        "outputId": "06c8902a-f955-405b-b4b7-69748599c02a"
      },
      "execution_count": null,
      "outputs": [
        {
          "output_type": "display_data",
          "data": {
            "image/png": "[encoded data removed]",
            "text/plain": [
              "<Figure size 432x288 with 1 Axes>"
            ]
          },
          "metadata": {}
        }
      ]
    },
    {
      "cell_type": "code",
      "source": [
        "freqdist_POStoWord['NN'].most_common(10)"
      ],
      "metadata": {
        "colab": {
          "base_uri": "https://localhost:8080/"
        },
        "id": "6FE4uCkkry74",
        "outputId": "56a9f22d-d132-4972-f256-07ed32dc2cf3"
      },
      "execution_count": null,
      "outputs": [
        {
          "output_type": "execute_result",
          "data": {
            "text/plain": [
              "[('heat', 335),\n",
              " ('mixture', 284),\n",
              " ('bowl', 247),\n",
              " ('butter', 231),\n",
              " ('pan', 206),\n",
              " ('cheese', 205),\n",
              " ('salt', 191),\n",
              " ('sauce', 184),\n",
              " ('water', 180),\n",
              " ('oil', 170)]"
            ]
          },
          "metadata": {},
          "execution_count": 115
        }
      ]
    },
    {
      "cell_type": "code",
      "source": [
        "wc = wordcloud.WordCloud(background_color=\"white\", max_words=500, width= 1000, height = 1000, mode ='RGBA', scale=.5).generate(' '.join(sample['normalized_steps_tokens'].sum()))\n",
        "plt.imshow(wc)\n",
        "plt.axis(\"off\")\n",
        "plt.savefig(\"word_cloud.pdf\", format = 'pdf')"
      ],
      "metadata": {
        "colab": {
          "base_uri": "https://localhost:8080/",
          "height": 248
        },
        "id": "16QwYY9ysAlP",
        "outputId": "69b8cc36-ee4a-4753-a22b-36e459d89037"
      },
      "execution_count": null,
      "outputs": [
        {
          "output_type": "display_data",
          "data": {
            "image/png": "[encoded data removed]",
            "text/plain": [
              "<Figure size 432x288 with 1 Axes>"
            ]
          },
          "metadata": {}
        }
      ]
    },
    {
      "cell_type": "markdown",
      "source": [
        "As expected, the words that show up most frequently in the steps of recipes belong to the verb category (e.g. add, mix, etc.). The next most frequent words are the tools (e.g. pan, cup, etc.) and ingredients (e.g. sauce, butter, etc.) that are commonly used in cooking. "
      ],
      "metadata": {
        "id": "5X7HPQU1sbzS"
      }
    },
    {
      "cell_type": "markdown",
      "metadata": {
        "id": "KwptgkSqmgiE"
      },
      "source": [
        "## <font color=\"red\">Exercise 3</font>\n",
        "\n",
        "<font color=\"red\">In the cells immediately following, perform POS tagging on a meaningful (but modest) subset of a corpus associated with your final project. Examine the list of words associated with at least three different parts of speech. Consider conditional associations (e.g., adjectives associated with nouns or adverbs with verbs of interest). What do these distributions suggest about your corpus?"
      ]
    },
    {
      "cell_type": "code",
      "source": [
        "sample2 = df[:100]\n",
        "sample2.head(5)"
      ],
      "metadata": {
        "colab": {
          "base_uri": "https://localhost:8080/",
          "height": 476
        },
        "id": "9crrsVwu0u-_",
        "outputId": "3bbd26e4-71e9-44b5-bf4d-aa05bba617ce"
      },
      "execution_count": null,
      "outputs": [
        {
          "output_type": "execute_result",
          "data": {
            "text/html": [
              "\n",
              "  <div id=\"df-a75bda9b-3cf5-4c2a-99df-64b6cee98986\">\n",
              "    <div class=\"colab-df-container\">\n",
              "      <div>\n",
              "<style scoped>\n",
              "    .dataframe tbody tr th:only-of-type {\n",
              "        vertical-align: middle;\n",
              "    }\n",
              "\n",
              "    .dataframe tbody tr th {\n",
              "        vertical-align: top;\n",
              "    }\n",
              "\n",
              "    .dataframe thead th {\n",
              "        text-align: right;\n",
              "    }\n",
              "</style>\n",
              "<table border=\"1\" class=\"dataframe\">\n",
              "  <thead>\n",
              "    <tr style=\"text-align: right;\">\n",
              "      <th></th>\n",
              "      <th>name</th>\n",
              "      <th>id</th>\n",
              "      <th>minutes</th>\n",
              "      <th>contributor_id</th>\n",
              "      <th>submitted</th>\n",
              "      <th>tags</th>\n",
              "      <th>nutrition</th>\n",
              "      <th>n_steps</th>\n",
              "      <th>steps</th>\n",
              "      <th>description</th>\n",
              "      <th>ingredients</th>\n",
              "      <th>n_ingredients</th>\n",
              "    </tr>\n",
              "  </thead>\n",
              "  <tbody>\n",
              "    <tr>\n",
              "      <th>0</th>\n",
              "      <td>arriba   baked winter squash mexican style</td>\n",
              "      <td>137739</td>\n",
              "      <td>55</td>\n",
              "      <td>47892</td>\n",
              "      <td>2005-09-16</td>\n",
              "      <td>['60-minutes-or-less', 'time-to-make', 'course...</td>\n",
              "      <td>[51.5, 0.0, 13.0, 0.0, 2.0, 0.0, 4.0]</td>\n",
              "      <td>11</td>\n",
              "      <td>['make a choice and proceed with recipe', 'dep...</td>\n",
              "      <td>autumn is my favorite time of year to cook! th...</td>\n",
              "      <td>['winter squash', 'mexican seasoning', 'mixed ...</td>\n",
              "      <td>7</td>\n",
              "    </tr>\n",
              "    <tr>\n",
              "      <th>1</th>\n",
              "      <td>a bit different  breakfast pizza</td>\n",
              "      <td>31490</td>\n",
              "      <td>30</td>\n",
              "      <td>26278</td>\n",
              "      <td>2002-06-17</td>\n",
              "      <td>['30-minutes-or-less', 'time-to-make', 'course...</td>\n",
              "      <td>[173.4, 18.0, 0.0, 17.0, 22.0, 35.0, 1.0]</td>\n",
              "      <td>9</td>\n",
              "      <td>['preheat oven to 425 degrees f', 'press dough...</td>\n",
              "      <td>this recipe calls for the crust to be prebaked...</td>\n",
              "      <td>['prepared pizza crust', 'sausage patty', 'egg...</td>\n",
              "      <td>6</td>\n",
              "    </tr>\n",
              "    <tr>\n",
              "      <th>2</th>\n",
              "      <td>all in the kitchen  chili</td>\n",
              "      <td>112140</td>\n",
              "      <td>130</td>\n",
              "      <td>196586</td>\n",
              "      <td>2005-02-25</td>\n",
              "      <td>['time-to-make', 'course', 'preparation', 'mai...</td>\n",
              "      <td>[269.8, 22.0, 32.0, 48.0, 39.0, 27.0, 5.0]</td>\n",
              "      <td>6</td>\n",
              "      <td>['brown ground beef in large pot', 'add choppe...</td>\n",
              "      <td>this modified version of 'mom's' chili was a h...</td>\n",
              "      <td>['ground beef', 'yellow onions', 'diced tomato...</td>\n",
              "      <td>13</td>\n",
              "    </tr>\n",
              "    <tr>\n",
              "      <th>3</th>\n",
              "      <td>alouette  potatoes</td>\n",
              "      <td>59389</td>\n",
              "      <td>45</td>\n",
              "      <td>68585</td>\n",
              "      <td>2003-04-14</td>\n",
              "      <td>['60-minutes-or-less', 'time-to-make', 'course...</td>\n",
              "      <td>[368.1, 17.0, 10.0, 2.0, 14.0, 8.0, 20.0]</td>\n",
              "      <td>11</td>\n",
              "      <td>['place potatoes in a large pot of lightly sal...</td>\n",
              "      <td>this is a super easy, great tasting, make ahea...</td>\n",
              "      <td>['spreadable cheese with garlic and herbs', 'n...</td>\n",
              "      <td>11</td>\n",
              "    </tr>\n",
              "    <tr>\n",
              "      <th>4</th>\n",
              "      <td>amish  tomato ketchup  for canning</td>\n",
              "      <td>44061</td>\n",
              "      <td>190</td>\n",
              "      <td>41706</td>\n",
              "      <td>2002-10-25</td>\n",
              "      <td>['weeknight', 'time-to-make', 'course', 'main-...</td>\n",
              "      <td>[352.9, 1.0, 337.0, 23.0, 3.0, 0.0, 28.0]</td>\n",
              "      <td>5</td>\n",
              "      <td>['mix all ingredients&amp; boil for 2 1 / 2 hours ...</td>\n",
              "      <td>my dh's amish mother raised him on this recipe...</td>\n",
              "      <td>['tomato juice', 'apple cider vinegar', 'sugar...</td>\n",
              "      <td>8</td>\n",
              "    </tr>\n",
              "  </tbody>\n",
              "</table>\n",
              "</div>\n",
              "      <button class=\"colab-df-convert\" onclick=\"convertToInteractive('df-a75bda9b-3cf5-4c2a-99df-64b6cee98986')\"\n",
              "              title=\"Convert this dataframe to an interactive table.\"\n",
              "              style=\"display:none;\">\n",
              "        \n",
              "  <svg xmlns=\"http://www.w3.org/2000/svg\" height=\"24px\"viewBox=\"0 0 24 24\"\n",
              "       width=\"24px\">\n",
              "    <path d=\"M0 0h24v24H0V0z\" fill=\"none\"/>\n",
              "    <path d=\"M18.56 5.44l.94 2.06.94-2.06 2.06-.94-2.06-.94-.94-2.06-.94 2.06-2.06.94zm-11 1L8.5 8.5l.94-2.06 2.06-.94-2.06-.94L8.5 2.5l-.94 2.06-2.06.94zm10 10l.94 2.06.94-2.06 2.06-.94-2.06-.94-.94-2.06-.94 2.06-2.06.94z\"/><path d=\"M17.41 7.96l-1.37-1.37c-.4-.4-.92-.59-1.43-.59-.52 0-1.04.2-1.43.59L10.3 9.45l-7.72 7.72c-.78.78-.78 2.05 0 2.83L4 21.41c.39.39.9.59 1.41.59.51 0 1.02-.2 1.41-.59l7.78-7.78 2.81-2.81c.8-.78.8-2.07 0-2.86zM5.41 20L4 18.59l7.72-7.72 1.47 1.35L5.41 20z\"/>\n",
              "  </svg>\n",
              "      </button>\n",
              "      \n",
              "  <style>\n",
              "    .colab-df-container {\n",
              "      display:flex;\n",
              "      flex-wrap:wrap;\n",
              "      gap: 12px;\n",
              "    }\n",
              "\n",
              "    .colab-df-convert {\n",
              "      background-color: #E8F0FE;\n",
              "      border: none;\n",
              "      border-radius: 50%;\n",
              "      cursor: pointer;\n",
              "      display: none;\n",
              "      fill: #1967D2;\n",
              "      height: 32px;\n",
              "      padding: 0 0 0 0;\n",
              "      width: 32px;\n",
              "    }\n",
              "\n",
              "    .colab-df-convert:hover {\n",
              "      background-color: #E2EBFA;\n",
              "      box-shadow: 0px 1px 2px rgba(60, 64, 67, 0.3), 0px 1px 3px 1px rgba(60, 64, 67, 0.15);\n",
              "      fill: #174EA6;\n",
              "    }\n",
              "\n",
              "    [theme=dark] .colab-df-convert {\n",
              "      background-color: #3B4455;\n",
              "      fill: #D2E3FC;\n",
              "    }\n",
              "\n",
              "    [theme=dark] .colab-df-convert:hover {\n",
              "      background-color: #434B5C;\n",
              "      box-shadow: 0px 1px 3px 1px rgba(0, 0, 0, 0.15);\n",
              "      filter: drop-shadow(0px 1px 2px rgba(0, 0, 0, 0.3));\n",
              "      fill: #FFFFFF;\n",
              "    }\n",
              "  </style>\n",
              "\n",
              "      <script>\n",
              "        const buttonEl =\n",
              "          document.querySelector('#df-a75bda9b-3cf5-4c2a-99df-64b6cee98986 button.colab-df-convert');\n",
              "        buttonEl.style.display =\n",
              "          google.colab.kernel.accessAllowed ? 'block' : 'none';\n",
              "\n",
              "        async function convertToInteractive(key) {\n",
              "          const element = document.querySelector('#df-a75bda9b-3cf5-4c2a-99df-64b6cee98986');\n",
              "          const dataTable =\n",
              "            await google.colab.kernel.invokeFunction('convertToInteractive',\n",
              "                                                     [key], {});\n",
              "          if (!dataTable) return;\n",
              "\n",
              "          const docLinkHtml = 'Like what you see? Visit the ' +\n",
              "            '<a target=\"_blank\" href=https://colab.research.google.com/notebooks/data_table.ipynb>data table notebook</a>'\n",
              "            + ' to learn more about interactive tables.';\n",
              "          element.innerHTML = '';\n",
              "          dataTable['output_type'] = 'display_data';\n",
              "          await google.colab.output.renderOutput(dataTable, element);\n",
              "          const docLink = document.createElement('div');\n",
              "          docLink.innerHTML = docLinkHtml;\n",
              "          element.appendChild(docLink);\n",
              "        }\n",
              "      </script>\n",
              "    </div>\n",
              "  </div>\n",
              "  "
            ],
            "text/plain": [
              "                                         name  ...  n_ingredients\n",
              "0  arriba   baked winter squash mexican style  ...              7\n",
              "1            a bit different  breakfast pizza  ...              6\n",
              "2                   all in the kitchen  chili  ...             13\n",
              "3                          alouette  potatoes  ...             11\n",
              "4          amish  tomato ketchup  for canning  ...              8\n",
              "\n",
              "[5 rows x 12 columns]"
            ]
          },
          "metadata": {},
          "execution_count": 149
        }
      ]
    },
    {
      "cell_type": "code",
      "source": [
        "sentences = []\n",
        "for _ in sample2['description'].values:\n",
        "  sentences.append(_)"
      ],
      "metadata": {
        "id": "HyfOsvSM51lL"
      },
      "execution_count": null,
      "outputs": []
    },
    {
      "cell_type": "code",
      "source": [
        "sentences[:10]"
      ],
      "metadata": {
        "colab": {
          "base_uri": "https://localhost:8080/"
        },
        "id": "_C8lkoJ9_DK2",
        "outputId": "ce137c22-a904-4b06-ad44-833e5e9689a5"
      },
      "execution_count": null,
      "outputs": [
        {
          "output_type": "execute_result",
          "data": {
            "text/plain": [
              "['autumn is my favorite time of year to cook! this recipe \\r\\ncan be prepared either spicy or sweet, your choice!\\r\\ntwo of my posted mexican-inspired seasoning mix recipes are offered as suggestions.',\n",
              " 'this recipe calls for the crust to be prebaked a bit before adding ingredients. feel free to change sausage to ham or bacon. this warms well in the microwave for those late risers.',\n",
              " \"this modified version of 'mom's' chili was a hit at our 2004 christmas party. we made an extra large pot to have some left to freeze but it never made it to the freezer. it was a favorite by all. perfect for any cold and rainy day. you won't find this one in a cookbook. it is truly an original.\",\n",
              " 'this is a super easy, great tasting, make ahead side dish that looks like you spent a lot more time preparing than you actually do. plus, most everything is done in advance. the times do not reflect the standing time of the potatoes.',\n",
              " \"my dh's amish mother raised him on this recipe. he much prefers it over store-bought ketchup. it was a taste i had to acquire, but now my ds's also prefer this type of ketchup. enjoy!\",\n",
              " nan,\n",
              " 'my italian mil was thoroughly impressed by my non-italian treatment of her olives. they are great appetizers and condiments to your fav pasta.(from the vancouver sun) ps. cook time include fridge time',\n",
              " \"this recipe is posted by request and was originaly from chef sam choy's cookbook \",\n",
              " nan,\n",
              " \"from ann hodgman's \"]"
            ]
          },
          "metadata": {},
          "execution_count": 173
        }
      ]
    },
    {
      "cell_type": "code",
      "source": [
        "doc = nlp(str(sentences))"
      ],
      "metadata": {
        "id": "6OjLRpLY6M4g"
      },
      "execution_count": null,
      "outputs": []
    },
    {
      "cell_type": "code",
      "source": [
        "pos_sents = []\n",
        "for sent in doc.sents:\n",
        "    pos_sent = []\n",
        "    for token in sent:\n",
        "        pos_sent.append((token.text, token.tag_))\n",
        "    pos_sents.append(pos_sent)"
      ],
      "metadata": {
        "id": "Ni4c--dk6hfN"
      },
      "execution_count": null,
      "outputs": []
    },
    {
      "cell_type": "code",
      "source": [
        "sents = []\n",
        "for i in pos_sents:\n",
        "  for j in i:\n",
        "    sents.append(j)"
      ],
      "metadata": {
        "id": "RHN3U05v7Dsw"
      },
      "execution_count": null,
      "outputs": []
    },
    {
      "cell_type": "code",
      "source": [
        "sents[:10]"
      ],
      "metadata": {
        "colab": {
          "base_uri": "https://localhost:8080/"
        },
        "id": "gTEjC3Yg7N91",
        "outputId": "fcf3a36f-fc1c-4409-957e-a417f08fc56a"
      },
      "execution_count": null,
      "outputs": [
        {
          "output_type": "execute_result",
          "data": {
            "text/plain": [
              "[('[', '-LRB-'),\n",
              " (\"'\", '``'),\n",
              " ('autumn', 'NN'),\n",
              " ('is', 'VBZ'),\n",
              " ('my', 'PRP$'),\n",
              " ('favorite', 'JJ'),\n",
              " ('time', 'NN'),\n",
              " ('of', 'IN'),\n",
              " ('year', 'NN'),\n",
              " ('to', 'TO')]"
            ]
          },
          "metadata": {},
          "execution_count": 170
        }
      ]
    },
    {
      "cell_type": "code",
      "source": [
        "countTarget = 'NN'\n",
        "targetCounts = {}\n",
        "for ent, kind in sents:\n",
        "  if kind != countTarget:\n",
        "      continue\n",
        "  elif ent in targetCounts:\n",
        "      targetCounts[ent] += 1\n",
        "  else:\n",
        "      targetCounts[ent] = 1\n",
        "sortedTargets = sorted(targetCounts.items(), key = lambda x: x[1], reverse = True)\n",
        "sortedTargets[:20]"
      ],
      "metadata": {
        "colab": {
          "base_uri": "https://localhost:8080/"
        },
        "id": "XXjGY_h47VKw",
        "outputId": "2ab27bea-2c88-47a5-9530-2b1fa46807b8"
      },
      "execution_count": null,
      "outputs": [
        {
          "output_type": "execute_result",
          "data": {
            "text/plain": [
              "[('recipe', 38),\n",
              " ('time', 25),\n",
              " ('food', 9),\n",
              " ('chicken', 9),\n",
              " ('dish', 8),\n",
              " ('cake', 8),\n",
              " ('husband', 7),\n",
              " ('meat', 7),\n",
              " ('one', 7),\n",
              " ('day', 6),\n",
              " ('cookbook', 6),\n",
              " ('sauce', 6),\n",
              " ('dinner', 6),\n",
              " ('cream', 6),\n",
              " ('mother', 5),\n",
              " ('family', 5),\n",
              " ('beef', 4),\n",
              " ('flavor', 4),\n",
              " ('chocolate', 4),\n",
              " ('version', 3)]"
            ]
          },
          "metadata": {},
          "execution_count": 171
        }
      ]
    },
    {
      "cell_type": "markdown",
      "source": [
        "**Based on the list of nouns returned, we can learn that chicken and beef are the most popular meat to cook, and the main purpose of learning the recipes is to cook meals that can share with the family.** "
      ],
      "metadata": {
        "id": "J0NnUs2BDfMY"
      }
    },
    {
      "cell_type": "code",
      "source": [
        "countTarget = 'JJ'\n",
        "targetCounts = {}\n",
        "for ent, kind in sents:\n",
        "  if kind != countTarget:\n",
        "      continue\n",
        "  elif ent in targetCounts:\n",
        "      targetCounts[ent] += 1\n",
        "  else:\n",
        "      targetCounts[ent] = 1\n",
        "sortedTargets = sorted(targetCounts.items(), key = lambda x: x[1], reverse = True)\n",
        "sortedTargets[:20]"
      ],
      "metadata": {
        "colab": {
          "base_uri": "https://localhost:8080/"
        },
        "id": "zx9R60bv-dtw",
        "outputId": "6ef691ea-206c-4a36-f2bd-daaa707e7516"
      },
      "execution_count": null,
      "outputs": [
        {
          "output_type": "execute_result",
          "data": {
            "text/plain": [
              "[('easy', 12),\n",
              " ('great', 11),\n",
              " ('good', 11),\n",
              " ('favorite', 9),\n",
              " ('hot', 7),\n",
              " ('tasty', 7),\n",
              " ('little', 7),\n",
              " ('different', 7),\n",
              " ('wonderful', 7),\n",
              " ('delicious', 7),\n",
              " ('nice', 7),\n",
              " ('italian', 5),\n",
              " ('several', 5),\n",
              " ('sweet', 4),\n",
              " ('cold', 4),\n",
              " ('sure', 4),\n",
              " ('many', 4),\n",
              " ('other', 4),\n",
              " ('enough', 4),\n",
              " ('spicy', 3)]"
            ]
          },
          "metadata": {},
          "execution_count": 172
        }
      ]
    },
    {
      "cell_type": "code",
      "source": [
        "NTarget = 'JJ'\n",
        "Word = 'recipe'\n",
        "NResults = set()\n",
        "\n",
        "for (ent1, kind1),(ent2,kind2) in zip(sents[:-1], sents[1:]):\n",
        "  if (kind1,ent2.lower())==(NTarget,Word):\n",
        "      NResults.add(ent1)\n",
        "  else:\n",
        "      continue\n",
        "\n",
        "print(NResults) "
      ],
      "metadata": {
        "colab": {
          "base_uri": "https://localhost:8080/"
        },
        "id": "ic-WvdRZBs2o",
        "outputId": "a69dfd27-51cc-4ae9-8294-e5e4c72ec247"
      },
      "execution_count": null,
      "outputs": [
        {
          "output_type": "stream",
          "name": "stdout",
          "text": [
            "{'easy', 'simple', 'original'}\n"
          ]
        }
      ]
    },
    {
      "cell_type": "markdown",
      "source": [
        "**We see a lot of positive adjectives (e.g. great, tasty, delicious, etc.)returned, meaning the receipes are awesome. In addition, they are also easy to learn according to the adjectives associated with the word \"recipe\".**  "
      ],
      "metadata": {
        "id": "dxPhr5wfEgBp"
      }
    },
    {
      "cell_type": "markdown",
      "metadata": {
        "id": "pHtRKa4rmgiO"
      },
      "source": [
        "## <font color=\"red\">*Exercise 4*</font>\n",
        "\n",
        "<font color=\"red\">Construct cells immediately below this that identify statistically significant bigrams, trigrams, quadgrams, higher-order *n*grams and skipgrams. Explore whether these collocations are idiomatic and so irreducible to the semantic sum of their component words. You can do this by examination of conditional frequencies (e.g., what else is 'united' besides the 'United States'). If these phrases are idiomatic, what do they suggest about the culture of the world producing them?\n",
        "\n",
        "<font color=\"red\">**Stretch**: In Manning and Schütze's textbook, there Section 5.3.2 explores how to use the *t*-test to find words whose co-occurance patterns best distinguish two words. Implement that and use it to explore phrases in your corpus. For instance, you could tell what words come after \"America\" much more often than after \"Iraq\"?</font> "
      ]
    },
    {
      "cell_type": "code",
      "source": [
        "sample3 = df[:500]"
      ],
      "metadata": {
        "id": "iw3khZHeLDd6"
      },
      "execution_count": null,
      "outputs": []
    },
    {
      "cell_type": "code",
      "source": [
        "from nltk.tokenize import word_tokenize\n",
        "from nltk.corpus import stopwords"
      ],
      "metadata": {
        "id": "Dpu2TMrXMcjW"
      },
      "execution_count": null,
      "outputs": []
    },
    {
      "cell_type": "code",
      "source": [
        "nltk.download('stopwords')"
      ],
      "metadata": {
        "colab": {
          "base_uri": "https://localhost:8080/"
        },
        "id": "n10rOJgOOsCv",
        "outputId": "83a1a8c9-7b4a-42e3-ae3a-b8b57f4f6d78"
      },
      "execution_count": null,
      "outputs": [
        {
          "output_type": "stream",
          "name": "stdout",
          "text": [
            "[nltk_data] Downloading package stopwords to /root/nltk_data...\n",
            "[nltk_data]   Package stopwords is already up-to-date!\n"
          ]
        },
        {
          "output_type": "execute_result",
          "data": {
            "text/plain": [
              "True"
            ]
          },
          "metadata": {},
          "execution_count": 436
        }
      ]
    },
    {
      "cell_type": "code",
      "source": [
        "stops = set(stopwords.words('english'))"
      ],
      "metadata": {
        "id": "9mJFZRq8OkUe"
      },
      "execution_count": null,
      "outputs": []
    },
    {
      "cell_type": "code",
      "source": [
        "nlp = spacy.load(\"en\")"
      ],
      "metadata": {
        "id": "JDojTgt-L0pp"
      },
      "execution_count": null,
      "outputs": []
    },
    {
      "cell_type": "code",
      "source": [
        "def word_tokenize(word_list):\n",
        "    tokenized = []\n",
        "    # pass word list through language model.\n",
        "    doc = nlp(word_list)\n",
        "    for token in doc:\n",
        "        if not token.is_punct and len(token.text.strip()) > 0:\n",
        "            tokenized.append(token.text)\n",
        "    return tokenized"
      ],
      "metadata": {
        "id": "1qGroa58Ltvj"
      },
      "execution_count": null,
      "outputs": []
    },
    {
      "cell_type": "code",
      "source": [
        "def formatting(x):\n",
        "    x = re.sub(r'[^a-zA-Z]+', ' ', x)\n",
        "    x = re.sub(r'[^\\w\\s]','',x)\n",
        "    return x "
      ],
      "metadata": {
        "id": "8Md_0nRALCBy"
      },
      "execution_count": null,
      "outputs": []
    },
    {
      "cell_type": "code",
      "source": [
        "def non_stopwords(word_list):\n",
        "  word_filtered = []\n",
        "  for w in word_list:\n",
        "    if w not in stops:\n",
        "        word_filtered.append(w)\n",
        "  \n",
        "  return word_filtered"
      ],
      "metadata": {
        "id": "uFYwaEfkOA_B"
      },
      "execution_count": null,
      "outputs": []
    },
    {
      "cell_type": "code",
      "source": [
        "sample3.head(5)"
      ],
      "metadata": {
        "colab": {
          "base_uri": "https://localhost:8080/",
          "height": 476
        },
        "id": "nmCNPx-cLtfK",
        "outputId": "d29ca057-42c1-494c-c6ac-6432267a70c2"
      },
      "execution_count": null,
      "outputs": [
        {
          "output_type": "execute_result",
          "data": {
            "text/html": [
              "\n",
              "  <div id=\"df-19dc2afc-d008-49f3-9830-caed40665145\">\n",
              "    <div class=\"colab-df-container\">\n",
              "      <div>\n",
              "<style scoped>\n",
              "    .dataframe tbody tr th:only-of-type {\n",
              "        vertical-align: middle;\n",
              "    }\n",
              "\n",
              "    .dataframe tbody tr th {\n",
              "        vertical-align: top;\n",
              "    }\n",
              "\n",
              "    .dataframe thead th {\n",
              "        text-align: right;\n",
              "    }\n",
              "</style>\n",
              "<table border=\"1\" class=\"dataframe\">\n",
              "  <thead>\n",
              "    <tr style=\"text-align: right;\">\n",
              "      <th></th>\n",
              "      <th>name</th>\n",
              "      <th>id</th>\n",
              "      <th>minutes</th>\n",
              "      <th>contributor_id</th>\n",
              "      <th>submitted</th>\n",
              "      <th>tags</th>\n",
              "      <th>nutrition</th>\n",
              "      <th>n_steps</th>\n",
              "      <th>steps</th>\n",
              "      <th>description</th>\n",
              "      <th>ingredients</th>\n",
              "      <th>n_ingredients</th>\n",
              "    </tr>\n",
              "  </thead>\n",
              "  <tbody>\n",
              "    <tr>\n",
              "      <th>0</th>\n",
              "      <td>arriba   baked winter squash mexican style</td>\n",
              "      <td>137739</td>\n",
              "      <td>55</td>\n",
              "      <td>47892</td>\n",
              "      <td>2005-09-16</td>\n",
              "      <td>['60-minutes-or-less', 'time-to-make', 'course...</td>\n",
              "      <td>[51.5, 0.0, 13.0, 0.0, 2.0, 0.0, 4.0]</td>\n",
              "      <td>11</td>\n",
              "      <td>['make a choice and proceed with recipe', 'dep...</td>\n",
              "      <td>autumn is my favorite time of year to cook! th...</td>\n",
              "      <td>['winter squash', 'mexican seasoning', 'mixed ...</td>\n",
              "      <td>7</td>\n",
              "    </tr>\n",
              "    <tr>\n",
              "      <th>1</th>\n",
              "      <td>a bit different  breakfast pizza</td>\n",
              "      <td>31490</td>\n",
              "      <td>30</td>\n",
              "      <td>26278</td>\n",
              "      <td>2002-06-17</td>\n",
              "      <td>['30-minutes-or-less', 'time-to-make', 'course...</td>\n",
              "      <td>[173.4, 18.0, 0.0, 17.0, 22.0, 35.0, 1.0]</td>\n",
              "      <td>9</td>\n",
              "      <td>['preheat oven to 425 degrees f', 'press dough...</td>\n",
              "      <td>this recipe calls for the crust to be prebaked...</td>\n",
              "      <td>['prepared pizza crust', 'sausage patty', 'egg...</td>\n",
              "      <td>6</td>\n",
              "    </tr>\n",
              "    <tr>\n",
              "      <th>2</th>\n",
              "      <td>all in the kitchen  chili</td>\n",
              "      <td>112140</td>\n",
              "      <td>130</td>\n",
              "      <td>196586</td>\n",
              "      <td>2005-02-25</td>\n",
              "      <td>['time-to-make', 'course', 'preparation', 'mai...</td>\n",
              "      <td>[269.8, 22.0, 32.0, 48.0, 39.0, 27.0, 5.0]</td>\n",
              "      <td>6</td>\n",
              "      <td>['brown ground beef in large pot', 'add choppe...</td>\n",
              "      <td>this modified version of 'mom's' chili was a h...</td>\n",
              "      <td>['ground beef', 'yellow onions', 'diced tomato...</td>\n",
              "      <td>13</td>\n",
              "    </tr>\n",
              "    <tr>\n",
              "      <th>3</th>\n",
              "      <td>alouette  potatoes</td>\n",
              "      <td>59389</td>\n",
              "      <td>45</td>\n",
              "      <td>68585</td>\n",
              "      <td>2003-04-14</td>\n",
              "      <td>['60-minutes-or-less', 'time-to-make', 'course...</td>\n",
              "      <td>[368.1, 17.0, 10.0, 2.0, 14.0, 8.0, 20.0]</td>\n",
              "      <td>11</td>\n",
              "      <td>['place potatoes in a large pot of lightly sal...</td>\n",
              "      <td>this is a super easy, great tasting, make ahea...</td>\n",
              "      <td>['spreadable cheese with garlic and herbs', 'n...</td>\n",
              "      <td>11</td>\n",
              "    </tr>\n",
              "    <tr>\n",
              "      <th>4</th>\n",
              "      <td>amish  tomato ketchup  for canning</td>\n",
              "      <td>44061</td>\n",
              "      <td>190</td>\n",
              "      <td>41706</td>\n",
              "      <td>2002-10-25</td>\n",
              "      <td>['weeknight', 'time-to-make', 'course', 'main-...</td>\n",
              "      <td>[352.9, 1.0, 337.0, 23.0, 3.0, 0.0, 28.0]</td>\n",
              "      <td>5</td>\n",
              "      <td>['mix all ingredients&amp; boil for 2 1 / 2 hours ...</td>\n",
              "      <td>my dh's amish mother raised him on this recipe...</td>\n",
              "      <td>['tomato juice', 'apple cider vinegar', 'sugar...</td>\n",
              "      <td>8</td>\n",
              "    </tr>\n",
              "  </tbody>\n",
              "</table>\n",
              "</div>\n",
              "      <button class=\"colab-df-convert\" onclick=\"convertToInteractive('df-19dc2afc-d008-49f3-9830-caed40665145')\"\n",
              "              title=\"Convert this dataframe to an interactive table.\"\n",
              "              style=\"display:none;\">\n",
              "        \n",
              "  <svg xmlns=\"http://www.w3.org/2000/svg\" height=\"24px\"viewBox=\"0 0 24 24\"\n",
              "       width=\"24px\">\n",
              "    <path d=\"M0 0h24v24H0V0z\" fill=\"none\"/>\n",
              "    <path d=\"M18.56 5.44l.94 2.06.94-2.06 2.06-.94-2.06-.94-.94-2.06-.94 2.06-2.06.94zm-11 1L8.5 8.5l.94-2.06 2.06-.94-2.06-.94L8.5 2.5l-.94 2.06-2.06.94zm10 10l.94 2.06.94-2.06 2.06-.94-2.06-.94-.94-2.06-.94 2.06-2.06.94z\"/><path d=\"M17.41 7.96l-1.37-1.37c-.4-.4-.92-.59-1.43-.59-.52 0-1.04.2-1.43.59L10.3 9.45l-7.72 7.72c-.78.78-.78 2.05 0 2.83L4 21.41c.39.39.9.59 1.41.59.51 0 1.02-.2 1.41-.59l7.78-7.78 2.81-2.81c.8-.78.8-2.07 0-2.86zM5.41 20L4 18.59l7.72-7.72 1.47 1.35L5.41 20z\"/>\n",
              "  </svg>\n",
              "      </button>\n",
              "      \n",
              "  <style>\n",
              "    .colab-df-container {\n",
              "      display:flex;\n",
              "      flex-wrap:wrap;\n",
              "      gap: 12px;\n",
              "    }\n",
              "\n",
              "    .colab-df-convert {\n",
              "      background-color: #E8F0FE;\n",
              "      border: none;\n",
              "      border-radius: 50%;\n",
              "      cursor: pointer;\n",
              "      display: none;\n",
              "      fill: #1967D2;\n",
              "      height: 32px;\n",
              "      padding: 0 0 0 0;\n",
              "      width: 32px;\n",
              "    }\n",
              "\n",
              "    .colab-df-convert:hover {\n",
              "      background-color: #E2EBFA;\n",
              "      box-shadow: 0px 1px 2px rgba(60, 64, 67, 0.3), 0px 1px 3px 1px rgba(60, 64, 67, 0.15);\n",
              "      fill: #174EA6;\n",
              "    }\n",
              "\n",
              "    [theme=dark] .colab-df-convert {\n",
              "      background-color: #3B4455;\n",
              "      fill: #D2E3FC;\n",
              "    }\n",
              "\n",
              "    [theme=dark] .colab-df-convert:hover {\n",
              "      background-color: #434B5C;\n",
              "      box-shadow: 0px 1px 3px 1px rgba(0, 0, 0, 0.15);\n",
              "      filter: drop-shadow(0px 1px 2px rgba(0, 0, 0, 0.3));\n",
              "      fill: #FFFFFF;\n",
              "    }\n",
              "  </style>\n",
              "\n",
              "      <script>\n",
              "        const buttonEl =\n",
              "          document.querySelector('#df-19dc2afc-d008-49f3-9830-caed40665145 button.colab-df-convert');\n",
              "        buttonEl.style.display =\n",
              "          google.colab.kernel.accessAllowed ? 'block' : 'none';\n",
              "\n",
              "        async function convertToInteractive(key) {\n",
              "          const element = document.querySelector('#df-19dc2afc-d008-49f3-9830-caed40665145');\n",
              "          const dataTable =\n",
              "            await google.colab.kernel.invokeFunction('convertToInteractive',\n",
              "                                                     [key], {});\n",
              "          if (!dataTable) return;\n",
              "\n",
              "          const docLinkHtml = 'Like what you see? Visit the ' +\n",
              "            '<a target=\"_blank\" href=https://colab.research.google.com/notebooks/data_table.ipynb>data table notebook</a>'\n",
              "            + ' to learn more about interactive tables.';\n",
              "          element.innerHTML = '';\n",
              "          dataTable['output_type'] = 'display_data';\n",
              "          await google.colab.output.renderOutput(dataTable, element);\n",
              "          const docLink = document.createElement('div');\n",
              "          docLink.innerHTML = docLinkHtml;\n",
              "          element.appendChild(docLink);\n",
              "        }\n",
              "      </script>\n",
              "    </div>\n",
              "  </div>\n",
              "  "
            ],
            "text/plain": [
              "                                         name  ...  n_ingredients\n",
              "0  arriba   baked winter squash mexican style  ...              7\n",
              "1            a bit different  breakfast pizza  ...              6\n",
              "2                   all in the kitchen  chili  ...             13\n",
              "3                          alouette  potatoes  ...             11\n",
              "4          amish  tomato ketchup  for canning  ...              8\n",
              "\n",
              "[5 rows x 12 columns]"
            ]
          },
          "metadata": {},
          "execution_count": 442
        }
      ]
    },
    {
      "cell_type": "code",
      "source": [
        "sample3[\"tokens\"] = sample3['description'].apply(lambda x: word_tokenize(formatting(str(x))))"
      ],
      "metadata": {
        "colab": {
          "base_uri": "https://localhost:8080/"
        },
        "id": "Oa92EAEHLYWB",
        "outputId": "cc1fce14-cc7d-4662-dee7-9cc67f39ac99"
      },
      "execution_count": null,
      "outputs": [
        {
          "output_type": "stream",
          "name": "stderr",
          "text": [
            "/usr/local/lib/python3.7/dist-packages/ipykernel_launcher.py:1: SettingWithCopyWarning: \n",
            "A value is trying to be set on a copy of a slice from a DataFrame.\n",
            "Try using .loc[row_indexer,col_indexer] = value instead\n",
            "\n",
            "See the caveats in the documentation: https://pandas.pydata.org/pandas-docs/stable/user_guide/indexing.html#returning-a-view-versus-a-copy\n",
            "  \"\"\"Entry point for launching an IPython kernel.\n"
          ]
        }
      ]
    },
    {
      "cell_type": "code",
      "source": [
        "sample3[\"tokens\"] = sample3['tokens'].apply(lambda x: non_stopwords(x))"
      ],
      "metadata": {
        "colab": {
          "base_uri": "https://localhost:8080/"
        },
        "id": "J8hdMdlLO7R9",
        "outputId": "79e55386-b042-49a0-b8c7-843ec5cb9bc3"
      },
      "execution_count": null,
      "outputs": [
        {
          "output_type": "stream",
          "name": "stderr",
          "text": [
            "/usr/local/lib/python3.7/dist-packages/ipykernel_launcher.py:1: SettingWithCopyWarning: \n",
            "A value is trying to be set on a copy of a slice from a DataFrame.\n",
            "Try using .loc[row_indexer,col_indexer] = value instead\n",
            "\n",
            "See the caveats in the documentation: https://pandas.pydata.org/pandas-docs/stable/user_guide/indexing.html#returning-a-view-versus-a-copy\n",
            "  \"\"\"Entry point for launching an IPython kernel.\n"
          ]
        }
      ]
    },
    {
      "cell_type": "code",
      "source": [
        "Bigrams = nltk.collocations.BigramCollocationFinder.from_words(sample3['tokens'].sum())\n",
        "print(\"There are {} bigrams in the finder\".format(Bigrams.N))"
      ],
      "metadata": {
        "colab": {
          "base_uri": "https://localhost:8080/"
        },
        "id": "1fASZoorM3XN",
        "outputId": "7b53a3f1-6c84-4b67-f350-0060b8dde084"
      },
      "execution_count": null,
      "outputs": [
        {
          "output_type": "stream",
          "name": "stdout",
          "text": [
            "There are 11077 bigrams in the finder\n"
          ]
        }
      ]
    },
    {
      "cell_type": "code",
      "source": [
        "def bigramScoring(count, wordsTuple, total):\n",
        "    return count\n",
        "\n",
        "print(Bigrams.nbest(bigramScoring, 10))"
      ],
      "metadata": {
        "colab": {
          "base_uri": "https://localhost:8080/"
        },
        "id": "j-YHQs_NNbWQ",
        "outputId": "c930860d-e2bc-4283-bc67-b4cade4567ea"
      },
      "execution_count": null,
      "outputs": [
        {
          "output_type": "stream",
          "name": "stdout",
          "text": [
            "[('easy', 'make'), ('got', 'recipe'), ('years', 'ago'), ('prep', 'time'), ('ice', 'cream'), ('recipe', 'one'), ('comfort', 'food'), ('cook', 'time'), ('found', 'recipe'), ('side', 'dish')]\n"
          ]
        }
      ]
    },
    {
      "cell_type": "code",
      "source": [
        "bigram_measures = nltk.collocations.BigramAssocMeasures()\n",
        "Bigrams.score_ngrams(bigram_measures.student_t)[:40]"
      ],
      "metadata": {
        "colab": {
          "base_uri": "https://localhost:8080/"
        },
        "id": "SNZdmPD_QDRj",
        "outputId": "fbf001ee-7509-4462-c16c-a7907eb69c27"
      },
      "execution_count": null,
      "outputs": [
        {
          "output_type": "execute_result",
          "data": {
            "text/plain": [
              "[(('easy', 'make'), 3.798907646474677),\n",
              " (('years', 'ago'), 3.593532854673698),\n",
              " (('prep', 'time'), 3.4312389858406473),\n",
              " (('got', 'recipe'), 3.328827136767536),\n",
              " (('ice', 'cream'), 3.3035593894889805),\n",
              " (('comfort', 'food'), 2.990069513406157),\n",
              " (('side', 'dish'), 2.9773705275194846),\n",
              " (('cook', 'time'), 2.927025969727062),\n",
              " (('whipped', 'cream'), 2.814383295924213),\n",
              " (('hope', 'enjoy'), 2.8105531607909464),\n",
              " (('time', 'includes'), 2.8005628916516763),\n",
              " (('found', 'recipe'), 2.676657338027745),\n",
              " (('low', 'fat'), 2.6391999723611717),\n",
              " (('feel', 'free'), 2.638244568800256),\n",
              " (('put', 'together'), 2.6337405234416558),\n",
              " (('even', 'better'), 2.6034405819383433),\n",
              " (('recipe', 'came'), 2.5540617780332004),\n",
              " (('tastes', 'like'), 2.544410290496079),\n",
              " (('used', 'make'), 2.4891333701859812),\n",
              " (('original', 'recipe'), 2.4886215468497768),\n",
              " (('sour', 'cream'), 2.439170204882133),\n",
              " (('cream', 'cheese'), 2.3993662729781),\n",
              " (('recipe', 'comes'), 2.325028744598068),\n",
              " (('recipe', 'one'), 2.312142547392771),\n",
              " (('recipe', 'posted'), 2.2458262912075435),\n",
              " (('miracle', 'whip'), 2.2342511848846867),\n",
              " (('crock', 'pot'), 2.2336455873463184),\n",
              " (('chocolate', 'chips'), 2.2227448316556995),\n",
              " (('family', 'loves'), 2.199005408151684),\n",
              " (('every', 'time'), 2.1655764240337856),\n",
              " (('cooking', 'time'), 2.1342468447155616),\n",
              " (('recipe', 'makes'), 2.1326799292210796),\n",
              " (('make', 'sure'), 2.0780070199858116),\n",
              " (('gluten', 'free'), 1.9963889139658753),\n",
              " (('ground', 'beef'), 1.995395865306491),\n",
              " (('secret', 'ingredient'), 1.9950347567030784),\n",
              " (('throw', 'together'), 1.9950347567030784),\n",
              " (('pound', 'cake'), 1.9915139478198067),\n",
              " (('tried', 'yet'), 1.9898889591044506),\n",
              " (('everyone', 'loved'), 1.9888507718696398)]"
            ]
          },
          "metadata": {},
          "execution_count": 447
        }
      ]
    },
    {
      "cell_type": "code",
      "source": [
        "trigram_measures = nltk.collocations.TrigramAssocMeasures()\n",
        "Trigrams = nltk.collocations.TrigramCollocationFinder.from_words(sample3['tokens'].sum())\n",
        "Trigrams.score_ngrams(trigram_measures.student_t)[:20]"
      ],
      "metadata": {
        "colab": {
          "base_uri": "https://localhost:8080/"
        },
        "id": "kS6-p9v1QqEV",
        "outputId": "39b43ebc-4b2f-4bb4-ed90-d02e695c3f9e"
      },
      "execution_count": null,
      "outputs": [
        {
          "output_type": "execute_result",
          "data": {
            "text/plain": [
              "[(('prep', 'time', 'includes'), 2.645716351640904),\n",
              " (('several', 'years', 'ago'), 1.7320259631419395),\n",
              " (('best', 'ever', 'tasted'), 1.7319996176975407),\n",
              " (('hope', 'enjoy', 'much'), 1.7319691221045512),\n",
              " (('time', 'refrigeration', 'time'), 1.731873715740803),\n",
              " (('first', 'time', 'made'), 1.7312456787422708),\n",
              " (('edition', 'contest', 'entry'), 1.414213320331514),\n",
              " (('threw', 'bunch', 'stuff'), 1.4142128708257204),\n",
              " (('special', 'edition', 'contest'), 1.4142128362483517),\n",
              " (('homemade', 'v', 'juice'), 1.4142122945362419),\n",
              " (('artisan', 'bread', 'five'), 1.414211833504659),\n",
              " (('let', 'long', 'list'), 1.4142116260404465),\n",
              " (('cook', 'special', 'edition'), 1.414210969070441),\n",
              " (('chunks', 'tasty', 'crab'), 1.4142101046362228),\n",
              " (('big', 'chunks', 'tasty'), 1.4142097588625355),\n",
              " (('red', 'bell', 'pepper'), 1.4142094476662173),\n",
              " (('red', 'pepper', 'flakes'), 1.4142094476662173),\n",
              " (('ready', 'set', 'cook'), 1.4142083757677868),\n",
              " (('set', 'cook', 'special'), 1.4142083757677868),\n",
              " (('level', 'use', 'tablespoons'), 1.4142075113335688)]"
            ]
          },
          "metadata": {},
          "execution_count": 448
        }
      ]
    },
    {
      "cell_type": "markdown",
      "source": [
        "**These collocations don't seem to be idiomatic. The n-grams used standard English.**\n",
        "\n"
      ],
      "metadata": {
        "id": "amU1QJX5R3ii"
      }
    },
    {
      "cell_type": "markdown",
      "metadata": {
        "id": "kArjcNnemgiS"
      },
      "source": [
        "## <font color=\"red\">*Exercise 5*</font>\n",
        "\n",
        "<font color=\"red\">In the cells immediately following, perform NER on a (modest) subset of your corpus of interest. List all of the different kinds of entities tagged? What does their distribution suggest about the focus of your corpus? For a subset of your corpus, tally at least one type of named entity and calculate the Precision, Recall and F-score for the NER classification just performed."
      ]
    },
    {
      "cell_type": "code",
      "source": [
        "sample5 = df[:500]"
      ],
      "metadata": {
        "id": "XDLe_ifWWuD2"
      },
      "execution_count": null,
      "outputs": []
    },
    {
      "cell_type": "code",
      "source": [
        "descriptions = []\n",
        "for _ in sample5['description'].values:\n",
        "  descriptions.append(re.sub(r'[^a-zA-Z]+', ' ', str(_)))"
      ],
      "metadata": {
        "id": "5YhQFIcLXy0Y"
      },
      "execution_count": null,
      "outputs": []
    },
    {
      "cell_type": "code",
      "source": [
        "descriptions = nlp(str(descriptions))"
      ],
      "metadata": {
        "id": "pK9AzWweYhkR"
      },
      "execution_count": null,
      "outputs": []
    },
    {
      "cell_type": "code",
      "source": [
        "entity = []\n",
        "for ent in descriptions.ents:\n",
        "    entity.append((ent.text, ent.label_))"
      ],
      "metadata": {
        "id": "z12LdMmlZANf"
      },
      "execution_count": null,
      "outputs": []
    },
    {
      "cell_type": "code",
      "source": [
        "entityCounts = {}\n",
        "\n",
        "for ent, kind in entity:\n",
        "    if kind in entityCounts:\n",
        "        entityCounts[kind] += 1\n",
        "    else:\n",
        "        entityCounts[kind] = 1\n",
        "sortedEntities = sorted(entityCounts.items(), key = lambda x: x[1], reverse = True)\n",
        "sortedEntities[:10]"
      ],
      "metadata": {
        "colab": {
          "base_uri": "https://localhost:8080/"
        },
        "id": "k-c4A43RbUwX",
        "outputId": "d2a7e892-64ef-45cd-ee5b-38d4e5744aec"
      },
      "execution_count": null,
      "outputs": [
        {
          "output_type": "execute_result",
          "data": {
            "text/plain": [
              "[('PERSON', 125),\n",
              " ('NORP', 88),\n",
              " ('DATE', 84),\n",
              " ('GPE', 67),\n",
              " ('CARDINAL', 62),\n",
              " ('ORG', 59),\n",
              " ('TIME', 44),\n",
              " ('ORDINAL', 17),\n",
              " ('PRODUCT', 8),\n",
              " ('FAC', 8)]"
            ]
          },
          "metadata": {},
          "execution_count": 265
        }
      ]
    },
    {
      "cell_type": "code",
      "source": [
        "PERSONCounts = []\n",
        "for ent, kind in entity:\n",
        "    if kind == 'PERSON':\n",
        "        PERSONCounts.append(ent)"
      ],
      "metadata": {
        "id": "vcGr41w0iyVF"
      },
      "execution_count": null,
      "outputs": []
    },
    {
      "cell_type": "code",
      "source": [
        "PERSONCounts[:20]"
      ],
      "metadata": {
        "colab": {
          "base_uri": "https://localhost:8080/"
        },
        "id": "-TRVRAOqi90-",
        "outputId": "29904918-b016-45f1-dac1-df6cac9d5c0f"
      },
      "execution_count": null,
      "outputs": [
        {
          "output_type": "execute_result",
          "data": {
            "text/plain": [
              "['mom s chili',\n",
              " \"chef sam choy s cookbook '\",\n",
              " \"ann hodgman s '\",\n",
              " 'bush',\n",
              " 'scott meskan george s',\n",
              " 'mint brownie',\n",
              " 'york peppermint',\n",
              " 'noodles',\n",
              " 'carrot cake',\n",
              " 'stefan',\n",
              " 'emily',\n",
              " 'savoury basil oregano',\n",
              " 'holland michigan',\n",
              " 'yea',\n",
              " 'macaroni salad',\n",
              " 'kbyu s culinary creations',\n",
              " \"mary crafts'\",\n",
              " 'don',\n",
              " 'margarita',\n",
              " 'bbq s potlucks']"
            ]
          },
          "metadata": {},
          "execution_count": 271
        }
      ]
    },
    {
      "cell_type": "code",
      "source": [
        "NORPCounts = []\n",
        "for ent, kind in entity:\n",
        "    if kind == 'NORP':\n",
        "        NORPCounts.append(ent)"
      ],
      "metadata": {
        "id": "hLGhYh-qiR9k"
      },
      "execution_count": null,
      "outputs": []
    },
    {
      "cell_type": "code",
      "source": [
        "NORPCounts[:20]"
      ],
      "metadata": {
        "colab": {
          "base_uri": "https://localhost:8080/"
        },
        "id": "F_txFpLziswj",
        "outputId": "bde23239-e30f-4067-b6bc-9c96e3e4c568"
      },
      "execution_count": null,
      "outputs": [
        {
          "output_type": "execute_result",
          "data": {
            "text/plain": [
              "['mexican',\n",
              " 'amish',\n",
              " 'italian',\n",
              " 'italian',\n",
              " 'swiss',\n",
              " 'mexican',\n",
              " 'broccoli',\n",
              " 'italian',\n",
              " 'italian',\n",
              " 'italian',\n",
              " 'mexican',\n",
              " 'vegetarian',\n",
              " 'asian',\n",
              " 'appetizer',\n",
              " 'french',\n",
              " 'appetizer',\n",
              " 'indonesian',\n",
              " 'mexican',\n",
              " 'indian',\n",
              " 'cantonese']"
            ]
          },
          "metadata": {},
          "execution_count": 272
        }
      ]
    },
    {
      "cell_type": "code",
      "source": [
        "spacy.explain(\"PERSON\")"
      ],
      "metadata": {
        "colab": {
          "base_uri": "https://localhost:8080/",
          "height": 35
        },
        "id": "RWZL_sa4kUFN",
        "outputId": "36439d2e-7b0a-4c0d-c700-56e859e121c3"
      },
      "execution_count": null,
      "outputs": [
        {
          "output_type": "execute_result",
          "data": {
            "application/vnd.google.colaboratory.intrinsic+json": {
              "type": "string"
            },
            "text/plain": [
              "'People, including fictional'"
            ]
          },
          "metadata": {},
          "execution_count": 273
        }
      ]
    },
    {
      "cell_type": "markdown",
      "source": [
        "Initially, I didn't expect the \"person\" category to appear most frequently. However, after taking a closer look, I realize that the person category includes things like the name of the recipes, the brand of ingredients, and the name of the cookbook authors. Thus, it makes sense to be the top 1 category. The next category is the \"nationality\", which indicates the various types of cuisine in the context. It seems that the corpus is pretty inclusive in terms of the cuisines included. "
      ],
      "metadata": {
        "id": "VtP_YyeXkK5u"
      }
    },
    {
      "cell_type": "markdown",
      "metadata": {
        "id": "U53PnVj8mgiW"
      },
      "source": [
        "## <font color=\"red\">*Exercise 6*</font>\n",
        "\n",
        "<font color=\"red\">In the cells immediately following, parse a (modest) subset of your corpus of interest. How deep are the phrase structure and dependency parse trees nested? How does parse depth relate to perceived sentence complexity? What are five things you can extract from these parses for subsequent analysis? (e.g., nouns collocated in a noun phrase; adjectives that modify a noun; etc.) Capture these sets of things for a focal set of words (e.g., \"Bush\", \"Obama\", \"Trump\"). What do they reveal about the roles that these entities are perceive to play in the social world inscribed by your texts?"
      ]
    },
    {
      "cell_type": "code",
      "source": [
        "sample6 = df[:100]"
      ],
      "metadata": {
        "id": "HdDKvsjIq7qZ"
      },
      "execution_count": null,
      "outputs": []
    },
    {
      "cell_type": "code",
      "source": [
        "sample6.head(5)"
      ],
      "metadata": {
        "colab": {
          "base_uri": "https://localhost:8080/",
          "height": 476
        },
        "id": "0gKRIMadzR6b",
        "outputId": "67662783-afac-4d07-8bc4-9bd71251a102"
      },
      "execution_count": null,
      "outputs": [
        {
          "output_type": "execute_result",
          "data": {
            "text/html": [
              "\n",
              "  <div id=\"df-f6f6e4e9-3eca-4c64-9bd5-5fc7ac7084d3\">\n",
              "    <div class=\"colab-df-container\">\n",
              "      <div>\n",
              "<style scoped>\n",
              "    .dataframe tbody tr th:only-of-type {\n",
              "        vertical-align: middle;\n",
              "    }\n",
              "\n",
              "    .dataframe tbody tr th {\n",
              "        vertical-align: top;\n",
              "    }\n",
              "\n",
              "    .dataframe thead th {\n",
              "        text-align: right;\n",
              "    }\n",
              "</style>\n",
              "<table border=\"1\" class=\"dataframe\">\n",
              "  <thead>\n",
              "    <tr style=\"text-align: right;\">\n",
              "      <th></th>\n",
              "      <th>name</th>\n",
              "      <th>id</th>\n",
              "      <th>minutes</th>\n",
              "      <th>contributor_id</th>\n",
              "      <th>submitted</th>\n",
              "      <th>tags</th>\n",
              "      <th>nutrition</th>\n",
              "      <th>n_steps</th>\n",
              "      <th>steps</th>\n",
              "      <th>description</th>\n",
              "      <th>ingredients</th>\n",
              "      <th>n_ingredients</th>\n",
              "    </tr>\n",
              "  </thead>\n",
              "  <tbody>\n",
              "    <tr>\n",
              "      <th>0</th>\n",
              "      <td>arriba   baked winter squash mexican style</td>\n",
              "      <td>137739</td>\n",
              "      <td>55</td>\n",
              "      <td>47892</td>\n",
              "      <td>2005-09-16</td>\n",
              "      <td>['60-minutes-or-less', 'time-to-make', 'course...</td>\n",
              "      <td>[51.5, 0.0, 13.0, 0.0, 2.0, 0.0, 4.0]</td>\n",
              "      <td>11</td>\n",
              "      <td>['make a choice and proceed with recipe', 'dep...</td>\n",
              "      <td>autumn is my favorite time of year to cook! th...</td>\n",
              "      <td>['winter squash', 'mexican seasoning', 'mixed ...</td>\n",
              "      <td>7</td>\n",
              "    </tr>\n",
              "    <tr>\n",
              "      <th>1</th>\n",
              "      <td>a bit different  breakfast pizza</td>\n",
              "      <td>31490</td>\n",
              "      <td>30</td>\n",
              "      <td>26278</td>\n",
              "      <td>2002-06-17</td>\n",
              "      <td>['30-minutes-or-less', 'time-to-make', 'course...</td>\n",
              "      <td>[173.4, 18.0, 0.0, 17.0, 22.0, 35.0, 1.0]</td>\n",
              "      <td>9</td>\n",
              "      <td>['preheat oven to 425 degrees f', 'press dough...</td>\n",
              "      <td>this recipe calls for the crust to be prebaked...</td>\n",
              "      <td>['prepared pizza crust', 'sausage patty', 'egg...</td>\n",
              "      <td>6</td>\n",
              "    </tr>\n",
              "    <tr>\n",
              "      <th>2</th>\n",
              "      <td>all in the kitchen  chili</td>\n",
              "      <td>112140</td>\n",
              "      <td>130</td>\n",
              "      <td>196586</td>\n",
              "      <td>2005-02-25</td>\n",
              "      <td>['time-to-make', 'course', 'preparation', 'mai...</td>\n",
              "      <td>[269.8, 22.0, 32.0, 48.0, 39.0, 27.0, 5.0]</td>\n",
              "      <td>6</td>\n",
              "      <td>['brown ground beef in large pot', 'add choppe...</td>\n",
              "      <td>this modified version of 'mom's' chili was a h...</td>\n",
              "      <td>['ground beef', 'yellow onions', 'diced tomato...</td>\n",
              "      <td>13</td>\n",
              "    </tr>\n",
              "    <tr>\n",
              "      <th>3</th>\n",
              "      <td>alouette  potatoes</td>\n",
              "      <td>59389</td>\n",
              "      <td>45</td>\n",
              "      <td>68585</td>\n",
              "      <td>2003-04-14</td>\n",
              "      <td>['60-minutes-or-less', 'time-to-make', 'course...</td>\n",
              "      <td>[368.1, 17.0, 10.0, 2.0, 14.0, 8.0, 20.0]</td>\n",
              "      <td>11</td>\n",
              "      <td>['place potatoes in a large pot of lightly sal...</td>\n",
              "      <td>this is a super easy, great tasting, make ahea...</td>\n",
              "      <td>['spreadable cheese with garlic and herbs', 'n...</td>\n",
              "      <td>11</td>\n",
              "    </tr>\n",
              "    <tr>\n",
              "      <th>4</th>\n",
              "      <td>amish  tomato ketchup  for canning</td>\n",
              "      <td>44061</td>\n",
              "      <td>190</td>\n",
              "      <td>41706</td>\n",
              "      <td>2002-10-25</td>\n",
              "      <td>['weeknight', 'time-to-make', 'course', 'main-...</td>\n",
              "      <td>[352.9, 1.0, 337.0, 23.0, 3.0, 0.0, 28.0]</td>\n",
              "      <td>5</td>\n",
              "      <td>['mix all ingredients&amp; boil for 2 1 / 2 hours ...</td>\n",
              "      <td>my dh's amish mother raised him on this recipe...</td>\n",
              "      <td>['tomato juice', 'apple cider vinegar', 'sugar...</td>\n",
              "      <td>8</td>\n",
              "    </tr>\n",
              "  </tbody>\n",
              "</table>\n",
              "</div>\n",
              "      <button class=\"colab-df-convert\" onclick=\"convertToInteractive('df-f6f6e4e9-3eca-4c64-9bd5-5fc7ac7084d3')\"\n",
              "              title=\"Convert this dataframe to an interactive table.\"\n",
              "              style=\"display:none;\">\n",
              "        \n",
              "  <svg xmlns=\"http://www.w3.org/2000/svg\" height=\"24px\"viewBox=\"0 0 24 24\"\n",
              "       width=\"24px\">\n",
              "    <path d=\"M0 0h24v24H0V0z\" fill=\"none\"/>\n",
              "    <path d=\"M18.56 5.44l.94 2.06.94-2.06 2.06-.94-2.06-.94-.94-2.06-.94 2.06-2.06.94zm-11 1L8.5 8.5l.94-2.06 2.06-.94-2.06-.94L8.5 2.5l-.94 2.06-2.06.94zm10 10l.94 2.06.94-2.06 2.06-.94-2.06-.94-.94-2.06-.94 2.06-2.06.94z\"/><path d=\"M17.41 7.96l-1.37-1.37c-.4-.4-.92-.59-1.43-.59-.52 0-1.04.2-1.43.59L10.3 9.45l-7.72 7.72c-.78.78-.78 2.05 0 2.83L4 21.41c.39.39.9.59 1.41.59.51 0 1.02-.2 1.41-.59l7.78-7.78 2.81-2.81c.8-.78.8-2.07 0-2.86zM5.41 20L4 18.59l7.72-7.72 1.47 1.35L5.41 20z\"/>\n",
              "  </svg>\n",
              "      </button>\n",
              "      \n",
              "  <style>\n",
              "    .colab-df-container {\n",
              "      display:flex;\n",
              "      flex-wrap:wrap;\n",
              "      gap: 12px;\n",
              "    }\n",
              "\n",
              "    .colab-df-convert {\n",
              "      background-color: #E8F0FE;\n",
              "      border: none;\n",
              "      border-radius: 50%;\n",
              "      cursor: pointer;\n",
              "      display: none;\n",
              "      fill: #1967D2;\n",
              "      height: 32px;\n",
              "      padding: 0 0 0 0;\n",
              "      width: 32px;\n",
              "    }\n",
              "\n",
              "    .colab-df-convert:hover {\n",
              "      background-color: #E2EBFA;\n",
              "      box-shadow: 0px 1px 2px rgba(60, 64, 67, 0.3), 0px 1px 3px 1px rgba(60, 64, 67, 0.15);\n",
              "      fill: #174EA6;\n",
              "    }\n",
              "\n",
              "    [theme=dark] .colab-df-convert {\n",
              "      background-color: #3B4455;\n",
              "      fill: #D2E3FC;\n",
              "    }\n",
              "\n",
              "    [theme=dark] .colab-df-convert:hover {\n",
              "      background-color: #434B5C;\n",
              "      box-shadow: 0px 1px 3px 1px rgba(0, 0, 0, 0.15);\n",
              "      filter: drop-shadow(0px 1px 2px rgba(0, 0, 0, 0.3));\n",
              "      fill: #FFFFFF;\n",
              "    }\n",
              "  </style>\n",
              "\n",
              "      <script>\n",
              "        const buttonEl =\n",
              "          document.querySelector('#df-f6f6e4e9-3eca-4c64-9bd5-5fc7ac7084d3 button.colab-df-convert');\n",
              "        buttonEl.style.display =\n",
              "          google.colab.kernel.accessAllowed ? 'block' : 'none';\n",
              "\n",
              "        async function convertToInteractive(key) {\n",
              "          const element = document.querySelector('#df-f6f6e4e9-3eca-4c64-9bd5-5fc7ac7084d3');\n",
              "          const dataTable =\n",
              "            await google.colab.kernel.invokeFunction('convertToInteractive',\n",
              "                                                     [key], {});\n",
              "          if (!dataTable) return;\n",
              "\n",
              "          const docLinkHtml = 'Like what you see? Visit the ' +\n",
              "            '<a target=\"_blank\" href=https://colab.research.google.com/notebooks/data_table.ipynb>data table notebook</a>'\n",
              "            + ' to learn more about interactive tables.';\n",
              "          element.innerHTML = '';\n",
              "          dataTable['output_type'] = 'display_data';\n",
              "          await google.colab.output.renderOutput(dataTable, element);\n",
              "          const docLink = document.createElement('div');\n",
              "          docLink.innerHTML = docLinkHtml;\n",
              "          element.appendChild(docLink);\n",
              "        }\n",
              "      </script>\n",
              "    </div>\n",
              "  </div>\n",
              "  "
            ],
            "text/plain": [
              "                                         name  ...  n_ingredients\n",
              "0  arriba   baked winter squash mexican style  ...              7\n",
              "1            a bit different  breakfast pizza  ...              6\n",
              "2                   all in the kitchen  chili  ...             13\n",
              "3                          alouette  potatoes  ...             11\n",
              "4          amish  tomato ketchup  for canning  ...              8\n",
              "\n",
              "[5 rows x 12 columns]"
            ]
          },
          "metadata": {},
          "execution_count": 299
        }
      ]
    },
    {
      "cell_type": "code",
      "source": [
        "corpus = []\n",
        "for _ in sample6['description'].values:\n",
        "  corpus.append(re.sub(r'[^a-zA-Z]+', ' ', str(_)))\n",
        "\n",
        "corpus = nlp(str(corpus))"
      ],
      "metadata": {
        "id": "CPmd6cn9q7qa"
      },
      "execution_count": null,
      "outputs": []
    },
    {
      "cell_type": "code",
      "source": [
        "from spacy.symbols import nsubj, VERB"
      ],
      "metadata": {
        "id": "ChkcTO5psOtR"
      },
      "execution_count": null,
      "outputs": []
    },
    {
      "cell_type": "code",
      "source": [
        "verbs = set()\n",
        "for possible_subject in corpus:\n",
        "    if possible_subject.dep == nsubj and possible_subject.head.pos == VERB:\n",
        "        verbs.add(possible_subject.head)\n",
        "print(verbs)"
      ],
      "metadata": {
        "colab": {
          "base_uri": "https://localhost:8080/"
        },
        "id": "29LYKFb7sPvw",
        "outputId": "12f7444b-6c64-4001-dc4a-1b1480853fce"
      },
      "execution_count": null,
      "outputs": [
        {
          "output_type": "stream",
          "name": "stdout",
          "text": [
            "{says, s, tried, decided, tell, comes, meant, give, recommend, says, m, make, make, hope, feel, like, recognizes, like, watched, made, couldn, came, made, served, allows, sounds, loves, saw, found, visited, used, made, whipped, hold, eats, serve, raised, requested, s, slaved, liked, loves, hope, know, tasted, substitute, won, heat, love, tried, made, made, got, gives, cut, include, made, found, came, prefer, think, got, gave, put, enjoy, produces, takes, sounds, chopped, made, prove, s, loved, made, decided, uses, enjoyed, bake, works, tasted, s, loves, brought, fed, love, seem, loves, contains, found, made, hope, contains, use, like, could, disappoint, liked, love, decided, made, think, halve, apologize, depends, ask, loved, know, guessing, looks, make, started, threw, sounds, re, picked, get, think, works, calls, makes, get, seems, expecting, help, s, whip, makes, got, spent, prefers, reflects, couldn, find, say, used, going, getting, want, don, cut, knows, enjoy, works, passed, turns, got, adds, feel, made, creates, making, use, made, serve, like, made, enjoyed, adds, won, made, comes, increased, made, liked, came, printed, cook, sprinkled, s, makes, play, enjoy, would, smelled, keep, revamped, love, thin, had, having, packs, came, turned, came, ask, made, found, love, liked, hadn, take, wrote, enjoy, call, turn, re, came, s, s, brought, tried, stand, takes, think, missing, loves, melt, reflect, made, choose, named}\n"
          ]
        }
      ]
    },
    {
      "cell_type": "code",
      "source": [
        "freq = {}\n",
        "for chunk in corpus.noun_chunks:\n",
        "  if chunk.root.head.text not in freq.keys():\n",
        "    freq[chunk.root.head.text] = 1\n",
        "  else:\n",
        "    freq[chunk.root.head.text] += 1"
      ],
      "metadata": {
        "id": "Q-ieXDye5dAw"
      },
      "execution_count": null,
      "outputs": []
    },
    {
      "cell_type": "code",
      "source": [
        "subj = []\n",
        "obj = []\n",
        "for chunk in corpus.noun_chunks:\n",
        "        subject = 0\n",
        "        object_ = 0\n",
        "\n",
        "        if chunk.root.head.text == 'like':\n",
        "          \n",
        "            if chunk.root.dep_ == 'nsubj':\n",
        "                subject = chunk.root.text\n",
        "            if chunk.root.dep_ == 'dobj':\n",
        "                object_ = chunk.root.text\n",
        "            if subject is not 0:\n",
        "                subj.append(subject)\n",
        "            if object_ is not 0:\n",
        "                obj.append(object_)\n",
        "  \n",
        "print(subj,obj)"
      ],
      "metadata": {
        "colab": {
          "base_uri": "https://localhost:8080/"
        },
        "id": "N-Ozg2551dhI",
        "outputId": "4121c051-7859-4777-efe1-0473a541b9b6"
      },
      "execution_count": null,
      "outputs": [
        {
          "output_type": "stream",
          "name": "stdout",
          "text": [
            "['i', 'i', 'you', 'you', 'kids'] ['them', 'it', 'cheesecake', 'it']\n"
          ]
        }
      ]
    },
    {
      "cell_type": "code",
      "source": [
        "subj = []\n",
        "obj = []\n",
        "for chunk in corpus.noun_chunks:\n",
        "        subject = 0\n",
        "        object_ = 0\n",
        "\n",
        "        if chunk.root.head.text == 'made':\n",
        "          \n",
        "            if chunk.root.dep_ == 'nsubj':\n",
        "                subject = chunk.root.text\n",
        "            if chunk.root.dep_ == 'dobj':\n",
        "                object_ = chunk.root.text\n",
        "            if subject is not 0:\n",
        "                subj.append(subject)\n",
        "            if object_ is not 0:\n",
        "                obj.append(object_)\n",
        "\n",
        "print(subj,obj)"
      ],
      "metadata": {
        "colab": {
          "base_uri": "https://localhost:8080/"
        },
        "id": "JueK09y73mz3",
        "outputId": "ab585dc6-e74f-4542-a5cb-44b444a5b33a"
      },
      "execution_count": null,
      "outputs": [
        {
          "output_type": "stream",
          "name": "stdout",
          "text": [
            "['we', 'it', 'husband', 'brother', 'friend', 'sister', 'i', 've', 'i', 'i', 'i', 'i', 'i', 've', 'i', 'we', 'i'] ['pot', 'it', 'it', 'it', 'brownies', 'changes']\n"
          ]
        }
      ]
    },
    {
      "cell_type": "code",
      "source": [
        "subj = []\n",
        "obj = []\n",
        "for chunk in corpus.noun_chunks:\n",
        "        subject = 0\n",
        "        object_ = 0\n",
        "\n",
        "        if chunk.root.head.text == 'visited':\n",
        "          \n",
        "            if chunk.root.dep_ == 'nsubj':\n",
        "                subject = chunk.root.text\n",
        "            if chunk.root.dep_ == 'dobj':\n",
        "                object_ = chunk.root.text\n",
        "            if subject is not 0:\n",
        "                subj.append(subject)\n",
        "            if object_ is not 0:\n",
        "                obj.append(object_)\n",
        "print(subj,obj)        "
      ],
      "metadata": {
        "colab": {
          "base_uri": "https://localhost:8080/"
        },
        "id": "vPOAdlSYA9Pc",
        "outputId": "b61ffbfc-4b94-418d-960d-27de170b872e"
      },
      "execution_count": null,
      "outputs": [
        {
          "output_type": "stream",
          "name": "stdout",
          "text": [
            "['we'] ['restaurant']\n"
          ]
        }
      ]
    },
    {
      "cell_type": "code",
      "source": [
        "subj = []\n",
        "obj = []\n",
        "for chunk in corpus.noun_chunks:\n",
        "        subject = 0\n",
        "        object_ = 0\n",
        "\n",
        "        if chunk.root.head.text == 'give':\n",
        "          \n",
        "            if chunk.root.dep_ == 'nsubj':\n",
        "                subject = chunk.root.text\n",
        "            if chunk.root.dep_ == 'dobj':\n",
        "                object_ = chunk.root.text\n",
        "            if subject is not 0:\n",
        "                subj.append(subject)\n",
        "            if object_ is not 0:\n",
        "                obj.append(object_)\n",
        "print(subj,obj)"
      ],
      "metadata": {
        "colab": {
          "base_uri": "https://localhost:8080/"
        },
        "id": "yIBZ71DkBYTW",
        "outputId": "dda0080c-0064-490a-dcbc-c0e3d29038e1"
      },
      "execution_count": null,
      "outputs": [
        {
          "output_type": "stream",
          "name": "stdout",
          "text": [
            "['i'] ['word', 'crunch']\n"
          ]
        }
      ]
    },
    {
      "cell_type": "code",
      "source": [
        "subj = []\n",
        "obj = []\n",
        "for chunk in corpus.noun_chunks:\n",
        "        subject = 0\n",
        "        object_ = 0\n",
        "\n",
        "        if chunk.root.head.text == 'cook':\n",
        "          \n",
        "            if chunk.root.dep_ == 'nsubj':\n",
        "                subject = chunk.root.text\n",
        "            if chunk.root.dep_ == 'dobj':\n",
        "                object_ = chunk.root.text\n",
        "            if subject is not 0:\n",
        "                subj.append(subject)\n",
        "            if object_ is not 0:\n",
        "                obj.append(object_)\n",
        "print(subj,obj)"
      ],
      "metadata": {
        "colab": {
          "base_uri": "https://localhost:8080/"
        },
        "id": "ns97N8x1BbGo",
        "outputId": "b68e8af5-0726-4011-c39f-a38c0df44280"
      },
      "execution_count": null,
      "outputs": [
        {
          "output_type": "stream",
          "name": "stdout",
          "text": [
            "['others'] ['recipe', 'meat', 'chicken']\n"
          ]
        }
      ]
    }
  ],
  "metadata": {
    "anaconda-cloud": {},
    "kernelspec": {
      "display_name": "Python 3 (ipykernel)",
      "language": "python",
      "name": "python3"
    },
    "language_info": {
      "codemirror_mode": {
        "name": "ipython",
        "version": 3
      },
      "file_extension": ".py",
      "mimetype": "text/x-python",
      "name": "python",
      "nbconvert_exporter": "python",
      "pygments_lexer": "ipython3",
      "version": "3.8.8"
    },
    "colab": {
      "name": "HW2 Submit.ipynb",
      "provenance": [],
      "collapsed_sections": []
    }
  },
  "nbformat": 4,
  "nbformat_minor": 0
}